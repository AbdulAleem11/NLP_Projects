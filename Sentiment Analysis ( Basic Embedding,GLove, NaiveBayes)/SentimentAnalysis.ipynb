{
  "nbformat": 4,
  "nbformat_minor": 0,
  "metadata": {
    "colab": {
      "provenance": []
    },
    "kernelspec": {
      "name": "python3",
      "display_name": "Python 3"
    },
    "language_info": {
      "name": "python"
    },
    "accelerator": "GPU",
    "gpuClass": "standard"
  },
  "cells": [
    {
      "cell_type": "markdown",
      "source": [
        "References: https://blog.paperspace.com/pre-trained-word-embeddings-natural-language-processing/"
      ],
      "metadata": {
        "id": "ctLqOA3XrpLX"
      }
    },
    {
      "cell_type": "code",
      "execution_count": 1,
      "metadata": {
        "id": "gEr3DIG2Lr-D"
      },
      "outputs": [],
      "source": [
        "import re #Regex library for cleaning the tweets and removing any punctuations as hashtags are quite common in tweets which are not of much use\n",
        "import string  # For performing operations on strings\n",
        "from nltk.corpus import stopwords # To remove any unnecessary qords\n",
        "from nltk.stem import PorterStemmer # To get the root word\n",
        "from nltk.tokenize import TweetTokenizer # To break the sentences into words\n",
        "import numpy as np # For Mathematical computations and array operations\n",
        "import pandas as pd  #Perform operations on dataset"
      ]
    },
    {
      "cell_type": "code",
      "source": [
        "df=pd.read_csv('deforestation_sentiment_train.csv')"
      ],
      "metadata": {
        "id": "KHNzs0oGMVSt"
      },
      "execution_count": 2,
      "outputs": []
    },
    {
      "cell_type": "code",
      "source": [
        "df.shape"
      ],
      "metadata": {
        "colab": {
          "base_uri": "https://localhost:8080/"
        },
        "id": "gkThCYB9MWZA",
        "outputId": "35c1194d-8b12-416c-c9b8-31a7f1b6db0d"
      },
      "execution_count": 3,
      "outputs": [
        {
          "output_type": "execute_result",
          "data": {
            "text/plain": [
              "(939, 20)"
            ]
          },
          "metadata": {},
          "execution_count": 3
        }
      ]
    },
    {
      "cell_type": "code",
      "source": [
        "df.head()"
      ],
      "metadata": {
        "colab": {
          "base_uri": "https://localhost:8080/",
          "height": 583
        },
        "id": "uIhFwX-YMyBY",
        "outputId": "c2dea261-b73b-4d9c-cf7a-66cdb6a61c31"
      },
      "execution_count": 4,
      "outputs": [
        {
          "output_type": "execute_result",
          "data": {
            "text/plain": [
              "   Unnamed: 0                   id  \\\n",
              "0      253291  1359216214875262980   \n",
              "1      253283  1359691122985947137   \n",
              "2      253280  1359697180987183105   \n",
              "3      253268  1359718063994667009   \n",
              "4      253260  1359734007731269632   \n",
              "\n",
              "                                                text        user_name  \\\n",
              "0  three palm oil firms were responsible for a qu...  hoteldealphuket   \n",
              "1  despicable #brazil govt using #pandemic as cov...       PhelimKine   \n",
              "2  🌳🍂🌳impacto humano no #desmatamento / \\nhuman i...        isis_0726   \n",
              "3  deforestation will be the end of the human rac...   AmanzWillieONE   \n",
              "4  @_wrong_guy_ @zerohedge no other codes nowdays...     GordonGecko3   \n",
              "\n",
              "                                    user_description user_location  \\\n",
              "0  Phuket Hotel Deals offers Phuket property for ...        Phuket   \n",
              "1  Senior Director Asia @StandMighty @TeamWaxman;...  Asia Pacific   \n",
              "2  ☮⏳🌍🌎🌏O erro da ética tem sido a crença de que ...           NaN   \n",
              "3  Sincerity, Awards winner, Crusading Climate an...       Africa.   \n",
              "4  Gold/Silver/Oil/Uranium-Bug\\nhttps://t.co/AZNz...     Worldwide   \n",
              "\n",
              "   user_following  user_followers  tweets_by_user      user_created_at  \\\n",
              "0              53             288           63131  2013-10-23 01:50:59   \n",
              "1            1326           19024           53843  2011-09-16 07:06:02   \n",
              "2             115              31            3724  2019-10-27 21:15:12   \n",
              "3             889             627            3357  2018-11-11 03:14:22   \n",
              "4             896             242            9518  2011-08-13 20:41:04   \n",
              "\n",
              "         tweet_created  retweets  likes  \\\n",
              "0  2021-02-09 19:02:53         0      0   \n",
              "1  2021-02-11 02:30:00         0      2   \n",
              "2  2021-02-11 02:54:04         0      0   \n",
              "3  2021-02-11 04:17:03         1      2   \n",
              "4  2021-02-11 05:20:24         0      1   \n",
              "\n",
              "                                            hashtags  \\\n",
              "0  [{'text': 'animal_rehabilitation', 'indices': ...   \n",
              "1  [{'text': 'Brazil', 'indices': [12, 19]}, {'te...   \n",
              "2  [{'text': 'desmatamento', 'indices': [21, 34]}...   \n",
              "3                                                 []   \n",
              "4                                                 []   \n",
              "\n",
              "                                               media  \\\n",
              "0     http://pbs.twimg.com/media/Etzn8WuXIAAZ2ju.jpg   \n",
              "1     http://pbs.twimg.com/media/Et4nD6zXMAMTg2V.jpg   \n",
              "2     http://pbs.twimg.com/media/Et6dYS4WQAAoNul.jpg   \n",
              "3     http://pbs.twimg.com/media/Et6wX0HUYAUrGlg.jpg   \n",
              "4  http://pbs.twimg.com/tweet_video_thumb/Et6-3nx...   \n",
              "\n",
              "                      search_term           emojis sentiments_list  \\\n",
              "0  deforestation -filter:retweets              NaN             NaN   \n",
              "1  deforestation -filter:retweets              NaN             NaN   \n",
              "2  deforestation -filter:retweets  {'🌳', '❌', '🍂'}     {'neutral'}   \n",
              "3  deforestation -filter:retweets              NaN             NaN   \n",
              "4  deforestation -filter:retweets            {'😉'}    {'positive'}   \n",
              "\n",
              "  revised_sentiment  distillbert_valence  \n",
              "0          negative            -0.992038  \n",
              "1          negative            -0.997723  \n",
              "2          negative            -0.973575  \n",
              "3          negative            -0.963673  \n",
              "4          negative            -0.995930  "
            ],
            "text/html": [
              "\n",
              "  <div id=\"df-20eb9ac8-3b5e-499f-8a08-b4010edca75e\">\n",
              "    <div class=\"colab-df-container\">\n",
              "      <div>\n",
              "<style scoped>\n",
              "    .dataframe tbody tr th:only-of-type {\n",
              "        vertical-align: middle;\n",
              "    }\n",
              "\n",
              "    .dataframe tbody tr th {\n",
              "        vertical-align: top;\n",
              "    }\n",
              "\n",
              "    .dataframe thead th {\n",
              "        text-align: right;\n",
              "    }\n",
              "</style>\n",
              "<table border=\"1\" class=\"dataframe\">\n",
              "  <thead>\n",
              "    <tr style=\"text-align: right;\">\n",
              "      <th></th>\n",
              "      <th>Unnamed: 0</th>\n",
              "      <th>id</th>\n",
              "      <th>text</th>\n",
              "      <th>user_name</th>\n",
              "      <th>user_description</th>\n",
              "      <th>user_location</th>\n",
              "      <th>user_following</th>\n",
              "      <th>user_followers</th>\n",
              "      <th>tweets_by_user</th>\n",
              "      <th>user_created_at</th>\n",
              "      <th>tweet_created</th>\n",
              "      <th>retweets</th>\n",
              "      <th>likes</th>\n",
              "      <th>hashtags</th>\n",
              "      <th>media</th>\n",
              "      <th>search_term</th>\n",
              "      <th>emojis</th>\n",
              "      <th>sentiments_list</th>\n",
              "      <th>revised_sentiment</th>\n",
              "      <th>distillbert_valence</th>\n",
              "    </tr>\n",
              "  </thead>\n",
              "  <tbody>\n",
              "    <tr>\n",
              "      <th>0</th>\n",
              "      <td>253291</td>\n",
              "      <td>1359216214875262980</td>\n",
              "      <td>three palm oil firms were responsible for a qu...</td>\n",
              "      <td>hoteldealphuket</td>\n",
              "      <td>Phuket Hotel Deals offers Phuket property for ...</td>\n",
              "      <td>Phuket</td>\n",
              "      <td>53</td>\n",
              "      <td>288</td>\n",
              "      <td>63131</td>\n",
              "      <td>2013-10-23 01:50:59</td>\n",
              "      <td>2021-02-09 19:02:53</td>\n",
              "      <td>0</td>\n",
              "      <td>0</td>\n",
              "      <td>[{'text': 'animal_rehabilitation', 'indices': ...</td>\n",
              "      <td>http://pbs.twimg.com/media/Etzn8WuXIAAZ2ju.jpg</td>\n",
              "      <td>deforestation -filter:retweets</td>\n",
              "      <td>NaN</td>\n",
              "      <td>NaN</td>\n",
              "      <td>negative</td>\n",
              "      <td>-0.992038</td>\n",
              "    </tr>\n",
              "    <tr>\n",
              "      <th>1</th>\n",
              "      <td>253283</td>\n",
              "      <td>1359691122985947137</td>\n",
              "      <td>despicable #brazil govt using #pandemic as cov...</td>\n",
              "      <td>PhelimKine</td>\n",
              "      <td>Senior Director Asia @StandMighty @TeamWaxman;...</td>\n",
              "      <td>Asia Pacific</td>\n",
              "      <td>1326</td>\n",
              "      <td>19024</td>\n",
              "      <td>53843</td>\n",
              "      <td>2011-09-16 07:06:02</td>\n",
              "      <td>2021-02-11 02:30:00</td>\n",
              "      <td>0</td>\n",
              "      <td>2</td>\n",
              "      <td>[{'text': 'Brazil', 'indices': [12, 19]}, {'te...</td>\n",
              "      <td>http://pbs.twimg.com/media/Et4nD6zXMAMTg2V.jpg</td>\n",
              "      <td>deforestation -filter:retweets</td>\n",
              "      <td>NaN</td>\n",
              "      <td>NaN</td>\n",
              "      <td>negative</td>\n",
              "      <td>-0.997723</td>\n",
              "    </tr>\n",
              "    <tr>\n",
              "      <th>2</th>\n",
              "      <td>253280</td>\n",
              "      <td>1359697180987183105</td>\n",
              "      <td>🌳🍂🌳impacto humano no #desmatamento / \\nhuman i...</td>\n",
              "      <td>isis_0726</td>\n",
              "      <td>☮⏳🌍🌎🌏O erro da ética tem sido a crença de que ...</td>\n",
              "      <td>NaN</td>\n",
              "      <td>115</td>\n",
              "      <td>31</td>\n",
              "      <td>3724</td>\n",
              "      <td>2019-10-27 21:15:12</td>\n",
              "      <td>2021-02-11 02:54:04</td>\n",
              "      <td>0</td>\n",
              "      <td>0</td>\n",
              "      <td>[{'text': 'desmatamento', 'indices': [21, 34]}...</td>\n",
              "      <td>http://pbs.twimg.com/media/Et6dYS4WQAAoNul.jpg</td>\n",
              "      <td>deforestation -filter:retweets</td>\n",
              "      <td>{'🌳', '❌', '🍂'}</td>\n",
              "      <td>{'neutral'}</td>\n",
              "      <td>negative</td>\n",
              "      <td>-0.973575</td>\n",
              "    </tr>\n",
              "    <tr>\n",
              "      <th>3</th>\n",
              "      <td>253268</td>\n",
              "      <td>1359718063994667009</td>\n",
              "      <td>deforestation will be the end of the human rac...</td>\n",
              "      <td>AmanzWillieONE</td>\n",
              "      <td>Sincerity, Awards winner, Crusading Climate an...</td>\n",
              "      <td>Africa.</td>\n",
              "      <td>889</td>\n",
              "      <td>627</td>\n",
              "      <td>3357</td>\n",
              "      <td>2018-11-11 03:14:22</td>\n",
              "      <td>2021-02-11 04:17:03</td>\n",
              "      <td>1</td>\n",
              "      <td>2</td>\n",
              "      <td>[]</td>\n",
              "      <td>http://pbs.twimg.com/media/Et6wX0HUYAUrGlg.jpg</td>\n",
              "      <td>deforestation -filter:retweets</td>\n",
              "      <td>NaN</td>\n",
              "      <td>NaN</td>\n",
              "      <td>negative</td>\n",
              "      <td>-0.963673</td>\n",
              "    </tr>\n",
              "    <tr>\n",
              "      <th>4</th>\n",
              "      <td>253260</td>\n",
              "      <td>1359734007731269632</td>\n",
              "      <td>@_wrong_guy_ @zerohedge no other codes nowdays...</td>\n",
              "      <td>GordonGecko3</td>\n",
              "      <td>Gold/Silver/Oil/Uranium-Bug\\nhttps://t.co/AZNz...</td>\n",
              "      <td>Worldwide</td>\n",
              "      <td>896</td>\n",
              "      <td>242</td>\n",
              "      <td>9518</td>\n",
              "      <td>2011-08-13 20:41:04</td>\n",
              "      <td>2021-02-11 05:20:24</td>\n",
              "      <td>0</td>\n",
              "      <td>1</td>\n",
              "      <td>[]</td>\n",
              "      <td>http://pbs.twimg.com/tweet_video_thumb/Et6-3nx...</td>\n",
              "      <td>deforestation -filter:retweets</td>\n",
              "      <td>{'😉'}</td>\n",
              "      <td>{'positive'}</td>\n",
              "      <td>negative</td>\n",
              "      <td>-0.995930</td>\n",
              "    </tr>\n",
              "  </tbody>\n",
              "</table>\n",
              "</div>\n",
              "      <button class=\"colab-df-convert\" onclick=\"convertToInteractive('df-20eb9ac8-3b5e-499f-8a08-b4010edca75e')\"\n",
              "              title=\"Convert this dataframe to an interactive table.\"\n",
              "              style=\"display:none;\">\n",
              "        \n",
              "  <svg xmlns=\"http://www.w3.org/2000/svg\" height=\"24px\"viewBox=\"0 0 24 24\"\n",
              "       width=\"24px\">\n",
              "    <path d=\"M0 0h24v24H0V0z\" fill=\"none\"/>\n",
              "    <path d=\"M18.56 5.44l.94 2.06.94-2.06 2.06-.94-2.06-.94-.94-2.06-.94 2.06-2.06.94zm-11 1L8.5 8.5l.94-2.06 2.06-.94-2.06-.94L8.5 2.5l-.94 2.06-2.06.94zm10 10l.94 2.06.94-2.06 2.06-.94-2.06-.94-.94-2.06-.94 2.06-2.06.94z\"/><path d=\"M17.41 7.96l-1.37-1.37c-.4-.4-.92-.59-1.43-.59-.52 0-1.04.2-1.43.59L10.3 9.45l-7.72 7.72c-.78.78-.78 2.05 0 2.83L4 21.41c.39.39.9.59 1.41.59.51 0 1.02-.2 1.41-.59l7.78-7.78 2.81-2.81c.8-.78.8-2.07 0-2.86zM5.41 20L4 18.59l7.72-7.72 1.47 1.35L5.41 20z\"/>\n",
              "  </svg>\n",
              "      </button>\n",
              "      \n",
              "  <style>\n",
              "    .colab-df-container {\n",
              "      display:flex;\n",
              "      flex-wrap:wrap;\n",
              "      gap: 12px;\n",
              "    }\n",
              "\n",
              "    .colab-df-convert {\n",
              "      background-color: #E8F0FE;\n",
              "      border: none;\n",
              "      border-radius: 50%;\n",
              "      cursor: pointer;\n",
              "      display: none;\n",
              "      fill: #1967D2;\n",
              "      height: 32px;\n",
              "      padding: 0 0 0 0;\n",
              "      width: 32px;\n",
              "    }\n",
              "\n",
              "    .colab-df-convert:hover {\n",
              "      background-color: #E2EBFA;\n",
              "      box-shadow: 0px 1px 2px rgba(60, 64, 67, 0.3), 0px 1px 3px 1px rgba(60, 64, 67, 0.15);\n",
              "      fill: #174EA6;\n",
              "    }\n",
              "\n",
              "    [theme=dark] .colab-df-convert {\n",
              "      background-color: #3B4455;\n",
              "      fill: #D2E3FC;\n",
              "    }\n",
              "\n",
              "    [theme=dark] .colab-df-convert:hover {\n",
              "      background-color: #434B5C;\n",
              "      box-shadow: 0px 1px 3px 1px rgba(0, 0, 0, 0.15);\n",
              "      filter: drop-shadow(0px 1px 2px rgba(0, 0, 0, 0.3));\n",
              "      fill: #FFFFFF;\n",
              "    }\n",
              "  </style>\n",
              "\n",
              "      <script>\n",
              "        const buttonEl =\n",
              "          document.querySelector('#df-20eb9ac8-3b5e-499f-8a08-b4010edca75e button.colab-df-convert');\n",
              "        buttonEl.style.display =\n",
              "          google.colab.kernel.accessAllowed ? 'block' : 'none';\n",
              "\n",
              "        async function convertToInteractive(key) {\n",
              "          const element = document.querySelector('#df-20eb9ac8-3b5e-499f-8a08-b4010edca75e');\n",
              "          const dataTable =\n",
              "            await google.colab.kernel.invokeFunction('convertToInteractive',\n",
              "                                                     [key], {});\n",
              "          if (!dataTable) return;\n",
              "\n",
              "          const docLinkHtml = 'Like what you see? Visit the ' +\n",
              "            '<a target=\"_blank\" href=https://colab.research.google.com/notebooks/data_table.ipynb>data table notebook</a>'\n",
              "            + ' to learn more about interactive tables.';\n",
              "          element.innerHTML = '';\n",
              "          dataTable['output_type'] = 'display_data';\n",
              "          await google.colab.output.renderOutput(dataTable, element);\n",
              "          const docLink = document.createElement('div');\n",
              "          docLink.innerHTML = docLinkHtml;\n",
              "          element.appendChild(docLink);\n",
              "        }\n",
              "      </script>\n",
              "    </div>\n",
              "  </div>\n",
              "  "
            ]
          },
          "metadata": {},
          "execution_count": 4
        }
      ]
    },
    {
      "cell_type": "code",
      "source": [
        "df[\"sentiments_list\"].value_counts()"
      ],
      "metadata": {
        "colab": {
          "base_uri": "https://localhost:8080/"
        },
        "id": "V0YOURlFPCd1",
        "outputId": "8a3836b9-dd0b-4aa8-a32f-e82a138af348"
      },
      "execution_count": 5,
      "outputs": [
        {
          "output_type": "execute_result",
          "data": {
            "text/plain": [
              "{'neutral'}                            128\n",
              "{'positive'}                            19\n",
              "{'neutral', 'positive'}                 17\n",
              "{'neutral', 'negative'}                  9\n",
              "{'positive', 'neutral'}                  9\n",
              "{'negative'}                             8\n",
              "{'positive', 'negative'}                 2\n",
              "{'neutral', 'negative', 'positive'}      2\n",
              "Name: sentiments_list, dtype: int64"
            ]
          },
          "metadata": {},
          "execution_count": 5
        }
      ]
    },
    {
      "cell_type": "code",
      "source": [
        "# delete row where sentiment has both positive and negative as not possible to derive a conclusion from such tweet\n",
        "indexAge = df[df[\"sentiments_list\"]==\"{'positive', 'negative'}\" ].index\n",
        "df.drop(indexAge , inplace=True)"
      ],
      "metadata": {
        "id": "TVXjB94AQVve"
      },
      "execution_count": 6,
      "outputs": []
    },
    {
      "cell_type": "code",
      "source": [
        "df[\"sentiments_list\"].value_counts()"
      ],
      "metadata": {
        "colab": {
          "base_uri": "https://localhost:8080/"
        },
        "id": "zbwBGqeSQ4Yi",
        "outputId": "8891c3b2-8ff8-438e-db68-8711082d52ad"
      },
      "execution_count": 7,
      "outputs": [
        {
          "output_type": "execute_result",
          "data": {
            "text/plain": [
              "{'neutral'}                            128\n",
              "{'positive'}                            19\n",
              "{'neutral', 'positive'}                 17\n",
              "{'neutral', 'negative'}                  9\n",
              "{'positive', 'neutral'}                  9\n",
              "{'negative'}                             8\n",
              "{'neutral', 'negative', 'positive'}      2\n",
              "Name: sentiments_list, dtype: int64"
            ]
          },
          "metadata": {},
          "execution_count": 7
        }
      ]
    },
    {
      "cell_type": "markdown",
      "source": [
        "### Positive Sentiment is labelled as 1 and negative is labelled as 0"
      ],
      "metadata": {
        "id": "v77KAdcGSFlw"
      }
    },
    {
      "cell_type": "code",
      "source": [
        "for index,row in df.iterrows():\n",
        "  try:\n",
        "    if \"positive\" in row[\"sentiments_list\"]:\n",
        "      df.at[index, 'sentiment'] = 1\n",
        "    else:\n",
        "      df.at[index, 'sentiment'] = 0\n",
        "  except:  # For columns where there are nan values this step will add the sentiment as 0\n",
        "    df.at[index, 'sentiment'] = 0"
      ],
      "metadata": {
        "id": "tEnmpRoZMz09"
      },
      "execution_count": 8,
      "outputs": []
    },
    {
      "cell_type": "code",
      "source": [
        "df[\"sentiment\"].value_counts()"
      ],
      "metadata": {
        "colab": {
          "base_uri": "https://localhost:8080/"
        },
        "id": "pIXUdSl0NKbK",
        "outputId": "9d3dbbd1-081c-484c-fc28-5471a9d70e83"
      },
      "execution_count": 9,
      "outputs": [
        {
          "output_type": "execute_result",
          "data": {
            "text/plain": [
              "0.0    890\n",
              "1.0     47\n",
              "Name: sentiment, dtype: int64"
            ]
          },
          "metadata": {},
          "execution_count": 9
        }
      ]
    },
    {
      "cell_type": "code",
      "source": [
        "df.isnull().sum()  # No text is missing"
      ],
      "metadata": {
        "colab": {
          "base_uri": "https://localhost:8080/"
        },
        "id": "GeiSCdJ2N9zf",
        "outputId": "ec7d40aa-93e5-47fd-a9a1-7f3ead15a512"
      },
      "execution_count": 10,
      "outputs": [
        {
          "output_type": "execute_result",
          "data": {
            "text/plain": [
              "Unnamed: 0               0\n",
              "id                       0\n",
              "text                     0\n",
              "user_name                0\n",
              "user_description        38\n",
              "user_location          181\n",
              "user_following           0\n",
              "user_followers           0\n",
              "tweets_by_user           0\n",
              "user_created_at          0\n",
              "tweet_created            0\n",
              "retweets                 0\n",
              "likes                    0\n",
              "hashtags                 0\n",
              "media                    0\n",
              "search_term              0\n",
              "emojis                 745\n",
              "sentiments_list        745\n",
              "revised_sentiment        0\n",
              "distillbert_valence      0\n",
              "sentiment                0\n",
              "dtype: int64"
            ]
          },
          "metadata": {},
          "execution_count": 10
        }
      ]
    },
    {
      "cell_type": "code",
      "source": [
        "## Get the Independent Features\n",
        "\n",
        "X=df.drop('sentiment',axis=1)"
      ],
      "metadata": {
        "id": "U282kv4sOKye"
      },
      "execution_count": 11,
      "outputs": []
    },
    {
      "cell_type": "code",
      "source": [
        "## Get the Dependent features\n",
        "y=df['sentiment']"
      ],
      "metadata": {
        "id": "Q29VOi1vOZAw"
      },
      "execution_count": 12,
      "outputs": []
    },
    {
      "cell_type": "code",
      "source": [
        "X.shape"
      ],
      "metadata": {
        "colab": {
          "base_uri": "https://localhost:8080/"
        },
        "id": "Ze3B_vdVOa8t",
        "outputId": "8407b36d-338b-4d2a-b379-565aea0ede29"
      },
      "execution_count": 13,
      "outputs": [
        {
          "output_type": "execute_result",
          "data": {
            "text/plain": [
              "(937, 20)"
            ]
          },
          "metadata": {},
          "execution_count": 13
        }
      ]
    },
    {
      "cell_type": "code",
      "source": [
        "y.shape"
      ],
      "metadata": {
        "colab": {
          "base_uri": "https://localhost:8080/"
        },
        "id": "S62yjfx0SRYG",
        "outputId": "bd9ffa7f-5a20-405f-ebbe-03aac300c347"
      },
      "execution_count": 14,
      "outputs": [
        {
          "output_type": "execute_result",
          "data": {
            "text/plain": [
              "(937,)"
            ]
          },
          "metadata": {},
          "execution_count": 14
        }
      ]
    },
    {
      "cell_type": "markdown",
      "source": [
        "## Model 1 - Train a neural network for sentiment analysis."
      ],
      "metadata": {
        "id": "Jr9zK_NCSkHq"
      }
    },
    {
      "cell_type": "code",
      "source": [
        "import tensorflow as tf\n",
        "tf.__version__"
      ],
      "metadata": {
        "colab": {
          "base_uri": "https://localhost:8080/",
          "height": 35
        },
        "id": "xooWb1TBSjcp",
        "outputId": "a813c1fd-885f-43ad-e2b7-2c3c29042077"
      },
      "execution_count": 15,
      "outputs": [
        {
          "output_type": "execute_result",
          "data": {
            "text/plain": [
              "'2.9.2'"
            ],
            "application/vnd.google.colaboratory.intrinsic+json": {
              "type": "string"
            }
          },
          "metadata": {},
          "execution_count": 15
        }
      ]
    },
    {
      "cell_type": "code",
      "source": [
        "from tensorflow.keras.layers import Embedding #For creating a simple embedding \n",
        "from tensorflow.keras.preprocessing.sequence import pad_sequences # For padding sentences to get them in equal length\n",
        "from tensorflow.keras.models import Sequential # To design the neural network\n",
        "from tensorflow.keras.preprocessing.text import one_hot # For one hot encoding of the text\n",
        "from tensorflow.keras.layers import LSTM # LSTM cell to be used in the network\n",
        "from tensorflow.keras.layers import Dense # For creating dense neural network"
      ],
      "metadata": {
        "id": "jnlqVUgASqEt"
      },
      "execution_count": 16,
      "outputs": []
    },
    {
      "cell_type": "code",
      "source": [
        "### Fixing our Vocabulary size (Hyperparameter 1)\n",
        "voc_size=5000"
      ],
      "metadata": {
        "id": "L2-dadoNSrNP"
      },
      "execution_count": 17,
      "outputs": []
    },
    {
      "cell_type": "code",
      "source": [
        "tweets_dataset=X.copy()  #Creating a copy of the dataset"
      ],
      "metadata": {
        "id": "TrQc3a7YSvRh"
      },
      "execution_count": 18,
      "outputs": []
    },
    {
      "cell_type": "code",
      "source": [
        "tweets_dataset.reset_index(inplace=True) #Reseting the index for ease in operations"
      ],
      "metadata": {
        "id": "tbTsZZfTS10w"
      },
      "execution_count": 19,
      "outputs": []
    },
    {
      "cell_type": "code",
      "source": [
        "import nltk\n",
        "import re\n",
        "from nltk.corpus import stopwords"
      ],
      "metadata": {
        "id": "WXLn7V_ES3lR"
      },
      "execution_count": 20,
      "outputs": []
    },
    {
      "cell_type": "code",
      "source": [
        "nltk.download('stopwords')"
      ],
      "metadata": {
        "colab": {
          "base_uri": "https://localhost:8080/"
        },
        "id": "PYDwDfzNS4yk",
        "outputId": "cbba44e7-2785-4035-9ede-14221ee29dbe"
      },
      "execution_count": 21,
      "outputs": [
        {
          "output_type": "stream",
          "name": "stderr",
          "text": [
            "[nltk_data] Downloading package stopwords to /root/nltk_data...\n",
            "[nltk_data]   Unzipping corpora/stopwords.zip.\n"
          ]
        },
        {
          "output_type": "execute_result",
          "data": {
            "text/plain": [
              "True"
            ]
          },
          "metadata": {},
          "execution_count": 21
        }
      ]
    },
    {
      "cell_type": "markdown",
      "source": [
        "### Preprocessing the training dataset"
      ],
      "metadata": {
        "id": "hb9EZVnZW-IV"
      }
    },
    {
      "cell_type": "code",
      "source": [
        "### Dataset Preprocessing\n",
        "import tqdm\n",
        "from nltk.stem.porter import PorterStemmer ##stemming purpose\n",
        "ps = PorterStemmer()\n",
        "train_corpus = []\n",
        "for i in tqdm.tqdm(range(0, len(tweets_dataset))):\n",
        "  #Remove hyperlinks\n",
        "  tweet2 = re.sub(r'https?:\\/\\/.*[\\r\\n]*','', tweets_dataset['text'][i])\n",
        "\n",
        "  #Remove non alphabetic words\n",
        "  tweet2 = re.sub('[^a-zA-Z]', ' ', tweet2)\n",
        "\n",
        "  #Remove hastags\n",
        "  #Only removing the hash # sign from the word\n",
        "  tweet2 = re.sub(r'#','',tweet2)\n",
        "      \n",
        "  # instantiate tokenizer class\n",
        "  tokenizer = TweetTokenizer(preserve_case=False,    strip_handles=True, reduce_len=True)\n",
        "\n",
        "  # tokenize tweets\n",
        "  tweet_tokens = tokenizer.tokenize(tweet2)    \n",
        "      \n",
        "  #Import the english stop words list from NLTK\n",
        "  stopwords_english = stopwords.words('english') \n",
        "\n",
        "  #Creating a list of words without stopwords\n",
        "  tweets_clean = []\n",
        "  for word in tweet_tokens:\n",
        "      if word not in stopwords_english and word not in string.punctuation:\n",
        "          tweets_clean.append(word)\n",
        "      \n",
        "  #Instantiate stemming class\n",
        "  stemmer = PorterStemmer()\n",
        "\n",
        "  #Creating a list of stems of words in tweet\n",
        "  tweets_stem = []\n",
        "  for word in tweets_clean:\n",
        "      stem_word = stemmer.stem(word)\n",
        "      tweets_stem.append(stem_word)\n",
        "  text=\" \".join([i for i in tweets_stem])\n",
        "  train_corpus.append(text)"
      ],
      "metadata": {
        "colab": {
          "base_uri": "https://localhost:8080/"
        },
        "id": "oQGK53mRTYar",
        "outputId": "af17129f-ea67-43a1-caa2-8bbed2b6a081"
      },
      "execution_count": 22,
      "outputs": [
        {
          "output_type": "stream",
          "name": "stderr",
          "text": [
            "100%|██████████| 937/937 [00:00<00:00, 1039.33it/s]\n"
          ]
        }
      ]
    },
    {
      "cell_type": "code",
      "source": [
        "train_corpus"
      ],
      "metadata": {
        "id": "zWhMPskgS5zw",
        "colab": {
          "base_uri": "https://localhost:8080/"
        },
        "outputId": "f70545e1-6a23-4752-9553-b716fe93b725"
      },
      "execution_count": 23,
      "outputs": [
        {
          "output_type": "execute_result",
          "data": {
            "text/plain": [
              "['three palm oil firm respons quarter deforest indonesia malaysia papua new guinea fell climat critic forest make way palm oil plantat anim rehabilit anim sanctuari',\n",
              " 'despic brazil govt use pandem cover dilut environment legisl amp loosen enforc anti deforest reg enforc via sciencedirect',\n",
              " 'impacto humano desmatamento human impact deforest',\n",
              " 'deforest end human race unless put end deforest late stop deforest pleas plant tree plant hope help us plant tree',\n",
              " 'wrong guy zerohedg code nowday serious cant build windmil without ton concret ton steel road cabl deforest ship assembl expect lifetim year',\n",
              " 'uttrakhanddisast deforest sdg becom vishva guru spent green gdp bring equal among indian',\n",
              " 'bill gross fact pollut amp deforest bad climatechang conclus repeat yr cycl earth orbit tilt k yr warm k yr iceag long peopl pollut cant stop earth orbit warm main caus pollut scienc',\n",
              " 'never small make differ plant sapl stand tall futurew encourag plant tree owneveri tree count ongo battl deforest amp manmad climat changehav plant treetel us experi',\n",
              " 'look arunach deforest rate pemakhandubjp statement mw hydro potenti zone v max risk seismic map',\n",
              " 'provid pictur deforest',\n",
              " 'richardpoliv cpm magazin tomallensteven luci delap could help starter cane also lot secondari effect runoff coral reef deforest child labour heavili subsidis would recommend read tom clark thread interest',\n",
              " 'oliv tree well recognis highli effici use water amp fertilis oliv tree also limit neg impact land system chang compar common oil palm amp soybean associ deforest',\n",
              " 'result new poll show european leader strong public back hard stanc deforest ratif eumercosur agreement say deal unless amazon deforest stop',\n",
              " 'plastic cup micron eaisli pick rag picker due high scrap valu case paper cup use paper cup would lead mass deforest prakashjavdekar pmoindia myogiadityanath nitiaayog nsitharaman',\n",
              " 'besid deforest much carbon divers lost insid atlanticforest remnant found pervas loss repres averag less biomass fewer speci shift speci trait composit',\n",
              " 'lot talk would believ palmoil plantat still main driver deforest indonesia howev fact support view get real stori',\n",
              " 'nydfassess sign govern compani financi institut amp ngo includ goal elimin deforest product agricultur commod palm oil soy paper amp beef product later',\n",
              " 'new yougov poll send clear messag european leader ratifi mercosur trade deal unless amazon deforest stop',\n",
              " 'deforest stress mammal read news stori other via insid ecolog round',\n",
              " 'ghgguru cynfab ltdsgn ourcowmolli oatlyuk hybucigcymru nfutweet agre point displac outdoor live high qualiti welsh meat deforest heavi produc cours option simpli eat less meat seen aggreg uk yet look lamb',\n",
              " 'junagarhmedia climateguyw profstrachan techxplor com vesta vesta respons deforest',\n",
              " 'join wwfforestcarbon webinar redd learn session spotlight deforest front driver solut deforest around world februari est cet regist gt',\n",
              " 'georgemonbiot latvia grow stock past decad increas million total million big pictur one deforest sustain forest manag pleas see report',\n",
              " 'mayb pictur deforest',\n",
              " 'green look awesom rate deforest rate reforest let us cover surround urban dens forest either kitchen terrac trust green friend keep alway happi green climatechang us eu',\n",
              " 'madelain alfelor gazman mayor iriga amp uclg treasur emphas potenti support local farmer attain sustain food secur context circular economi contribut halt deforest support commun',\n",
              " 'effect deforest find e arborproject arbordubai',\n",
              " 'meet owensecolog gisel phd swift parrot log sugar glider research go crack open knowledg deforest affect surviv swift parrot n',\n",
              " 'deforest andolanjeevi chamoli chamoliglacierburst forest world mirror reflect one anoth',\n",
              " 'grow sugar cane key ingredi fizzi drink major contributor deforest kind soil gofizzfre februari gt gt sugarsmartuk fizzfreefeb somersetcouncil oneyousomerset',\n",
              " 'meet leather emma clutch name worn eco fashion icon emmawatson chic box bag made zero deforest leather choos gorgeou red edit lunar new year treat red lucki colour lunarnewyear emmawatson',\n",
              " 'member class made super god eye mr g art lesson sent brilliant video deforest speech extra math lockdownlegend',\n",
              " 'grow sugar cane key ingredi fizzi drink major contributor deforest kind soil health planet health gofizzfre februari find',\n",
              " 'grow sugar cane key ingredi fizzi drink major contributor deforest kind soil gofizzfre februari gt gt',\n",
              " 'accord bbc palm oil product said respons world deforest find palm oil impact palmoil deforest oilproduct',\n",
              " 'cartoon namalamaras lka srilanka deforest',\n",
              " 'plant tree simpler revers effect deforest period',\n",
              " 'eu public oppos eumercosur trade deal recent survey show public demand amazon deforest stop prior deal germani respond total agre call halt agreement unless deforest stop',\n",
              " 'amazon deforest govern focu critic municip say brazil vice presid',\n",
              " 'deforest strategi seiz avail tool eu develop win strategi halt deforest zerodeforest',\n",
              " 'dead epidemiologist book reveal hidden plain sight truth behind pandem global capit drove deforest develop expos us new pathogen rob wallac et al unpack materi conceptu origin covid',\n",
              " 'fran oi lombard airbu underlin tool satellit avail alreadi shown effici give reliabl data alert monitor deforest focu deforest area also driver',\n",
              " 'last speaker first panel bastiensachet earthwormglob mention key question monitor control deforest happen ground henc ambiti collabor starl set reach zerodeforest',\n",
              " 'geraldkutney stop dr kutney expert sulphur amp busi solut promot biomass burn increas emiss deforest debunk pseudoscientif innov lumber industri greenwash total driven greed climatechang',\n",
              " 'wangari maathai first african woman win nobelpr start green belt movement counter deforest movement also encourag women think ecolog amp plant tree local environ date gbm spread african nation',\n",
              " 'second panel start benjamin lammert farmer express product palmoil still seriou problem deforest therefor eu make sure eu incent put place',\n",
              " 'specifi feedstock grown biofuel produc eu deforest free thu use eu biofuel encourag fight climat chang zerodeforest',\n",
              " 'gretathunberg deforest read greta giant recept children inspir paint poster',\n",
              " 'deforest link agricultur product protein oil amp sugar eu import stress fact eu problem profit come product protein use cap help eu protein product',\n",
              " 'today pm est facebook live discuss uneth practic use mani commod crop child labor deforest low payment farmer join us learn compani held account amp certif actual mean',\n",
              " 'grow sugar cane key ingredi fizzi drink major contributor deforest kind soil gofizzfre februari gt gt',\n",
              " 'chad pnud tchad indiaunfund partner commun kanem lake chad seed plant across hectar revers deforest southsouth cooper indiaunfund',\n",
              " 'chad pnud tchad indiaunfund partner commun kanem lake chad seed plant across hectar revers deforest southsouth cooper indiaunfund',\n",
              " 'world econom forum robot could help plant trillion tree',\n",
              " 'ehfaaz help reduc deforest earth green recycl recycl upcycl zerowast reus handmad ecofriendli sustain',\n",
              " 'sometim obviou still need state eforest occur alarmingli high rate especi area world high level popul growth ht karmageddon overpopul popul deforest',\n",
              " 'beauti anim extinct pakistan deforest pollut hunt primari reason behind extinct mani anim speci duti civil human be destroy habitat anim savewildlif animalright',\n",
              " 'time deforest',\n",
              " 'public footbal friday cycl sunday replic deforest daili lka newscurri',\n",
              " 'global deforest peak bring end',\n",
              " 'abhaypatilmla reason cut mani tree near basveshvar circl shahpur shop built tree around provid much need shadow sunday market provid oxygen allaboutbelgaum pbhushan belgaumc deforest',\n",
              " 'prime minist regret instead enhanc forest cover last year exist forest changa manga kundian amd chichawatni vanish due massiv deforest ay na',\n",
              " 'deforest half global forest loss occur bc half lost last centuri alon data graphic via ourworldindata climat',\n",
              " 'peru commit ban palm oil deforest',\n",
              " 'anna cavazzini well said anna ye absolut mercosur agreement need reopen need deal climatecrisi saynoeumercosur due deforest amp climatechang',\n",
              " 'unesco deforest end human race unless put end deforest',\n",
              " 'indonesian polic may probe coal miner deforest link flood wwfindia beingfarhad mohnaansari tokyo tom tomiahonen jackthelad leftocentr blairpales assaadrazzouk yebsano cansouthasia',\n",
              " 'credit increas co emiss atmospher goe burn fossil fuel land altern deforest worldwid plant program incorpor tree grow feed co thu reduc global heat oxfam cimatechang',\n",
              " 'tobacco farmer lose nearli valu currenc manipul govt expect afford coal oppos chop tree long theft continu farmer remain financi constrain deforest continu',\n",
              " 'deforest chang climat harm peopl natur world must revers trend youth savetheplanet savetheearthsaveourlif savetheearth climatechang globalwarm pmoindia',\n",
              " 'combat deforest help rural household shift land hungri cattl ranch colombia expand sustain cocoa product orinoqu region land product incom rise ghg emiss fall learn',\n",
              " 'darpigg peterjhasson liz wheeler zero evid post actual scientif fact back percent world scientist agre climat chang happen deforest coupl rise co human activ drive forc',\n",
              " 'happi worldpangolinday pangolin found variou habitat includ tropic forest amp savannah eu must part protect habitat amp biodivers propos strong eu deforest law togeth forest',\n",
              " 'due deforest mani peopl get experi feel sit shade provid tree sustyvib want fix plant tree via communitre project join us let plant tree togeth',\n",
              " 'due deforest mani peopl get experi feel sit shade provid tree sustyvib want fix plant tree communitre project',\n",
              " 'world lost one third forest end deforest possibl world data',\n",
              " 'contentcatnip thenaturenook sir david attenborough say protect wildlif buy product made deforest free sustain palm oil compani support local peopl use exist palm oil plantat without cut rainforest',\n",
              " 'pangolin scali anteat threaten poach heavi deforest traffickedmamm world eki promot sdg lifeonland stand wildlif know ourmiss contact us busi enkingintorg worldpangolinday',\n",
              " 'think pictur deforest',\n",
              " 'compani afford ignor environment risk suppli chain find busi engag supplier climatechang deforest amp water secur new cdp suppli chain report',\n",
              " 'gretathunberg deforest bio fuel',\n",
              " 'soundbit oatli episod talk blackston group invest group link amazon deforest invest oatli podcast greenwash oatmilk full episod iheartradio applepodcast spotifi',\n",
              " 'wildlif corridor import anim flee palmoil deforest form deforest thank rgsustain infograph',\n",
              " 'mothersunion combat deforest malawi mother union hard work malawi christ king congreg chilind anglican parish tree plant exercis malawi bakolocharl mothersunion unmalawi unep africa cynesa capahq iyadabumoghli',\n",
              " 'problem deforest problem deforest',\n",
              " 'studi show tropic deforest traffick wildlif pangolin may increas likelihood global pandem like covid world pangolin day find help',\n",
              " 'meat dairyfactz meat dairyfact februdairyfact mention huge link cancer heart diseas diabet deforest climat chang yet februdairi',\n",
              " 'diminish eu deforest footprint',\n",
              " 'european green deal eu pledg minimis contribut deforest forest degrad around world promot consumpt good deforest free suppli chain',\n",
              " 'french bank bnppariba stop financ firm farm deforest land amazon',\n",
              " 'reuterssci one major issu face humankind abil surviv earth subsequ problem like diseas pandem deforest carbon emiss climat chang etc flow directli david attenborough aptli state human overrun earth',\n",
              " 'craig bryson celebr deforest day dcfcfan dcfcoffici cbryson',\n",
              " 'come cinema near alien deforest',\n",
              " 'agribusi repres almost quarter countri gdp acquir even econom polit power recent amazon region support soy farm gold iron mine ineffici cattl ranch major driver deforest',\n",
              " 'hightim winter canada dorisgrinspun picardonhealth nathanstal globeandmail generalhilli fordnat govern worldwid use pandem push destruct develop project rollback indigen protect accord global report deforest rule law',\n",
              " 'coupl peopl make whole forest differ renown brazilian photograph sebasti salgado wife l lia deluiz wanick proventhey plant million tree two decad restor forest wipe deforest',\n",
              " 'deforest',\n",
              " 'habitat fragment highest tropic caus palmoil deforest among pressur eleph tiger jaguar gibbon orangutan need larg forest habitat smaller forest fragment push anim forest edg declin number',\n",
              " 'sub saharan africa suffer seriou environment problem includ deforest soil eros desertif wetland degrad insect infest learn climat chang africa help visit',\n",
              " 'km deforest global friday februari km total km remain surinam deforest',\n",
              " 'root veget could help allevi hunger end soil eros',\n",
              " 'tree valuabl commod ancestor least gradual deforest gael employ firewood build furnitur make smelt amp use thu valu ancient regul amp associ fine theft damag',\n",
              " 'jefferson counti stump lobbi campaign total deforest econom stimulu plan',\n",
              " 'skynew covid start first act intellig shld end wet market end deforest end factori farm look mani cull pig bird fur farm mink past year half billion anim cull due bird flu amp swine flu amp covid',\n",
              " 'next launch th feb utc satish dhawan space center sriharikota india polar satellit launch vehicl pslv c launch amaz nia eo satellit brazil carri optic camera monitor environment condit deforest amazon region',\n",
              " 'deforest bad preserv tree cut hide good stand natur one heart one mind one agenda',\n",
              " 'bbcnew meateat amp anim ag refus stop prevent pandem u end mass meat eat amp associ deforest wildlif kill natur clever anim mani diseas spread predat half billion farm anim cull recent',\n",
              " 'happi worldpangolinday pangolin face seriou threat exist illeg traffick eastern asia due belief scale cure diseas also meat highli want deforest anoth threat wikius shukran',\n",
              " 'invis refuge crisi deforest caus extinct climat chang bad enough even wors effect multipli visit websit learn',\n",
              " 'remi zahiga gretathunberg popul drc doubl time year deforest ecocid popul',\n",
              " 'coolrun bron vanessafiji chunhuam aussieneet russellmoxham debbi spirit samcoyi drbirut bluesea redfoxgi emilyl orangutan redorangutangen forestpeoplesp ecobusinesscom hrw fwindonesia asiasentinel rainforestnorw ran greenpeac ajenew geckoproj mensjourn abcnew asia sapien org freewestpapua sarawak report guardian crawfordjohnw dwnew petergrest journofreedom unhumanright kaldorcentr elsamnew dayakolog inst linkarborneo tuk indonesia onehealthucd han nich conversationedu livekindlyco gljhub ilrf mikedigirolamo mongabay one agricultur way shift away monocultur crop approach palmoil etc agroforesti certainli warrant look indigen approach land work natur habitat biodivers deforest',\n",
              " 'icymi bnp pariba say financ firm adopt zero deforest strategi',\n",
              " 'island wildlif offic associ sent page long letter gotabayar explain unabl carri duti due issu caus talk villag program lka srilanka wildlif conserv deforest',\n",
              " 'imran khan tree plant across countri clean amp green pakistan good step deal global warm long deforest continu fuel imposs make pakistan clean amp green let senddeforest',\n",
              " 'great bear rainforest follow today coast mountain news via carsten ginsburg old growth log great bear rainforest stop deforest jjhorgan go noth left vital area bcpoli bcndp',\n",
              " 'long deforest fuel continu pakistan imposs make pakistan clean amp green therefor need ensur ga suppli throughout pakistan fuel procur greatli increas nation treasuri stopdeforestationinpakistan',\n",
              " 'new report world resourc institut remind us real driver deforest',\n",
              " 'lanaparrilla world side se support nrdc deforest amazonrainforest evilreg donat',\n",
              " 'make mistak climatecrisi man made storm go get stronger climat chang flood inevit deforest',\n",
              " 'believ still allow deforest destruct amazon beauti wild rare anim plant tree use medicin head un fking believ',\n",
              " 'goal build better home belov green munia gt sahil zutshi report effort save india green one greenmunia cagedbird deforest pesticid tourism farm biodivers wildlif india bird conserv',\n",
              " 'envirol day salt earth light world matthew challeng go walk run solidar migrant refuge flee homeland rise water deforest war',\n",
              " 'stupid thing go countri request indian govern take strictli action stupid thing stop deforest narendramodi mamatabanerje presid amitshah polic',\n",
              " 'accord oxford univers un anim agricultur greater risk planet fossil fuel also caus speci loss increas risk pandem lead loss biodivers caus mass deforest vegan climatechang',\n",
              " 'yuna rest sphere hunter gang end deforest rest etern',\n",
              " 'fight protect land live cultur amazon rainforest biodivers live repositori earth lung deforest rainforest amazonia climatecrisi biodivers indigenousright cryptoart nft asyncart',\n",
              " 'amazonia optic earth observ satellit develop nation institut space research inp brazil first launch brazilian satellit india deforest rainforest amazonia climatecrisi biodivers indigenousright amazonia',\n",
              " 'didyouknow beekeep place beehiv tree bee provid food amp incom via honey tree protect tree deforest',\n",
              " 'bbcpolit learn age old lesson though unless shut factori farm wet market stop deforest list keep grow easi swop meal rather endur lockdown death brainer',\n",
              " 'soz two incompat anim agricultur caus deforest habitat distruct biggest contributor global warm climatechang vegan retween w',\n",
              " 'ppljustlikeu bron mongabay sir david attenborough say protect wildlif buy product made deforest free sustain palm oil compani support local peopl use exist palm oil plantat without cut rainforest',\n",
              " 'near real time forest deforest monitor',\n",
              " 'deforest area time period rd forest x size india deforest sinc year sinc last ice age half x india last year th x india sustain',\n",
              " 'palm oil malaysia indonesia deforest caus climatechang habitat lost orangutan sumatran tiger pygmi eleph child labor use ice cream deodor anim feed lipstick chocol soap pizza veget oil',\n",
              " 'hundr year old pine amp sycamor tree cut st tactic fighter base iran air forc request corrupt mayor tehran time mohammad baqer qalibaf written report financi corrupt behind deforest',\n",
              " 'sorri sir deforest preylong militari polic fb',\n",
              " 'case miss moonflow bloom first time britain cubotanicgarden overnight alreadi home amazonian forest lost deforest mean destruct entir ecosystem biodivers natur climateact',\n",
              " 'beef sold major retail link deforest amazon',\n",
              " 'kind remind deforest tree everi tree cut destroy hundr live along habitat home food almost everyth one imagin pleas plant tree plant hope bekind',\n",
              " 'combat deforest help rural household shift land hungri cattl ranch colombia expand sustain cocoa product orinoqu region land product incom rise ghg emiss fall learn',\n",
              " 'last year fight deforest ecolog trend',\n",
              " 'untouch pristin moist forest origin condit disappear ivori coast gone madagascar angola amp india current rate deforest amp forest degrad kept wors c',\n",
              " 'peopl live rural area develop countri reli tradit plant base medicin loss forest veget devast commun factsandfigur sdg wcydo deforest ecosystemrestor',\n",
              " 'root veget could help allevi hunger end soil eros via wef agricultur foodsecur',\n",
              " 'group made appear broad support among republican voter timberun deforest climatepolici',\n",
              " 'forest loss plummet indonesia past four year follow local activ govern polici aim reduc deforest palm oil product',\n",
              " 'huon tree kangaroo cute teddi like face monkey like tail papuanewguinea amp amp westpapua endang iucnredlist palmoil deforest support brand boycott wildlif',\n",
              " 'nomercytori climat changeth love capitalist market economicswreak abil speci annihilationin ici way grow humanit habitationsit echelon rawlsian greedit deforestationit technologyit oligarch power creed torychildstarv',\n",
              " 'program gf activ reinforc fight deforest restor forest sustain way boillotlaur timchristo twcrowther nicol schwab marcpalahi moder shallair march',\n",
              " 'youreanigga gooui u said tree obsrb somuch worri deforest think reforest tri clean great explain lot summari togeth find solut plant tress b downgrad',\n",
              " 'artist klau littmann turn w rtherse stadion austria largest public art instal statement deforest tenant sk austria klagenfurt temporarili rehom nearbi karawankenblick stadion',\n",
              " 'yaxkukmass recent copernicu photo show area highest emiss occur area high deforest deforest caus popul growth local export countri also rise affluenc particularli develop world',\n",
              " 'batagaika crater first start form result deforest siberia without cool effect tree permafrost soil start melt warmer month caus soil collaps amp slump ft deep video',\n",
              " 'beef sold major retail link deforest amazon',\n",
              " 'sorri mean noth qld labor govern respons qld global deforest hotspot auspol qldpol',\n",
              " 'deforest singl largest contributor green hous ga emiss climat chang palm oil deforest also result loss biodivers ecosystem speci deforest destroy natur carbon sequest power tree rainforest',\n",
              " 'natur closest thing heaven earth deforest savethetre preservenatur',\n",
              " 'leif cock orangutantop three prioriti come prevent deforest protect exist forest replant wild planet use agricultur turn polycultur permacultur',\n",
              " 'parrototd februari blue head macaw primoliu couloni e peru nw bolivia w brazil vulner due trap trade amazon deforest pic near cave owl tingo mar nation park hu nuco peru mari antezana apont',\n",
              " 'ivori coast lost hectar forest cocoa product environment group say',\n",
              " 'monitor deforest lol',\n",
              " 'rainshadow motleycreuset stoph samboc telegraph chrisgpackham wildlifetrust daili claim wildlif crime ecocid accus put bird wood chipper hs staff deliber frighten badger cub illeg fell tree europ biggest deforest exampl baseless alleg made hs',\n",
              " 'fail understand environ minist state plant tree slope prevent landslid deforest accord geologist deforest lead calam moefcc shivaniazadtoi tsrawatbjp drharaksingh harishrawatcmuk pritamspcc',\n",
              " 'jakarta flood mm inch rain fell singl day jakarta kill least peopl floodwat reach flood warn issu sink citi appear lose fight climat chang deforest runaway develop',\n",
              " 'stop runaway deforest look indonesia great effort govern big compani led forest destruct drop fast simpli brilliant',\n",
              " 'chocol compani know cocoa come work cocoa farmer organ help',\n",
              " 'stop runaway deforest look indonesia great effort govern big compani led forest destruct drop fast simpli brilliant planetearth natur',\n",
              " 'everyon role play make peac natur tropic forest rural develop work cocoa farmer farmer field school dja faunal reserv cameroon insur cocoa produc without deforest great contribut',\n",
              " 'kew drone pilot map deforest fire damag around world global wildlif news visit wildtrail news',\n",
              " 'dipterocarpacea tree threaten deforest climat chang',\n",
              " 'selfish individu realli pretend know effect deforest due greed intent money need healthier climat protect biodivers voic savebugomaforest shall never stop boycotthoimasugar',\n",
              " 'trase financ tool enabl financi institut systemat identifi direct indirect exposur deforest risk allow improv sustain portfolio explor tool',\n",
              " 'nowread tropic forest increas pressur conserv intervent limit success mitig deforest ecosystem degrad read',\n",
              " 'farm built deforest ever photo',\n",
              " 'accord tobacco deadli amp environ deforest tobacco grow caus loss biodivers soil eros amp degrad water pollut greenhous ga emiss say notobacco protect health amp planet',\n",
              " 'robot could help plant trillion tree milremr wef robot agricultur agtech deforest tree',\n",
              " 'cut tree save earth global warm deforest could cool',\n",
              " 'alon sq km lost deforest equival footbal pitch everi minut easi comprehend woodland play vital role keep ecosystem balanc must protect midasgreenin actnow reforest',\n",
              " 'day member bnppariba defin restrict polici fight deforest amazon cerrado region',\n",
              " 'coolrun bron vanessafiji chunhuam aussieneet russellmoxham debbi spirit samcoyi drbirut bluesea redfoxgi emilyl orangutan redorangutangen forestpeoplesp ecobusinesscom hrw fwindonesia asiasentinel rainforestnorw ran greenpeac ajenew geckoproj mensjourn abcnew asia sapien org freewestpapua sarawak report guardian crawfordjohnw dwnew petergrest journofreedom unhumanright kaldorcentr elsamnew dayakolog inst linkarborneo tuk indonesia onehealthucd han nich conversationedu livekindlyco gljhub ilrf mikedigirolamo mongabay forestpeoplesp well regard uk base humanright group focu indigen forest peopl made accus one indonesia largest palmoil produc amp supplier kellog unilev amp nestl deforest auspol ukpolit',\n",
              " 'life via scotrewild end deforest start rewild restor reforest rehabilit much time',\n",
              " 'thisnotpalm rspo deforest prohibit',\n",
              " 'year work tropic rainforest part ecosystem topic term studi valu rainforest indigen tribe investig caus deforest well sustain scheme',\n",
              " 'webinar sustain financ crucial help address issu climat chang deforest humanright violat regist upcom webinar cfainstitut esg perform impact tropic forestri sector',\n",
              " 'soy one lead driver deforest peopl often think soy milk tofu amp similar product make soy consumpt three quarter global soy goe anim feed work deforest',\n",
              " 'laurano jossfjh orangutan sir david attenborough say protect wildlif buy product made deforest free sustain palm oil compani support local peopl use exist palm oil plantat without cut rainforest',\n",
              " 'evid crimin deforest activ latin america amp lesson learn combat new helpdesk report laura bolton id uk fcdoclim interpol ec traseearth globalforest aca dc rnfrstallianc',\n",
              " 'r ppell vultur critic endang africa due complex threat incl palmoil deforest well loss wild ungul prey support bird palmoil boycott wildlif',\n",
              " 'soy product major contributor deforest primarili anim feed accord hannahritchi ourworldindata deforest loss biodivers ghg emiss climat chang extrem storm food insecur',\n",
              " 'vision shown reveal brow beat amp disproportion yell certain genet line african often west connect eu un humantraffick deforest loveofmoney kingdom satan amp led queen defer sat un',\n",
              " 'permafrost deforest green recoveri covid mental health human right among top insight climat scienc report wich proud particip present pespinosac unfccc',\n",
              " 'ambiti amp success plan fight deforest hing smart mix measur favour dialogu encourag sustainablepractic produc countri instead opt market ban read eugrainchain op ed',\n",
              " 'hannahritchi georgemonbiot headlin anim agricultur lead caus deforest vegan diet includ soy promot reforest',\n",
              " 'term rd form geographi student studi tropic rainforest includ caus deforest student creat fascin biographi activist live taken result tri protect rainforest great work everyon',\n",
              " 'blame world blame usa brazil blame actual concern brazil deforest certain claim deforest decreas two decad ago world',\n",
              " 'joufrey merci children one tree plant famili last year plant pine tree guava tree year plant number also orang tangerin tree sourc food futur deforest tree',\n",
              " 'baka pygmi east cameroon way live well digniti let protect forest fight deforest natur remain remain ideal place millenari peopl nb photo properti',\n",
              " 'black jaguar foundat plant nativ tree degrad araguaia biodivers corridor goal reduc revers deforest region want support organ donat tree via plant planet app',\n",
              " 'deforest',\n",
              " 'eumercosur fta conflict ambiti climateact would mean eu import agricultur commod region struggl maintain global biodivers amp regul climat read saynoeumercosur deforest',\n",
              " 'increas burden respons deforest meat dairi product put soy grown human consumpt categori soy grown meat amp dairi product human consumpt either bad analysi intent misrepresent',\n",
              " 'julieros orangulandtrust laurano jossfjh orangutan vanessafiji sir david attenborough say protect wildlif buy product made deforest free sustain palm oil compani support local peopl use exist palm oil plantat without cut rainforest',\n",
              " 'cgf forum forestposit coalit launch beef work group part ongo effort remov deforest forest degrad convers key commod suppli chain',\n",
              " 'forest cover earth land yet land mammal plant live sadli due deforest forest could gone within year climateneutr brand half carbon credit go forestri conserv project help keep forest aliv',\n",
              " 'mega compani decid creat branch area requir demolit deforest may provid job one group peopl significantli disrupt qualiti life anoth set read full articl social footprint',\n",
              " 'deforest devast impact vision better plantbas futur mean commit sourc ingredi respons support ecosystem preserv planet futur gener read',\n",
              " 'awr evsthetractor yep cover',\n",
              " 'stopshel shell plan leav part old oil platform tonn oil toxicwast northsea shell bought land amazon rainforest brazil explor oil ga waht increas deforest threaten indigen commun',\n",
              " 'preylangnetwork bar enter preylang illeg logger freeli enter prey lang cut tree transport forest plcn help govern curb deforest past allow carri import work',\n",
              " 'part last environ group meet student explor link meat eat amp deforest part ecolockdown follow ask share favourit non meat meal thank leonor share creami spinach pasta dish delici',\n",
              " 'km deforest global sunday februari km total km remain surinam deforest',\n",
              " 'deforest wildlif equal non vegan becom land use slipperi slope draw line leav us root veget may fine curs someon eat appl would counterproduct',\n",
              " 'walmart fund amazon deforest stock jb meat product walmart among big name store found stock meat brazilian meat compani link amazon deforest walmart deforest aacc meat meatfreemonday',\n",
              " 'photo document extent illicit unregul gold mine led extens deforest destruct biodivers hotspot learn illeg gold sourc nasaearth read',\n",
              " 'stop runaway deforest look indonesia',\n",
              " 'free webinar remov risk keep forest practic tool deforest free seafood thursday februari est regist gt gt',\n",
              " 'co bitcoin partner countri across globe stop deforest replant tree creat solar energi make world better healthier place',\n",
              " 'wangari maathai becam first african woman earn nobel peac prize lead green belt movement encourag women across africa plant tree show import agricultur subsist stop deforest bhm blackhistorymonth',\n",
              " 'lastweektonight discuss deforest fragment industri farm etc fuel pandem includ lymediseas thought environ amp diseas next pandem',\n",
              " 'presid potu develop climat chang agenda foreign trade polici tackl issu deforest global amazon',\n",
              " 'feel construct goe around home small mammal tend higher level stress hormon smaller forest patch larger forest patch',\n",
              " 'anim agricultur one main caus deforest environment degrad caus pandem climat problem',\n",
              " 'one favourit thing madagascar littl fellow aye aye madagascar rainforest destroy need find solut save last habitat amaz creatur deforest natur climatechang',\n",
              " 'bobbl vyta andreana swop forest secret orangutan greatap jungleschool rehabilit natur wildliferescu rainforest conserv deforest habitatloss',\n",
              " 'soy milk problem soy consumpt goe toward creat food human consumpt hunger meat probabl biggest driver soy caus deforest feed anim chines rise meat demand soy deforest',\n",
              " 'accord fao agricultur caus around deforest',\n",
              " 'shoco burrow owl aruba nation symbol aruba beauti owl seriou declin due deforest intens agricultur eaten invas boa constrictor pictur beauti shoco nest noord arubianobrand',\n",
              " 'fire rage amazon larg number deforest relat fire burn amazon rainforest uncontrol wildfir blaze savanna amp grassland ecosystem brazil bolivia amp paraguay nasaearth landsat viir usgslandsat',\n",
              " 'deforest soar amazon forest analysi find ndtv',\n",
              " 'australia philippin us countri around world pledg plant million tree plant tree help us fight issu like deforest also give us cleaner air healthbenefit even help wildlif',\n",
              " 'hxh charact us polit affili opinion poli sci major gon green parti match fit love earth would singl handedli stop deforest mitig climat chang',\n",
              " 'garywockn case point ongo deforest tasmania wind farm vesta care climat care emiss care profit hydro dam continu built tasmania wilder servic growth doingo',\n",
              " 'deforest driven demand forest risk commod continu simon bager martin persson amp tiago do rei uclouvain amp chalmersuniv present polici option eu reduc import deforest',\n",
              " 'deforest xlizkhalifa valheim valheimgam',\n",
              " 'duli deforest area raghubir nagar tagor garden extent',\n",
              " 'soy key driver deforest',\n",
              " 'first say soy second lead caus deforest ridicul land use beef soy use anim feed purchas anim product pay soy deforest',\n",
              " 'real econom valu forest greater short term benefit log clear',\n",
              " 'urgent call plea treedom commun want put end deforest let make free tree realiti read freedomforthetre',\n",
              " 'irescuerabbit soozieceu comradeguvna foe us sir david attenborough say protect wildlif buy product made deforest free sustain palm oil compani support local peopl use exist palm oil plantat without cut rainforest',\n",
              " 'dyk around import soya come countri risk deforest habitat destruct cheap food cost need find sustain sourc protein anim feed glwfeed',\n",
              " 'perfect storm crime impun violenc deforest pandem threaten surviv entir indigen nation amazon three daughter aruk leav behind one left peopl count member th centuri',\n",
              " 'seen video ndpe yet find deforest peatland exploit polici implement sustain palm oil product',\n",
              " 'expert made sad observ half anim speci disappear year instinct acceler say scientist intens agricultur deforest intens fish pollut expert speak catastroph consequ',\n",
              " 'impact food plate planet deforest food wast learn contribut climatechang expo talk food agricultur livelihood today expo dubai campusgermani expo dubai',\n",
              " 'uk tree mortgag scheme could turn kerala india carbon neutral villag reap benefit scheme pay leav tree root revers deforest trend guardian dec',\n",
              " 'trase launch new dataset indonesian pulp paper explor data learn sector achiev reduct deforest sinc still drive carbon emiss latest insight deforest indonesia',\n",
              " 'know read shock fact put end deforest know right freedomforthetre',\n",
              " 'need protect tropic forest deforest degrad want reduc emiss level need protect planet worst global warm impact environ conserv deforest savetheplanet savethesocieti saynotodeforest',\n",
              " 'got fresh cup coffe go watch could nasti aftertast natur destroy produc commod like coffe beef amp soy strong eu deforest law need address eu impact forest amp ecosystem togeth forest',\n",
              " 'solidar vanessa vash remi zahiga rais awar savecongorainforest realli money burn canari wharf london world bank fund deforest',\n",
              " 'earthsight grand theft chaco investig found leather illeg deforest land uncontact tribe paraguay use make german luxuri car expos eu demand help drive destruct chaco forest',\n",
              " 'greensefa saynoeumercosur state eu mercosur agreement compliant eu ambit europeangreend need reopen negoti put place sanction standard deforest climat human right agricultur amp health',\n",
              " 'swiss meat fed fodder brazilian deforest swiss noth scam onlyswissfe',\n",
              " 'rebecca grant rebeccajegr start dimens injustic grid connect malawi look also health deforest issu empir includ often neglect eco system perspect energyjustic framework',\n",
              " 'colour intellig red shank douc langur face mani threat includ deforest hunt critic endang iucnredlist boycott brand destroy world boycott wildlif',\n",
              " 'despit zero deforest commit establish lead produc hectar deforest occur insid pulpwood supplier concess last five year read new insight latest traseearth dataset',\n",
              " 'bird view let green amp clean sometim feel afforest name deforest agenc prove exploit heritag natur fornatur time extinct wild natur environ biodivers',\n",
              " 'treedom commun hear us anoth know learn shock fact put end deforest know right freedomforthetre',\n",
              " 'welcom aboard alankroeg base us alan head suppli chain amp natur climat solut work across commod help compani put stop deforest oh impress housepl collect learn',\n",
              " 'kudo norway norway wow environmentfriendli ban deforest sustainabletuesday ctto ecoreact',\n",
              " 'firewood consumpt drive forc behind rampant deforest kenya east africa creat altern firewood key part solut vumabiofuel aim save two million tree kenya cleancookingchampion changeignitorsincleancook',\n",
              " 'tackl deforest complex issu close forest risk commod solut effect option includ instead engag local govt support privat sector effort payment envi servic',\n",
              " 'forest play central role sustain livelihood ipb globalassess found area manag indigen peopl face grow pressur resourc extract incl deforest w variou consequ local livelihood amp health worldwildlifeday',\n",
              " 'papuanewguinea westpapua harbour unusu beauti wildlif world forest dweller endang palmoil deforest big supermarket brand boycott wildlif',\n",
              " 'read e newslett month may miss updat hungri palm oil mill indonesia improv farm practic vietnam tackl deforest subscrib today',\n",
              " 'freya cole deforest major factor climat changeth militari eras mani forest past benefit day coup see often log carrri boat carsthey cut everi tree get money deforestationinmyanmar',\n",
              " 'tostevinm aapp burma deforest major factor climat changeth militari eras mani forest past benefit day coup see often log carrri boat carsthey cut everi tree get money deforestationinmyanmar',\n",
              " 'tostevinm deforest major factor climat changeth militari eras mani forest past benefit day coup see often log carrri boat carsthey cut everi tree get money deforestationinmyanmar',\n",
              " 'jaynekarey renew energi nomine zuriaward founder lejan energi search greener fuel cost effect time reduc deforest clean conserv environ',\n",
              " 'deforest major factor climat changeth militari eras mani forest past benefit day coup see often log carrri boat carsthey cut everi tree get money deforestationinmyanmar',\n",
              " 'ninaandnana explain import rainforest chocol product environ deforest valu social funfact humour penguinindia',\n",
              " 'deforest dahaiyagala sanctuari start gotabayar gama samaga pilisandara held area still continu date latest pictur thread',\n",
              " 'eswatini observ report supplier tree burn identifi burn tree power sustain deforest countri sun shine sera sd must evalu bidder enviro plan limit deforest biofuelwatch',\n",
              " 'orangutan borneo die deforest peopl deliber kill conserv effort help peopl well endang anim someth go chapter howtospendatrilliondollar',\n",
              " 'today cook stove distribut beneficiari project mbati cell mugina sector help improv human health contribut deforest climat chang mitig',\n",
              " 'scar deforest brazil seen maxar imageri tropic deforest driven brazilian beef',\n",
              " 'measur tree draw tree write deforest tree day best homeschool day far tree tree natur',\n",
              " 'koosharem reservoir far distanc bureau land manag school trust fish lake nat l forest servic contribut deforest see happen creat koosharem reservoir recreat tree still level',\n",
              " 'dominicraab un deforest major factor climat changeth militari eras mani forest past benefit day coup see often log carrri boat carsthey cut everi tree get money whatshappeninginmyanmar',\n",
              " 'big brand ceas deforest complet go palmoilfre boycot big supermarket brand destroy forest jungl palmoil world boycott wildlif',\n",
              " 'ileanajon get head around clean meat use less water less land resourc diseas free cruelti free consist tast qualiti caus deforest sustain way consum meat die planet eat plant',\n",
              " 'celebr fairtradefortnight latest blog discuss import fairtrad climat justic stop deforest read',\n",
              " 'well could better turn report card european union timber regul read forest deforest europ eutr flegt',\n",
              " 'silveri gibbon genu hylob mean forest walker latin sing local accent thrill acrobat skill endang iucnredlist deforest incl palmoil boycott wildlif',\n",
              " 'rainforest display alreadi come along nice today children research wrote posit green leav neg red leav deforest highhamgeorgraphi',\n",
              " 'amaz nia inp nearli kg earth observ satellit observ monitor amazonian deforest primari spacecraft pslv c mission manag spaceflight inc end februari spaceflightinc isro',\n",
              " 'onceuponalucki eaw thrillist tree deforest',\n",
              " 'utah design public land graze alway sound design wildlif habitat water conserv noth livestock depriv water contamin toxic agricultur run desertif deforest water deplet chemic treatment',\n",
              " 'sore dream gear clog blood honey sound violent deforest melt tape loop distort machineri crash burn seemingli benign jungl find pain death within',\n",
              " 'know seven agricultur commod cattl oil palm soy cocoa rubber coffe amp plantat wood fiber account global tree cover loss globalforestreview analysi explain link deforest',\n",
              " '',\n",
              " 'cheeki colour bougainvil moustach kingfish live papuanewguinea westpapua rainforest endang iucnredlist palmoil deforest boycott brand destroy forest boycott wildlif',\n",
              " 'great work struan creat campaign poster rais awar deforest impact rainforest',\n",
              " 'matter njdep shawnlatur tri spin log forest deforest simpli put instead let stopthechop nj govmurphi firstladynj sheilaolivernj someth garden state climat environ njenviro climater njsierraclub',\n",
              " 'french offici said chanc sign free trade agreement mercosur current condit cite concern deforest climat chang impact agricultur',\n",
              " 'prevent deforest empow amp inform peopl make better choic eat less meat recycl amp avoid singl use packag eat sustain food choos respons produc wood product go paperless avoid palm oil plant tree agencyforact',\n",
              " 'livestock livestock everywher',\n",
              " 'eco friendli black own jb wipe eco friendli compani product bamboo toilet paper bamboo help prevent bacteria aid prevent deforest green amp get use code thenilelist shop black today',\n",
              " 'lanaparrilla world side se support nrdc deforest amazonrainforest evilreg donat',\n",
              " 'reason fight protect planet corpor greed natur climat climateactionnow deforest plasticpollut plasticfre greennewd parisagr',\n",
              " 'amaz drone imag mbando villag taken partner scottish govern climat justic innov fund project background chikala hill complet bare due deforest driven demand firewood',\n",
              " 'eu biden support scienc instead support mad log forest bio wood brazil russia deforest congo must stop face extinct come decad',\n",
              " 'chelseahartism would like claim soy vegan eat respons deforest',\n",
              " 'reuterssci anim agricultur lead caus climat chang deforest habitat destruct speci extinct soil eros water pollut ocean dead zone chang diet may solv climat chang solv climat chang without chang diet',\n",
              " 'call thevegansocieti list palmoil non vegan product add voic sign join endpalmoil vegansofig killerpalm deforest animalright orangutan climateact rainforest noplanetb indonesia vegansocieti',\n",
              " 'neither forest specif approach narrowli articul govern intervent make last posit inroad toward forest conserv sustain utilizationviol conflict deforest symptom broader socio polit econom patholog',\n",
              " 'mayb make feel better pictur deforest',\n",
              " 'congratul costarica nd anniversari nation decarbon plan alreadi revers deforest gener almost renew electr ambiti action critic tackl climat crisi creat new job growth',\n",
              " 'thank columbiasipa columbiauenergi student chanc hear first hand billgat new book avoid climat disast brazil amazon deforest part discuss remain among top ten ghg emitt jasonbordoff',\n",
              " 'hannahritchi samgdf driver deforest palm oil certain tran fat ban',\n",
              " 'initi greenearth campaign everi dss follow pledg plant atleast tree year save planet globalwarm tackl climat crisi letsplanttre save mother earth deforest',\n",
              " 'revers deforest complic plant tree simpl letsplanttre amp nurtur lakh derasachasauda volunt plant sapl amp nurtur till becom tree let come togeth protect natur amp plant tree greenearth',\n",
              " 'place world quit like ethiopia harenna forest pressur develop deforest',\n",
              " 'notic deforest creep valley forest',\n",
              " 'deforest reason behind climat chang affect live be letsplanttre make greenearth inspir teach saint gurmeetramrahim ji everi year derasachasauda volunt plant tree occas guruji birthday',\n",
              " 'egoraptor call form grandma deforest look like villain lorax esqu children film stop noth attain rich even mean log entir amazon gaze upon grandma deforest e p r',\n",
              " 'lowland forest sumatra borneo larg deplet plantat firm shift eastward papua data show dip deforest across indonesia whole papua actual increas',\n",
              " 'meet graduat student work brazil indonesia peru join cifor scientist embark ambiti global strategi reduc emiss deforest amp forest degrad climateforest noradno fta cgiar bmu gcsredd',\n",
              " 'malayan fli foxfli fox threaten hunt deforest hunt exot meat also consum tradit cure asthma mammal flyingfox malaysia nikonphotographi nikon conserv bat',\n",
              " 'letsplanttre greenearth saint dr msg say spread awar deforest issu amp encourag peopl save tree give healthi environ live come gener',\n",
              " 'realli like old school tractor wait put use got lot trail make deforest even begin think creat field hay crop homestead fs',\n",
              " 'cassava could help allevi hunger end soil eros learn biovintciat eng cgiar labecerra nextgencassava agro cassavamatt',\n",
              " 'back whirlwind adventur tasmania northwest wilder otherwis known takayna tarkin plenti process includ destruct old growth forest continu countri bobbrownfndn deforest tasmania',\n",
              " 'rema rwanda greenamayaga project fund thegef undp rwanda distribut st round improv cook stove beneficiari project kamonyi promot energi effici reduc ghg emiss reduc deforest',\n",
              " 'share phosphoresc tasmania deforest frontlin fight sustain futur long game bairdjulia say import acknowledg setback amp increment chang along histori make win bobbrownfndn tarkin',\n",
              " 'incom call call everyon much put word action treedom call plea treedom commun want put end deforest let make free tree realiti freedomforthetre',\n",
              " 'product food massiv impact planet grow food need land lead deforest also water energi fertil transport fuel get food need go stopwastingfood',\n",
              " 'deforest pandem covid continu spread john oliv discuss could caus next pandem avoid',\n",
              " 'eu base bank bankrol deforest human right abus across world eu commiss must stop turn blind eye hold financ account read giuliabond',\n",
              " 'photo show tree damag deforest sri lankan citi polonnaruwa',\n",
              " 'speak ulula good webinar next week discuss organ elimin social amp environment issu deforest amp labor exploit transpar amp ethic suppli chain wed rd march est pm cet',\n",
              " 'intellig week technolog add new dimens forest investig read today blog deforest illegallog myanmar croatia eu eutr',\n",
              " 'class look deforest argument look well balanc viewpoint gwych feel deforest ethicalinformedcitizen',\n",
              " 'hello writingcommun artistontwitt wildlifephotographi vegan creativ creativ cool creatur journal open submiss work anim speci threaten deforest cashpriz photographi art music write',\n",
              " 'global distant connect often invis exampl increas meat consumpt amp soy product drive deforest product amp trade satisfi demand drive landdegrad affect gt billion peopl info',\n",
              " 'littl environmentalist inquir deforest environment problem microsoftteam makaishaschool remotelearn',\n",
              " 'overal protect area elimin deforest reduc deforest rate earth woodland truli protect well target set unbiodivers new research wolf et al uoregon',\n",
              " 'adamvaughan uk kewgarden princ wale absolut right abt deforest plant tree abt climatecrisi g r e want support endors initi fossilfuel non prolifer global treati ffnpt fossiltreati fossiltreati',\n",
              " 'initi greenearth campaign everi dss follow pledg plant atleast tree year save planet globalwarm tackl climat crisi letsplanttre save mother earth deforest',\n",
              " 'cdathecapit cda environ cda cut grown tree islaamabad appeal cda chair ameraliahm pl stop mass deforest dcislamabad hamzashafqaat throw seedbal good let cda continu cut old tree safecityibd',\n",
              " 'billion usd invest compani high risk deforest sinc mean consum could unknowingli fuel uneth carbon intens busi practic save pension endfactoryfarm',\n",
              " 'cop media host skycorpor jeremi darroch pretti optimist abil address climat emerg almost giant new tarsand pipelin built local forest admit far netzero word deed deforest',\n",
              " 'popularvot march swiss vote free trade agreement indonesia current debat switzerland mainli focuss palmoil import sensit topic worldwid link deforest loss biodivers',\n",
              " 'climat princip us bipartisan group recommend expand laceyact prohibit ag commod illeg deforest consum good investig report deforest suppli chain debt climat swap privat public fund amp result base payment',\n",
              " 'deforest incom hear',\n",
              " 'deforest one greatest challeng face human today forest cours amongst richest biolog area earth hrh princ wale clarencehous reforestationconfer',\n",
              " 'ep petit debat brown bear romania europarl en eu habitat direct protect wildlif forest firmli stand measur legitim deforest kill wild speci protect natur habitat protect safeti heritag nextgener',\n",
              " 'action protect koh kong island cambodia life sustain deforest commerci develop',\n",
              " 'want lead global deforest challeng start enhanc greendiplomaci foster dialogu engag goodwil level suppli chain eugrainchain full articl avail eugreend',\n",
              " 'gambia estim million rosewood tree illeg smuggl gambia seneg illegallog deforest',\n",
              " 'happen chocoa nl cocoa major driver deforest landscap degener howev cocoa harm panel agroforestri explor transform power cocoa good',\n",
              " 'know million hectar virgin forest philippin decreas thousand hectar due deforest must say notodeforest find read poster weagreen',\n",
              " 'watchdog group seek hold retail account deforest meat product bloomberg fairrindex assess protein produc suppli largest global food retail rank high risk deforest amp biodivers',\n",
              " 'mega compani decid creat branch area requir demolit deforest may provid job one group peopl significantli disrupt qualiti life anoth set read full articl social footprint',\n",
              " 'accord worldresourc basic product replac area forest twice size germani indigen commun fight daili end deforest link monocultur think destruct land activ xrebellionlk',\n",
              " 'thehil globalgoalsun climatecentr comedycentr cnbc busi wsj',\n",
              " 'new academ studi conflict link deforest syria use remotesens find decreas tree cover west syria good insight addit upcom public topic fornatur h adaiyoub',\n",
              " 'europ support pari agreement time financ destruct rainforest mercosur continu caus massiv deforest fire human right abus stop govern sign mercosur stopeumercosurnow video apibofici',\n",
              " 'week inspir women wednesday salsabila khairunnisa year old environment campaign indonesia salsabila hold lead school strike deforest front offic ministri environ forestri everi friday',\n",
              " 'saynoeumercosur increas export lead deforest amp immens biodiversityloss everi min equival footbal field rainforest destroy result import eu mercosur countri vonderleyen vdombrovski greensefa',\n",
              " 'beef far biggest driver deforest tropic forest climat',\n",
              " 'tree plantat chile replac nativ veget thu contribut deforest expand indigen land',\n",
              " 'develop develop area gt albemarl land mass requir reduct tree canopi accord albemarl speaker call focus develop deforest',\n",
              " 'time overli ernest deforest approv',\n",
              " 'thousand wildfir burn myanmar india indonesia agricultur relat result deforest palm oil industri area blanket smoke pollut well beyond produc industri activ',\n",
              " 'see cloud detect deforest near real time global wildlif news visit wildtrail news',\n",
              " 'bnp pariba defin restrict polici fight deforest bank provid financi product servic compani strategi achiev zero deforest product suppli chain latest',\n",
              " 'could govt rais prize basic must thingsrur even urban switch chula chauki ab itn paiso se rashan laay ya cylind deforest pollut carri onafteral common man option na',\n",
              " 'deforest lead caus declin biodivers owe speci wildlif disappear earth year let doonethingtoday conserv',\n",
              " 'born deep amazon ainbo strive save home deforest succeed rescu belov villag clutch evil join epic adventur lifetim young lionheart schoolholiday ainbosg comingsoon mar',\n",
              " 'tree cut everyday toilet paper deforest stopdeforest amazon gogreen climatechang climatecrisi climatejustic climateemerg climateact environ savetheearth',\n",
              " 'deforest brazil higher legal target intern pressur',\n",
              " 'worldwildlifeday wildlif surviv amp flourishour forest need save saveourforest climat karnataka wildlifeday vrupix deforest',\n",
              " 'worldwildlifeday terramaz launch new partnership reconcil fight deforest amp develop amazonia project coordin cirad partnership onf officiel avsf ong support afd year',\n",
              " 'amazon covid climatechang wrote thediscusbook st edit year earlier fight viru similar covid caus environ amazon deforest pollut new microbi life evolv',\n",
              " 'come soon watch space forestchang deforest degrad causalnetwork systemdynam himalaya himalaya',\n",
              " 'deforest threaten prosper well forest restor support secur livelihood food water suppli climat mitig wildlif biodivers govern worldwildlifeday ipb globalassess',\n",
              " 'human destroy natur resourc endang exist wildlif everi live right live flourish hey human leav forest wildlif stop deforest kill anim let wildlif thrive jungl worldwildlifeday',\n",
              " 'sadli life remain wildlif world wildlif day let us pledg save extinct yuvaanenergi worldwildlifeday savewildlif wildlif pledgetosav extinctionofwildlif wildlifeanim deforest stopdeforest stopurban unitedn',\n",
              " 'censoj neieffellow stop deforest join alumex wood finish product rang year warranti export countri product chat messeng lead aluminium manufactur sri lanka alumex plc hayley group',\n",
              " 'everybodi want anim sit calm lion sit stop deforest let anguishlet celebr eco friendli wildlif day bachao',\n",
              " 'human action includ deforest encroach wildlif habitat intensifi agricultur acceler climat chang push natur beyond limit worldwildlifeday celebr today theme biodivers wwd',\n",
              " 'deforest lead direct loss wildlif habitat well gener degrad habitat remov tree type veget reduc avail food shelter breed habitat worldwildlifeday wangarimaathaiquot',\n",
              " 'deforest habitat destruct bring peopl regular close contact wildlif allow diseas jump anim human worldwildlifeday let redefin relationship natur buildbackbett natur us',\n",
              " 'much differ commod contribut deforest',\n",
              " 'sustainablepalmoil thrive latin america march rtseri explor sustain growth region cover posit impact rspo certif achiev zero deforest role smallhold',\n",
              " 'happi worldwildlifeday year theme forest amp livelihood dyk billion peopl reli forest livelihood year forest destroy feed us europ right eu deforest law could real game changer togeth forest',\n",
              " 'messag climat chang commiss observ world wildlif day despit increas protect area coverag worldwid natur tropic forest still declin due deforest consequ threaten biodivers water air qualiti',\n",
              " 'today acknowledg role forest play support ecosystem numer benefit provid indigen commun live forest area deforest result biodivers loss threaten worldwildlifeday wwd',\n",
              " 'today acknowledg role forest play support ecosystem numer benefit provid indigen commun live forest area deforest result biodivers loss threaten worldwildlifeday wwd',\n",
              " 'sign read prohibit cut burn tree locat everyth protect exist tree deforest plant new tree look land',\n",
              " 'fonap member welcom ndpe deforest peat exploit one import commit made palmoil industri date alongsid establish certif system rspotweet isccsystem epoa eu',\n",
              " 'lower oil palm deforest rate',\n",
              " 'forest play key role sustain livelihood ipb globalassess found area manag indigen peopl face grow resourc extract incl deforest variou consequ local livelihood amp health worldwildlifeday wwd',\n",
              " 'among climat chang fund area focu reduc emiss deforest forest degrad improv land use manag learn special fund',\n",
              " 'happi world wildlif day whole team marqueri stop demolish forest destroy habitat aggress obviou stop deforest marqueri alway tri nurtur natur',\n",
              " 'today occas world wildlif day let reaffirm pledg protect wildlif conserv forest increas deforest threaten biodivers coral destroy haji ali bay name transloc',\n",
              " 'flegt complianc ghana logger without process mill receiv train compli requir flegt day day activ timber supplier forestconserv sustain deforest forestpeopleplanet wwd',\n",
              " 'forest form essenti part world ecosystem livelihood must step protect mar acceler effort stop deforest allow forest commun depend thrive gener worldwildlifeday',\n",
              " 'ed uwa mwandha deforest impact climat chang without forest surviv jeopardi ferri land longer access paraa murchison fall nation park thank climat chang water taken land pier wwd worldwildlifeday',\n",
              " 'proud sponsor ypte chariti aim give young peopl real awar environment issu climatechang pollut deforest endang flora amp fauna take read blog find',\n",
              " 'worldwildlifeday face alarm averag drop wildlif deforest forest degrad major caus wildlif loss year togeth un wwf ask share inici protect forest wildlif doonethingtoday',\n",
              " 'planet forest home almost wildlif terrestri wild speci rapid deforest unsustain method util natur resourc result extinct lot major speci planet earth healthreact bodyreviv cancer',\n",
              " 'speci orangutan critic endang need vast stretch forest find enough food mate deforest palm oil plantat hunt biggest threat orangutan let buy product made sustain palm oil',\n",
              " 'planet forest home almost wildlif terrestri wild speci rapid deforest unsustain method util natur resourc result extinct lot major speci planet earth healthreact bodyreviv cancer',\n",
              " 'map global tree densiti tree natur deforest opendata',\n",
              " 'stand deforest ensur anim protect conservekenya',\n",
              " 'plant scienc offer solut mani problem threaten global biodivers like deforest climat chang drought worldwildlifeday morewithless fornatur',\n",
              " 'brazilian cerrado one biodivers grassland planet destroy soy amp livestock much ship strong deforest law could part solut togeth forest worldwildlifeday',\n",
              " 'en santi deforest comparison brazil proud feed billion peopl world rhetor fact',\n",
              " 'wwdatkisit avoid practic destroy forest like deforest',\n",
              " 'today worldwildlifeday ecosystem wildlif face multipl threat loss habitat deforest pollut growth anim agricultur celebr wildlif gone gone forev makespacefornatur veganlandmov vegan',\n",
              " 'enjoy natur forest caus see one practic deforest ignor wwdatkisit',\n",
              " 'everi giant leap mankind wildlif forc take step back alreadi late worldwildlifeday environ climatechang sustain naturelov sustain earth tatopodigit conserv deforest digitalmarket',\n",
              " 'kenya thrive wildlif biodivers consid rise case poach deforest kenyan educ signific kwskenya wwdatkisit',\n",
              " 'product palm oil soy free disassoci deforest amazon rainforest run project wwf protect jaguar tapir pink river dolphin capuchin monkey shop wfto fairtrad fairtradefortnight',\n",
              " 'key exampl human induc habitat loss includ deforest agricultur expans urban wwdatkisit',\n",
              " 'deforest poach pose real danger biodivers ecosystem human health great need educ public wildlif conserv wwdatkisit',\n",
              " 'wwdatkisit revers deforest trend requir chang polici law institut incent beyond forestri sector landscap approach embrac activ restor degrad forest land',\n",
              " 'worldwildlifeday worldwildlifeday strike birdaracarican longer seen area amazon rainforest live deforest destroy tree live acr acr rainforest gone brazil manacapuru natur',\n",
              " 'deforest chang climat harm peopl natur world must revers trend plant tree wwdatkisit',\n",
              " 'deforest someth pastit enhanc better forest greater environ system wwdatkisit',\n",
              " 'world wildlif day action cost say deforest pereni plant agroforestri agricultur wwd march notodeforest agriculturaleconomist climatechang environmentalist dryland salin',\n",
              " 'cerr thinktank littl green eu polici cap hectorag fund encourag habit destruct fraud renew polici abus loop hole illeg deforest euexit',\n",
              " 'conservekenya variou practic deforest caus rampant climat chang countri let bring deforest end wildaboutlif',\n",
              " 'worldwildlifeday today forest provid crucial habitat wildlif good remind tackl deforest driven complicit govern financ also key wildlif explain',\n",
              " 'want find deforest impact wildlif amp biodivers includ amaz anim treasur sinc today worldwildlifeday decid explor deforest affect furri friend new blog',\n",
              " 'protect natur habitat degrad forest deforest avail varieti food product would rise conservekenya wildaboutlif',\n",
              " 'underli factor deforest effect sanger valley district swat biodivers agricultur',\n",
              " 'team unileveruki advanc sustain busi practic use technolog expand use data eco friendli decis make start fight deforest',\n",
              " 'wood tree home wildlif landscap help us plant tree watch one video save wildlif plantforthefutur bubblytre reforest wildlif deforest',\n",
              " 'soy use anim feed food suppli chain led deforest amp biodivers loss place like amazon protect wildlif allow farm anim graze pastur feed local grown grain worldwildlifeday wwd',\n",
              " 'today worldwildlifeday let rememb cross river gorilla endang african ape fewer left pleas end deforest end poach punish offend creat sanctuari let stop beauti ape extinct',\n",
              " 'know prep talk game comput literacybut help write two impact deforest use best persuas languag say feel like add list topic talk homeschool',\n",
              " 'last year ferrero made signific progress protect restor forest c te ivoir ghana track case even ahead schedul reach target see',\n",
              " 'key exampl human induc habitat loss includ deforest agricultur expans urban wwdatkisit',\n",
              " 'import rememb human one affect climat chang fact wildlif true victim human made global warm pollut traffick urban encroach deforest destruct damag inflict',\n",
              " 'address deforest undpuganda uninuganda famili amp mani dev partner innov pilot amp scale natur amp tech base solut safeguard natur resourc leverag sustain econom activ worldwildlifeday nfaug ugwildlif',\n",
              " 'strong commun forest right help commun protect forest reduc co emiss deforest improv forest health wwd worldwildlifeday doonethingtoday',\n",
              " 'today worldwildlifeday may abl protect forest rel simpl choic like buy product made deforest free sustain palm oil sir david attenborough',\n",
              " 'prof carlo nobr bioeconomi tropic countri differ rich one first case problem deforest second use fossil fuel bioeconomi forum esg amazon',\n",
              " 'theme worldwildlifeday year highlight role forest forest speci ecosystem servic fit focu current deforest issu happen udawalaw help us defenddahaiyagala wildlif today',\n",
              " 'encourag supplier address deforest risk embed fish dairi amp meat product compani use purchas power help end deforest across soy industri beyond suppli chain read new explain',\n",
              " 'commod driven deforest biggest driver deforest tropic cattl soy palm oil cocoa main culprit caus degrad',\n",
              " 'civil societi organ written open letter congress biden harri administr propos action tackl global deforest read',\n",
              " 'gotabayar realli tortur eleph deforest greedi monk use eleph make money beat chain decad destroy bodi log way respect wildlif',\n",
              " 'team unileveruki advanc sustain busi practic use technolog expand use data eco friendli decis make start fight deforest',\n",
              " 'p learn home school deforest environmentaleduc also challeng think would tree fell garden',\n",
              " 'deforest governor sani bello niger state assent bill indiscrimin fell tree bill establish niger state secur trust fund niger state governor abubakarsanibello assent two bill ntabreakingnew leadershipnga mobilepunch',\n",
              " 'earthorg cambodia kaikresek fair point although said peopl portend part solut greatli contribut problem luxuri presid deforest surviv',\n",
              " 'effect way conserv forest law rule help prevent deforest plan regul tree cut sustain yield method reforest afforest monitor agricultur protect exist forest produc less wast',\n",
              " 'deforest governor sani bello niger state assent bill indiscrimin fell tree',\n",
              " 'today worldwildlifeday forest home wildlif land keep forest healthi protect planet biodivers student find solut protect wildlif deforest use climateactionkit inspir',\n",
              " 'ruddiman hypothesi debat theori progress along interdisciplinari line climatechang anthropocen deforest',\n",
              " 'pig tail snub nose langur critic endang iucnredlist vanish due palmoil deforest help keep forest home shop boycott anim',\n",
              " 'forest disappear alarm rate due deforest undpzimbabw support thegef work commun mbire construct altern energysourc like bio ga digest help reduc relianc tree sourc fuel wwd',\n",
              " 'kudo senat brianschatz announc groundbreak bill address us role global deforest biden harri administr need support effort worldwildlifeday',\n",
              " 'indigen peopl brazil colombia su retail casino french court wednesday sell beef link land grab deforest amazon campaign involv lawsuit said',\n",
              " 'march subscript deliveri arenaflow alway stun flower donat women aid everi subscript plant tree countri face deforest winnerwinn',\n",
              " 'un suspend climat work myanmar govern militari takeov myanmar rais fear pollut deforest reviv controversi hydropow dam intern agenc put climat project hold thegcf thegef bardvegar',\n",
              " 'happen butterfli climat deforest threaten monarch migrat',\n",
              " 'worldwildlifeday celebr forest commun geoglyph amazonia expos deforest built ancient peopl utilis forest sustain widespread deforest modern',\n",
              " 'local monitor key mikoko pamoja project simpl measur like tree height amp width indic carbon biomass biodivers measur amp deforest rate also need indic understand project success jame kairo oceansummit',\n",
              " 'deforest amazon infring right indigen peopl organis sue group casino breach dutyofvigil feedingadeforestedworld press releas explan thread',\n",
              " 'learn deforest lorax built truffula tree factori use lego block',\n",
              " 'well tent good news anyway new bill would give us opportun address role global deforest protect peopl us unwittingli contribut human right abus read',\n",
              " 'illeg deforest ravag planet amp drive emiss new bill congress seek chang eloycam antonboym kadnoub saleemulhuq cleanairmom mieketweet cj isnowblu tymesnow xtraferoc lost georgia jcruella',\n",
              " 'know still high demand forest relat fuel usag agricultur land especi sub saharan africa',\n",
              " 'see cloud globalforest detect deforest near real time',\n",
              " 'seen short film wiiiza effort give local peopl seat nation polici tabl use continuationfund help commun bring citizen lawsuit deforest watch via friend wbnoffici',\n",
              " 'deforest governor sani bello assent bill indiscrimin fell tree amp bill establish niger state secur trust fund niger state governor abubakar sani bello assent two bill sign two bill law gov hous minna',\n",
              " 'pictur seperst photo blend togeth photo left forest deforest one toward right healthi look forest hope go back photo right',\n",
              " 'iucn smsg thirti speci mammal exclus argentina satisfi requir endem plu threat e caviomorph sigmodontin rodent stop revers main threat deforest loss habitat fragment urgent',\n",
              " 'happi worldwildlifeday celebr world forest sustain peopl planet let take look sustainablepalmoil reduc deforest protect worker amp local commun wwd forestspeopleplanet',\n",
              " 'unsustain palm oil product harm biodivers way rspo standard strict requir protect wildlif deforest new plant peatland protect wildlif corridor prevent illeg hunt wwd',\n",
              " 'might think avoid palmoil answer iucn think oil crop use land switch would displac biodivers loss issu choos deforest free sustainablepalmoil better option wwd',\n",
              " 'hershey announc sustain goal includ take action supplier compli anti deforest polici read',\n",
              " 'aravallibachao mlkhattar haryanatweet jairam ramesh chkanwarp rao inderjit jjpoffici infra vinayakch kumari selja randeephooda dhruv rathe hridayeshjoshi nit set mine arav haryana result larg scale deforest shrink habitat forc wild anim like leopard hyena ventur area outsid forest search food amp water lead case man anim conflict dchautala nomininginarav',\n",
              " 'deforest forest sustain life topic research extens earthris fact two practic counter dedic sustainableliv unsustain',\n",
              " 'worldwildlifeday learn destruct extract project public land delay pend review includ practic area deforest patrol last yr spot grizzli bear photo probabl b c threat real climateact',\n",
              " 'indigen peopl brazil colombia amazon non government organ franc us file lawsuit today global retail giant casino group sell beef product link deforest land grab feedadeforestedworld',\n",
              " 'last year brazil amazon lost nearli squar mile research say dozen speci amazonian anim becom extinct worldwildlifeday learn deforest mean brazil world',\n",
              " 'today worldwildlifeday import remind essenti interconnect life earth includ learn northwesternu work natur org stop deforest poach',\n",
              " 'happi worldwildlifeday year theme forest amp livelihood know billion peopl reli forest livelihood year forest destroy feed us europ right eu deforest law could real game changer togeth forest',\n",
              " 'worldwildlifeday forest home critic endang speci like gray wolf protect forest crucial preserv increasingli fragil ecosystem citizen politician help find read',\n",
              " 'rd chat control risk partner maria knapp brazil year ahead critic factor shape recoveri esg consider amid rise deforest govern trend amp corrupt risk environ regist via',\n",
              " 'world wildlif day worldwildlifeday deforest covid',\n",
              " 'seven year old girl fight deforest kenya inspir other save tree wildlif deforest one greatest threat biodivers planet worldwildlifeday watch video',\n",
              " 'imag one seri show destruct deforest go behind home rural florida',\n",
              " 'readi start fight paperwast deforest thank bambooknl treesrock',\n",
              " 'articl come author conchita monteiro highlight impact deforest would human health savemollem savemollemgoa unesco',\n",
              " 'indigen group sue french supermarket chain casino amazon deforest',\n",
              " 'vietnames timber trader hl use facebook advertis african hardwood promot import mozambiqu least time februari mozambican timber trade long plagu corrupt amp crimin link widespread deforest',\n",
              " 'indigen group sue french supermarket chain casino amazon deforest',\n",
              " 'arav ecolog sensit zone year mine destroy eventu lead destruct aquif n deforestationcouldn believ haryana govt ask suprem court allow mine cmohri haryanatweet pmoindia aravallibachao',\n",
              " 'worldwildlifeday also day talk take action anim vulner critic endang lose habitat deforest urban build etc step take daili help give back wildlif commun',\n",
              " 'richardk frasierharri olga anim ye public cult meat eater burn uk pig aliv that extrem caus worst climat disast worst deforest death wildlif left caus world hunger feed crop anim peopl rather cult wouldnt say',\n",
              " 'order protect futur pandem must understand link habitat loss diseas like covid must call world leader take urgent action prevent futur pandem natureloss deforest connect earth wwd',\n",
              " 'makira natur park madagascar teem rich divers flora amp fauna howev wildlif threat deforest hunt amp illeg wildlif trade ensur brighter futur peopl amp wildlif wwd swmprogramm',\n",
              " 'sustain develop happen mollem sustain take battl deforest sustain develop rais voic savemollem savegoa worldwildlifeday savemollemgoa unesco',\n",
              " 'know leopard spot call rosett resembl rose year world wildlif day climat chang amp deforest jeopard forest speci amp livelihood local forest commun',\n",
              " 'forest central role sustain peopl livelihood provid food sustain biomass enrich soil captur carbon forest around cut consumpt chang right deforest polici worldwildlifeday',\n",
              " 'wildlif threaten deforest franc commit allianc preserv tropic forest launch coordin intern action protect forest speci worldwildlifeday',\n",
              " 'biodivers loss climat chang deforest intrins link solut worldwithoutnatur natur base solut help address three crise effect sustain worldwildlifeday',\n",
              " 'new radd alert globalforestwatch monitor tropic forest cloud smoke haze serv tool quickli uncov recent deforest learn',\n",
              " 'indigen group sue french supermarket chain casino indigen peopl brazil colombia su retail casino french court sell beef link land grab deforest amazon phil thinker pettet',\n",
              " 'incident port liverpool own peel group amp set becom freeport soybean crush mill uk oper cargil hope freeport statu lead less transpar around suppli chain deforest risk bring zacgoldsmith',\n",
              " 'cameroon forest home amaz array speci deforest continu give easier access poacher primat orphan keep arriv door worldwildlifeday pleas give month help support rescu primat',\n",
              " 'usaid work indigen peopl forest dwell commun support sustain forest manag reduc deforest improv forest conserv worldwildlifeday',\n",
              " 'amazon indigen group sue casino chain deforest',\n",
              " 'read new administr protect world forest commun combat rampant deforest help turn tide climat crisi',\n",
              " 'today worldwildlifeday bring attent interlink forestspeopleplanet biodivers loss climat chang deforest intrins link must combat threat ecosystem end worldwithoutnatur',\n",
              " 'amazon indigen group sue casino chain deforest global wildlif news visit wildtrail news',\n",
              " 'hi bicyclesrecycl rememb problem bicycl help solv globalwarm obes smog traffic depress diabet stress heartdiseas healthcarecost arthriti deforest muscleatrophi boredom asthma amp other',\n",
              " 'give back natur happi announc partnership legendari wall art legendarywal art alreadi plant tree area ravag deforest commit plant tree everi canva sold',\n",
              " 'happi see popular hannahritchi recent ourworldindata work deforest among reader interest protect world forest find work',\n",
              " 'much dairi disinform link soy milk amp deforest even vegan site often incorrectli report global soy use soy milk amp us amp mani countri soy milk brand mainli sourc soy domest',\n",
              " 'conflictpalmoil wreak havoc global consumer sinc mass deforest human exploit carbon emiss hard say exactli oilpalmplant crime begin end csustain',\n",
              " 'looki rate deforest indonesia reduc last year said ministri pandem said greenpeac',\n",
              " 'happi worldwildlifeday forest play central role sustain livelihood ipb globalassess found area manag indigen peopl face grow resourc extract incl deforest affect local livelihood amp health wwd fornatur',\n",
              " 'extra money prevent toilet paper deforest ad water spray fund paper made corn husk banana peel manur coconut shell etc',\n",
              " 'illeg deforest ravag planet drive emiss new bill congress seek chang cb news',\n",
              " 'hcsa highcarbonstock group came rspo amp certif gap regard definit deforest hcsa investig found golden veroleum clear carbon rich forest liberia via mongabay',\n",
              " 'instanc deforest amazon alreadi reduc rainfal lengthen dri season point rest tree die consum fire',\n",
              " 'destroy tree destroy environ hurt anim amp hurt one anoth amp stuff got power energi fight think need love world ellendegener deforest environmentalprotect',\n",
              " 'first week march environment week observ throughout countri focu nation attent need environment plan control pollut deforest threat balanc ecolog essenti human progress surviv',\n",
              " 'indigen group sue french supermarket chain casino amazon deforest read',\n",
              " 'lanaparrilla world side se support nrdc deforest amazonrainforest evilreg donat',\n",
              " 'must also erad deforest terror sri lanka opposit leader',\n",
              " 'palmdoneright organ also wildlif friendli deforest free someth celebr worldwildlifeday learn',\n",
              " 'year use persuas techniqu take part debat throughout week research pro con deforest present argument year',\n",
              " 'whole class spoke front audienc although side valid point major year vote deforest samake middleschool debat inspir',\n",
              " 'un unodc unlaw establish evil chines govern largest terrorist organ planet biggest singl contributor impiou occurr global deforest wildlif traffick fundament valu modern human moral',\n",
              " 'fact deforest decreas significantli appreci ngo real progress made effort maintain posit trend ngo quick critic long issu event line agenda indonesia sale',\n",
              " 'illeg deforest ravag planet amp drive emiss new bill congress seek chang deardocmomi latebloom deaconblu sparkiespark go itkcm orbplanet sandyk lisataz ladydob mikelm bmargirl',\n",
              " 'lbp farmer resist lbp concret project save deforest drink water scarciti ban lbp concret narendramodi pmoindia cmotamilnadu epstamilnadu officeofop mord goi mkstalin inctamilnadu bjp tamilnadu',\n",
              " 'icymi alert system show potenti reduc deforest mitig climat chang landsat base global forest watch alert seem help slow forest loss africa',\n",
              " 'look descript pack synthesis preset mean post jungl jungl context way post deforest spread electron music',\n",
              " 'best reason deforest ever',\n",
              " 'notic aranya movi deforest theumpir call tayab rajakumaari kalvetu',\n",
              " 'read right patch forest size footbal field destroy everi two second everi day join fight deforest vnext fibrecementboard climat climatechang',\n",
              " 'bkarukha thegreatashb dear sir kindli stop cmo odisha forestdeptt mosarkar dmkalahandi dfosouth pccfodisha dfokeonjhar distadmkeonjhar keonjharwl sandeepif susantananda adityapanda biswajitmohanti cut tree mean way toward deforest',\n",
              " 'indigen group sue french supermarket chain casino amazon deforest',\n",
              " 'deforest palm oil gone significantli past year howev driver deforest pick watch clip learn',\n",
              " 'guid kind anim respect live thing allianc blantyr district forestri offic partner plant pine tree michiru mt revers deforest complic plant tree simpl plant tree bepartofit',\n",
              " 'today world wildlif day import remind urgent need protect wildlif seriou threat deforest worldwildlifeday',\n",
              " 'chipko movement indian mainli women activist protect local forest deforest model ecofeminist activ environment movement global term tree hugger began womensart womenshistorymonth',\n",
              " 'beef product respons deforest lab grown meat help curb climat crisi chang food habit',\n",
              " 'alaxslu cover forest transit concept detail',\n",
              " 'today share onlin observa accion session i emilio ferrari great present pupil greenhous ga effect deforest thank generos share teach us educacyl innovacyl formacioncyl internacionalizacyl',\n",
              " 'amazonia mission provid remot sens data imag observ monitor deforest especi amazon region also agricultur throughout nation territori seek act synergi exist environment program',\n",
              " 'year learn monarch butterfli troubl due pesticid deforest want someth decid write letter embassi draw beauti creatur onlinelearn worldwildlifeday butterfli wwf',\n",
              " 'indigen group sue french supermarket chain casino amazon deforest indigen peopl brazil colombia su retail casino french court wednesday sell beef link land grab deforest',\n",
              " 'coolrun bron vanessafiji chunhuam aussieneet russellmoxham debbi spirit samcoyi drbirut bluesea redfoxgi emilyl orangutan redorangutangen forestpeoplesp ecobusinesscom hrw fwindonesia asiasentinel rainforestnorw ran greenpeac ajenew geckoproj mensjourn abcnew asia sapien org freewestpapua sarawak report guardian crawfordjohnw dwnew petergrest journofreedom unhumanright kaldorcentr elsamnew dayakolog inst linkarborneo tuk indonesia onehealthucd han nich conversationedu livekindlyco gljhub ilrf berfroi abcbigidea mongabay come across palmoil post video learn curv better know ndpe amp shortcom po meet standard etc includ introductori explain sc ndpe best deforest environ exploit',\n",
              " 'report landmark deforest event',\n",
              " 'urban growth co solihul forget idea hs green airport road car park fuell develop stoph climateact deforest biodivers build build build',\n",
              " 'voluntari nodeforest initi led increas sustain practic local govern action close govern govern cooper necessari facilit implement deforest free suppli chain euractiv',\n",
              " 'eco surv paper free process instal sinc incept estim tree save deforest help save planet whilst make money process get touch us find environ',\n",
              " 'deforest system risk portfolio deforest continu way law enforc human right respect repres system financi risk includ exacerb climat risk nvjrobin speak efnatcap',\n",
              " 'jaguar guatemala threaten poach deforest mirador r azul nation park allow thrive',\n",
              " 'indonesian pulp industri effort end deforest last industri continu expand ramp demand wood land need grow read full stori latest insight indonesian pulp amp paper',\n",
              " 'accord research deforest mostli result exogen demand influenc tsouthamerica ecolog system effort limit deforest region would includ demand side solut particularli china',\n",
              " 'allah appli evil good troubl world live war violenc diseas deforest thing creat man human man harm even good claim anyth allah',\n",
              " 'thing worri accord last night nightmar forest fire deforest snow hidden wolv attack peopl one inspect fine ski friend understand beauti valuabl especi chan',\n",
              " 'take pictur colombian and need know deforest edg effect vector born diseas environment determin health drmarianeira minambienteco deforest la countri increas alarm rate',\n",
              " 'french supermarket giant casino su coalit ngo includ indigen peopl brazil colombia sale beef link illeg deforest amazon',\n",
              " 'save beauti world stop water pollut stop deforest stop air pollut save environ save wild anim save aquat anim',\n",
              " 'ag indict pcranawaka reckless drive amp failur avoid accid indict nandasena reckless govern failur avoid pandem religi unrest intern isol rampant deforest econom death spiral',\n",
              " 'state mato grosso brazil cattl product respons twice amount land clear agricultur product togeth integr cattl ranch beef product reduc deforest key',\n",
              " 'mumbai dig grave mumbai citi forev repair dig never stop roadrepair duguproad fr g cabl mumbaimetro mumbaicostalroad flyover landreclam buildingconstruct deforest media environmentalist silent',\n",
              " 'cloud cover longer mean delay detect deforest new radd alert globalforestwatch monitor key tropic forest cloud smoke haze learn',\n",
              " 'transpar crucial fight deforest forest degrad new fta work paper review initi promot sustain suppli chain case forest risk commod cifor cirad wwf zerodeforest',\n",
              " 'arav stand today threaten due deforest land degrad illeg encroach development activ cmohri dchautala want add mine never end list haryanatweet nomininginarav aravalliunderthreat aravallibachao',\n",
              " 'join fern ngo host european polici expert includ nestleeu bart vandewaeter discuss idea recommend reduc risk eu import deforest march cet find sign',\n",
              " 'malay tapir gorgeou creatur live sumatra myanmar thailand indonesia endang palmoil deforest iucnredlist protect make supermarket choic boycott wildlif',\n",
              " 'need act save penrho natur reserv anglesey commerci develop head sizeofwal read full report make wale deforest free nation worldwithoutnatur climatejustic ynysmon ynysgybi monmamcymru',\n",
              " 'nomininginarav next gener ask ncr destroy answer will mine deforest encroach amp exploit arav cmohri moefcc aravallibachao',\n",
              " 'excit new legisl brianschatz climateadvi eiaenviron amp organ releas open letter call congress biden harri administr support effort tackl global deforest',\n",
              " 'southeast asian box turtl cuora amboinensi rare dissappear due palmoil deforest india indonesia se asia help supermarket boycott wildlif naturetwitt naturephotographi',\n",
              " 'great see us consid legisl deforest brianschatz bill bill aim remov illeg deforest import agricultur commod push transpar suppli chain read full stori',\n",
              " 'amazonian group sue french supermarket chain deforest',\n",
              " 'luisamneubau kindli help us regard savemollem big massiv deforest take place goa india unesco world heritag need urgent attent tree chop ut began thousand tonn coal transport',\n",
              " 'could renew energi transform tea industri answer kenya deforest crisi',\n",
              " 'deforest aggres environ climatechang creat perfect storm pandem zoonos infect jump anim human need join forc buffer sustain manner eu europeangreend key',\n",
              " 'didyouknow pallit product made recycledmateri fsc certifi support sustain deforest paper materi ensur paper cultiv minim impact environ learn gt',\n",
              " 'earli peruvian govern launch oper mercuri unpreced crackdown rampant illeg gold mine region sinc gold mine deforest decreas learn strategi peru day pdac perupdac',\n",
              " 'stop deforest destruct deforest go sharqi bagh constitu farooq pm asifrazamirak ansaraabbasi geonew urdu talathussain',\n",
              " 'stop runaway deforest look indonesia',\n",
              " 'amazon deforest indigen amazonian sue french supermarket chain',\n",
              " 'mcdonaldsuk adamthoma ryanjamesthoma mcdonald cost earth deforest climatechang',\n",
              " 'day solut live updat educ auwal musa mambalo student magami secondari school jal nigeria speak sdg talk effect deforest minut watch present live auwal page mamzbaba goalsproject',\n",
              " 'us reli heavili import agricultur commod come steep cost environ illeg deforest destroy planet drive emiss new bill us congress want chang learn',\n",
              " 'hersheycompani threaten suspend non compliant supplier effort cut deforest',\n",
              " 'th centuri blackbuck number declin due excess hunt deforest habitat degrad kill illeg especi speci sympatr nilgai blackbuck local extinct sever area justic black buck',\n",
              " 'hershey threaten suspend non compliant supplier effort cut deforest companywid polici end deforest across suppli chain appli hershey raw materi supplier',\n",
              " 'amazonian group sue french supermarket chain deforest',\n",
              " 'hauntingli beauti seren lai haraoba celebr forest deiti phayeng still someth need wit connect forest natur around us deforest continu mean lai haraoba',\n",
              " 'bung develop bung sustain partnership program soybean sourc brazil design help compani reach goal deforest free valu chain worldwid',\n",
              " 'dr mark abraham resid gi guru studi deforest rate across forest project site well pattern forest gain',\n",
              " 'deforest forest water suppli systemat approach help illumin complex forest water nexu deforest forest water scienc oa',\n",
              " 'video verrastandard naomi swickard explain upgrad announc today world lead forest protect preserv standard tie carbon offset credit make huge differ next decad term deforest amp climat',\n",
              " 'daniel beltr devast photograph amazon deforest editor juxtapozcom alex nicholson shop art gt',\n",
              " 'daniel beltr devast photograph amazon deforest editor juxtapozcom alex nicholson shop art gt',\n",
              " 'industri sustain bodi confirm longstand alleg golden veroleum liberia commit widespread deforest hectar forest includ endang speci habitat amp import wetland goldenveroleum deforest',\n",
              " 'unequ hour unravel appropri tangl caus intertwin ribbon deforest tree growth clock cmag',\n",
              " 'map brazil highlight overlap area deforest amp humantraffick survivor home municip data map support stanford human traffick data lab work examin linkag labor exploit illeg deforest',\n",
              " 'earth without tree ope water war come sure deforest worsen one point futur level freshwat resourc avail becom scarc alreadi mani debat whether c',\n",
              " 'womenshistorymonth day today inspir women scientist dr wangari muta maathai founder green belt movement counter deforest first women professor kenya nobel prize winner work led plant mil tree',\n",
              " 'eroston real world around us speech rachel carson publish book lost wood worth check see local librari kindl discuss land use chang deforest amp environment degrad term climat chang exist',\n",
              " 'lbp farmer resist lbp concret project save deforest drink water scarciti ban lbp concret narendramodi pmoindia cmotamilnadu epstamilnadu officeofop mord goi mkstalin inctamilnadu bjp tamilnadu',\n",
              " 'wangari muta maathai first african woman receiv nobel peac prize first femal professor kenya counter deforest start green belt movement end plant tree across africa also activist democraci',\n",
              " 'carakort brianschatz cbsnew thank articl fail mention drastic environment impact cattl wri sourc cattl caus time deforest palm oil yet bare mention seem suggest implicit bia',\n",
              " 'indigen activ back environ group file lawsuit french court supermarket chain casino alleg store latin america sell meat link land grab deforest amazon',\n",
              " 'senat brian schatz introduc legisl would put place import requir agricultur commod beef leather palmoil soy cocoa associ illeg deforest us childlabor sustain environ',\n",
              " 'parrototd march blue cheek amazon amazona dufresniana e venezuela guiana far n brazil near threaten due deforest trap rare pic wild roch corail french guiana alexandr vinot via macaulaylibrari',\n",
              " 'mel awesom aaronhorrock joshd veganella herbivor earth veganroo stan ackattackack kirthurgan eat plant indirectli take life lot less eat plant use far less land water energi wherea eat meat caus well world primari driver deforest',\n",
              " 'indigen group su french supermarket casino allegedli sourc beef deforest amazon land say supplier destroy area x size pari cattl ranch major sourc amazon deforest often illeg incr',\n",
              " 'orangutan still displac borneo due deforest mum bub look shelter safeti pleas help support ground rescu patrol photo',\n",
              " 'deforest environment pollut damag flora consequ endang human health even life reason natur conserv one import issu planet enactu enactusbdu weallwin',\n",
              " 'today enjoy onlin observa acci n session school school iesferrari ceo virgen de la pe sepulveda segovia great present pupil greenhous effect deforest educacyl innovacyl formaci ncyl internacionalizacyl',\n",
              " 'graze million acr nat l forest public land ton aerial herbicid carpet bomb land genet alter grass seed specif design cattl graze germin natur forag wildlif deforest soil steril',\n",
              " 'counterpunch easi consum solut fight anim extinct deforest activ boycott wildlif minim anticonsumer extinctionrebellion',\n",
              " 'direct human caus deforest includ log agricultur cattl ranch mine oil extract dam build help us protect planet today clearston deforest nopalmoil zerowast sustain sourc world count',\n",
              " 'fungi lichen soil bacteria die deforest forag wildlif surviv medicin chest hold moistur soil stop soil blow away alga beneath creat oxygen air breath tree provid shelter conceal shade oxygen clean',\n",
              " 'french supermarket chain su amazon deforest reckless deforest acceler process global warm visit deforest amazon brazil franc climateact fridaymotiv viern freitag',\n",
              " 'continu celebr prof wangari maathai wangari campaign video reflect examin symptom root caus help succeed take simpl idea like tree plant fight larger underli problem like deforest wangari',\n",
              " 'thank amaz custom supplier plant anoth tree plant tree find tree treeplant deforest reforest conserv environ sustainablebusi',\n",
              " 'andynortondev director iie say deforest primari driver biodivers destruct amp heighten risk pandem bring human contact new threat like covid indian govt learn global expert haryanatweet',\n",
              " 'hershey revis holist view put respons direct indirect supplier ensur grow sourc practic inlin compani goal penalti compli could steep termin',\n",
              " 'visualis explor deforest risk individu compani trase financ compani profil featur offer data deforest risk compani polici financ explor tool',\n",
              " 'today hear eu press ahead brazil mercosur deal fuel even deforest amazon land clear produc beef eu us biden may approv log acr kootenai forest tree hundr year old climat',\n",
              " 'javan rhino world endang rhinocero speci dozen left main threat palmoil expans deforest indonesia support shop boycott wildlif',\n",
              " 'group indigen group back american french ngo su french supermarket chain casino sell beef link deforest amp today news',\n",
              " 'forglobalgo deforest impact lifeonland explain eighth grader sdg goalsproject takeactionedu actionplusawar dayofsolut jenwilliamsedu zelfstudi imanacad',\n",
              " 'year celebr fairtradefortnight delv world sustain learn deforest fairtradefarm make good choic help environ amp world',\n",
              " 'kenya move forward defin roadmap reduc carbon emiss deforest amp forest degrad conservationorg facilit nation level workshop earlier week redd nest opportun offer maxim climat financ amp climat action',\n",
              " 'climat chang caus deforest afforest way chang statist wwf',\n",
              " 'commod replac area forest twice size germani',\n",
              " 'deforest stress mammal',\n",
              " 'could shop contribut deforest ye product make onto eu supermarket shelv regardless whether grown deforest destroy land ambiti eu legisl urgent need togeth forest',\n",
              " 'reach final day fairtradefortnight ask deforest fairtrad fortnight free resourc page teacher parent carer link homeschool backtoschool',\n",
              " 'mikeseidel weatherchannel nice see weather channel exploit deforest job secur',\n",
              " 'one rarest least known cat speci borneo borneo bay cat endang iucnredlist palmoil deforest hunt sabah save boycott wildlif read',\n",
              " 'femal environmentalist thank protect planet artemisa xakriab work fight deforest importantli voic youth women indigen peopl resist bolsonaro environment rape',\n",
              " 'number indigen tree speci nurtur tree nurseri combat deforest seedl transplant degrad area provid food shelter habitat wildlif donat school villag savewildspac',\n",
              " 'black crest gibbon critic endang china vietnam lao iucnredlist due deforest point care cascad save boycott anim',\n",
              " 'us agribusi bung launch new programm monitor soybean crop indirect suppli chain brazilian cerrado region area high risk deforest',\n",
              " 'environment group indigen activist amazon region file lawsuit wednesday french court alleg franc base supermarket chain group casino violat human right environ rule sell beef link deforest insur',\n",
              " 'excit interview inaparkmd author strang bedfellow wed th march pm gmt stirigwebinar favourit chapter far bushwhack untangl pubic hair sti peril pubic deforest potenti benefit vajazzl',\n",
              " 'attent mcdonald kill amazonrainforest get beef plate rebelsanim saynoeumercosur indigenousemerg indigenouslivesmatt deforest ecocid dobett demandbett sosamazonia taketheamazonoffyourpl',\n",
              " 'wcchen djmillerja cultiv yam contribut high level deforest year stake came hill kingsland manchest took pic back juli',\n",
              " 'reveal world largest meat processor jb purchas meat rancher link fire consum pantan brazil last year jb sell meat food giant mcdonald burger king meat taint deforest get plate',\n",
              " 'new radar detect deforest radd alert globalforestwatch captur forestchang x detail current satellit technolog learn satelligenceeo wur',\n",
              " 'next gener ask ncr destroy answer wil mine deforest ncr green lung water recharg zone shield desertif cmohri drharshvardhan narendramodi fffindia haryanatweet dchautala anilvijminist vimlendu rsuri',\n",
              " 'easi earth eat vegan vegetarian time week reduc impact deforest rais beef better one day time one choic time climateupsidedown',\n",
              " 'nearli half item american buy groceri store contain palm oil one driver deforest illeg ravag planet drive emiss carakort report new bill congress seek chang',\n",
              " 'event environment justic indonesia onlin panel discuss indonesia press environment justic issu water access land right amp impact deforest march wib pm aedt regist',\n",
              " 'parrototd march blue head racket tail prionituru platena palawan nearbi island philippin vulner due deforest log mine great pic coron island busuanga palawan provinc philippin brad argu',\n",
              " 'un suspend climat work myanmar dictatorship follow militari coup militari takeov myanmar rais fear pollut deforest reviv controversi hydropow dam intern agenc put climat project hold',\n",
              " 'angrydogmum johnccannon mongabay hello research quot mongabay import small forest fragment agricultur landscap maintain orangutan metapopul fund wilmar deforest caus palmoil compani westpapua boycott wildlif',\n",
              " 'leodicaprio unfccc greta thumberg said noth brazilian satellit monitor deforest fire amazon neither leonardo dicaprioneith ngo celebr achiev help prevent burn tree fell etc',\n",
              " 'brazil work biden climat amazon deforest say foreign minist',\n",
              " 'watch headlin news cover discuss issu public interest local intern commun includ walmart sell beef link amazon deforest ghislain maxwel deposit year old french nun surviv covid',\n",
              " 'petition ask eu stop trade countri respons deforest',\n",
              " 'decad declin deforest happen stimul new round forest loss ecosystem destruct amazon join us monday pt seminar dr susanna hecht uclaluskin futur amazon',\n",
              " 'petition ask eu stop trade countri respons deforest',\n",
              " 'brazil work biden climat amazon deforest say foreign minist',\n",
              " 'posit climat news chang number show global deforest',\n",
              " 'deforest supermario dworld bowsersfuri nintendoswitch',\n",
              " 'friend sent deforest cityofredland sake pollut warehous without vision peopl perish',\n",
              " 'deforest pog',\n",
              " 'gwg star week lesein mutunkei year old kenyan high school student love footbal adventur hear pollut deforest climat chang combin love footbal plant tree',\n",
              " 'plastic cup micron eaisli pick rag picker due high scrap valu case paper cup use paper cup would lead mass deforest prakashjavdekar pmoindia myogiadityanath nitiaayog nsitharaman',\n",
              " 'presid gotabayar gama samaga pilisandara program held giribawa weheragala area kurunegala district today potenti request may destroy four eleph corridor connect wilpattu nation park kahalla pallekal sanctuari lka deforest',\n",
              " 'sustain polici ensur raw materi legal wood sourc sustain manag plantat log websit',\n",
              " 'pretti extens list dealbreak come find soya bean guess could call us picki soya bean alway organ sustain sourc canada china never anywher deforest issu gm free',\n",
              " 'covid pandem connect deforest ecologicalbreakdown struggl indigen peopl amazon thread base xrfranc facebook post',\n",
              " 'javan rhino world endang rhinocero speci dozen left main threat palmoil expans deforest indonesia support shop boycott wildlif',\n",
              " 'bill pass import would trace supplychain amp prove commod sourc legal bill perfect would help establish global traceabl system current exist',\n",
              " 'jam campaign video world gone hoop environment chang may get wors without us even realiz deforest biodivers loss wast problem yet seem grasp seriou situat',\n",
              " 'primari threat hippopotamu speci common hippo pygmi hippo habitat loss deforest',\n",
              " 'oregonian allow deforest oh right sweet sweet dollar bill bank account big non nation corpor climat denier futur given away breath money money cool earth drink money',\n",
              " 'brazilian amazonia satellit launch monitor deforest forest appar understood ecosystem delimit territori life network amazon amazonia satellit sustain globalwarm gaia ecolog',\n",
              " 'huxleypiguk bbc bbccountryfil bare face lie biggest deforest sinc ww rais astonish got away money gone',\n",
              " 'deforest like slow poison reason make earth hell heaven',\n",
              " 'accord oxford univers un meat industri even greater threat planet fossil fuel also caus speci loss increas risk pandem lead loss biodivers caus mass deforest climatechang',\n",
              " 'black dorcopi cute tini marsupi care tenkil critic endang iucnredlist slash burn palmoil deforest westpapua papuanewguinea save chang weekli shop boycott wildlif',\n",
              " 'idea climat cop pollut monitor satellit idea climat deforest earth eco environ pollut satellit space spi ideamil idea',\n",
              " 'anoth fire peninsula forest today windi day one beauti import natur preserv africa thoughtless destroy must protect sierraleon freetown deforest',\n",
              " 'american compani amp consum unwittingli purchas good sourc illeg deforest land everyth tire cooki top deforest account global emiss brianschatz bill fix cbsnew',\n",
              " 'plant tree far hope plant sooninfo help us grow forest like plant tree follow soon ecolog hq deforest circulareconomi environ gogreen plasticwast sustain',\n",
              " 'deforest look pretti sexi rn',\n",
              " 'deforest ok',\n",
              " 'govern amp priorit expans energi sector infrastructuremin amp log amp develop industri ag close insid indigen territorieswhil loosen oversight land grab amp illeg deforest humanright',\n",
              " 'fuckin deforest',\n",
              " 'stop deforest one best way prevent next covid urg biden includ b next covid relief bill protect forest amp support healthcar indigen peopl rainforest commun sign',\n",
              " 'deforest world posit cut tree',\n",
              " 'jeffbezo thank deliveri gram tv remot control amazon box cmx cm x cm climatechang decarbon globalwarm fight deforest common sens amazon engin dive deep solut stop wast',\n",
              " 'deforest ok bitch',\n",
              " 'bolsonaro oversaw connecticut size chunk deforest amazon last year',\n",
              " 'jb largest anim protein produc vow achiev zero deforest great news other disappoint take year accomplish help achiev goal vegetarian environment earthday',\n",
              " 'adamcoffeynt cibolab deforest squar metr scale',\n",
              " 'bolsonaro oversaw connecticut size chunk deforest amazon last year amazon joebiden',\n",
              " 'call beauti forest jungl tree plant flower meadow land amp underbrush home famili well live without heartless deforest compani product hunter hiker camper climber govern tourist amp human forev cont',\n",
              " 'greenpeac activist bring scene forest fire indonesian environ forestri ministri jakarta urg govern take action prevent deforest papua provinc learn gt gt',\n",
              " 'interview publish saturday newspap estado de sao paulo brazil environ minist ricardo sall ask unit state money fight deforest amazon retweet news',\n",
              " 'hey back naturefood love virtu signal plant base non gmo plant tree etc palm oil new recip great tast deforest vegan palmoilfre deforest',\n",
              " 'tidytuesday week tri make nice yet tradit graphic week soybean product north south america rstat code',\n",
              " 'studi natureecoevo find consumpt product like beef soy coffe cocoa palm oil timber wealthi nation directli link deforest threaten tropic biom',\n",
              " 'muslim plant tree sow seed amp bird anim person eat frm regard charit gift frm bukhari bt wre r lead deforest destruct natur traffick wildlif grab money natur fridayvib wild',\n",
              " '',\n",
              " 'give back societi vika becam division forest offic work villag curb deforest today sustain idea provid employ access opportun local commun rise read',\n",
              " 'westpapua everyth burn palmoil plantat thousand anim speci coexist harmoni share live space creatur like bird butterfli rare plant tree flower magic gentl pure world deforest',\n",
              " 'meaningless certif studi make case sustain palm oil',\n",
              " 'indigen territori vital fornatur latin america carribean store carbon indigen territori peruvian amazon reduc deforest x much protect area faoamerica restorationlandrecoveri',\n",
              " 'day far exist tree remain book everyon need think act deforest climatechang globalwarm climateact plantsmakepeoplehappi',\n",
              " 'greenpeac greenpeac activist bring scene forest fire indonesian environ forestri ministri jakarta urg govern take action prevent deforest papua provinc learn gt gt',\n",
              " 'bolsonaro oversaw connecticut size chunk deforest amazon last year',\n",
              " 'indonesia malaysia lead world fight deforest new statist worldresourc show good polici govern transform busi pay dividend nation learn',\n",
              " 'project updat dp train govern offici malawi dpsir approach promot sustainablemanag natur resourc deforest poor environment practic malawi threaten livelihood increas impact natur disast',\n",
              " 'deforest saveclim',\n",
              " 'fertil play key role fight climatechang improv land product help reduc deforest amp increas carbon sequestr potenti soil learn fertil amp climatechang primer',\n",
              " 'report analyz privat initi aim decreas deforest amazon biom focus measur taken decoupl suppli chain amazon deforest',\n",
              " 'challeng nonetheless remain decoupl beef soy amazon deforest produc level zero deforest commit met resist non compliant soy suppli chain grown slightli amazon biom',\n",
              " 'nitishkumar defccoffici dm muzaffarpur deforest forest area skmc hospit campu pleas take appropri action',\n",
              " 'govern take littl credit indonesia recent fall deforest instead market dynam includ demand consum larg respons decreas said k k taufik greenpeaceid via fogartyclim',\n",
              " 'anoth day anoth habitat destroy forestryengland deforest climatecrisi wildlifewatch',\n",
              " 'angi rasmussen also accord oxford univers un meat dairi industri even greater threat planet fossil fuel also caus speci loss increas risk pandem lead loss biodivers caus mass deforest climatechang',\n",
              " 'mcdonald cost earth climatechang deforest',\n",
              " 'ghana bauxit mine atewa give room illeg mine log africa illegallog deforest climat',\n",
              " 'climat chang happen amp happen everywher live alreadi affect warm planet human activ caus fundament chang climat burn fossil fuel amp deforest primari reason choic matter',\n",
              " 'deforest ark',\n",
              " 'deforest teyvat begin',\n",
              " 'time mass deforest',\n",
              " 'deforest updat',\n",
              " 'cosmo synthet paper eco friendli substitut regular paper reduc global deforest made use synthet substrat easili recycl let make sustain switch cosmosyntheticpap',\n",
              " 'nation destroy soil destroy forest lung land purifi air give fresh strength peopl ecofriendli gogreen zeroni environ health mine deforest savetre saveenviron',\n",
              " 'fiction environ mimesi deforest develop latin america northwestern univers press',\n",
              " 'deforest front report provid map compani help priorit focu suppli chain effort invest engag key landscap sustainableleadership naturebasedsolut supplychainmanag',\n",
              " 'shicook appl sallyeav paula piccard jblefevr nicochan labordeolivi gvalan curieuxexplor frronconi enricomolinari mvollmer jeroenbartels fabriziobustama hana elsayi segundoatdel kalydeoo ym heinzvhoenen terenceleungsf restor forest inde best besid end deforest',\n",
              " 'forest alway associ men want chang women ranger indonesia mission battl rampant deforest wildlif poach',\n",
              " 'rare earth miner natur found low concentr environ mine often countri environment amp social standard low caus human right violat deforest amp contamin land amp water sure',\n",
              " 'biggest charcoal packag ever seen deforest real',\n",
              " 'stun dark grain vietnames eboni found predominantli lao vietnam beauti timber far vanish exist beef soy palm oil wood product main culprit caus deforest tree anim run time',\n",
              " 'jpmorgan chase expand deforest polici sharehold pressur financi giant jpmorgan chase agre expand polici address defo anim rehabilit anim sanctuari asia news echo ecosystem natur phuket tha',\n",
              " 'citizen haryana alreadi fight savearav mdu rohtak tree amp green space undergo massiv deforest report drpradeepdesw govt haryana work clean amp green chandigarh never care save environ state',\n",
              " 'plant agbalumo udara chrysophyllum albidum seed three week ago amp germin excit let us plant indigenoustre unless start plant agbalumo tree becom extinct due deforest treerevivalteam sharon ikeazor',\n",
              " 'albomp act amp ban deforest australia tassi want climat inact legacyw turn around strong govern environ peopl stoplog bobbrownfndn',\n",
              " 'environ deforest climat real number research natur tree chipkomov khejadli amritadevi pioneer parveenkaswan',\n",
              " 'back field commun hero plantat drive begun gloom larg scale deforest area brought togeth villag vision creat lakh natur asset plantat across ha year naturenom',\n",
              " 'olam cocoa hit target child labour deforest monitor',\n",
              " 'least week let avoid meat poultri dairi overcomsumpt factoryfarm covid pandem climatechang deforest crueltyfre consum respons ethicalconsum sustain consumer plantbas meatfre',\n",
              " 'award win photograph filmmak kilkenni richard moss new exhibit trist tropiqu showcas larg scale photograph map document fire ravag amazon follow year deforest imag richard moss jackshainman galleri',\n",
              " 'pretti accur hard describ bad brazil presid bolsonaro regard covid far activ promot lightn fast deforest happen speak',\n",
              " 'kungphil ymalhi forestplot oxfordecosystem besforest kimcald mathiasdisney littl vid show wistman wood along black tor cops amp pile cops surviv histor deforest difficult riski clear grow among larg granit boulder',\n",
              " 'kea larg parrot found forest amp alpin region new zealand left wild due deforest intellect challeng monkey make guy smartest bird earth say scientist juli chandeli ig repost wildlif earth',\n",
              " 'new featur call timelaps explor ever chang shape coastlin follow growth megac track deforest much',\n",
              " 'chile vari landscap impact deforest fire amp drought thegef fund new fao led project protect ecosystem amp speci threaten earthday restoreourearth',\n",
              " 'undoubtedlyvrytru simplestlogicforliv nobdi understand futureindark everythingindefinit lifesink destroyingnaturaloxygen killingpreciousecosystem deforest covid waveyettocom covidemerg vri meaning pic describ current situat',\n",
              " 'kenaff mobil member across countri plant tree scale war deforest turn enhanc countri forest cover standwithfarm',\n",
              " 'face cold hard fact sunshin lollipop climat chang pollut deforest habitat loss major problem face dealt',\n",
              " 'northern gray gibbon form close famili bond monogam pair endang brunei indonesia malaysia due deforest illeg hunt pettrad support surviv boycott wildlif',\n",
              " 'public smallhold farmer often implic import agent deforest amp degrad exploit forest amp key driver find',\n",
              " 'deforest amp freshwat pollut led biodivers loss amp food insecur bahama countri partner w thegef amp unep invest climat resili food product practic earthday restoreourearth',\n",
              " 'teyvat deforest gonna start soon enough genshinimpactmem',\n",
              " 'pileat gibbon sing region accent form close bond partner children endang lao cambodia thailand hunt deforest palmoil timber boycott brand destroy home boycott wildlif',\n",
              " 'princyam solar bear deforest',\n",
              " 'bilnaylor ecowarriorss reduc livestock reduc ch emiss deforest reduc high extens land recov use organ solut like biggest food corpor lobbi',\n",
              " 'bio wood industri evil big oil coal driver climat chang destruct environ global scale back billion subsidi paid ordinari peopl vast major oppos climat wreck deforest profit',\n",
              " 'happen lake nakuru eleph number drop massiv recent poach illeg trade deforest winniechech need peopl get wildlif conserv peopl fight surviv',\n",
              " 'financi giant jpmorgan chase agre expand polici address deforest pressur sharehold led invest group green centuri capit manag',\n",
              " 'pulp mill mackenzi bc close due lack local econom fibr employe laid spot red first map show tree plant taken place area larg map show gener deforest bc red vancouv vanciti kitsilano',\n",
              " 'deforest',\n",
              " 'want deforest delici',\n",
              " 'particip artist earthdaynft aidansloanart rariblecom imag meant repres vulner wildlif natur due destruct mankind caus throughout world regard deforest climat chang nft rariblecom',\n",
              " 'lanaparrilla world side se support nrdc deforest amazonrainforest evilreg donat',\n",
              " 'call beauti forest jungl tree plant flower meadow land amp underbrush home famili well live without heartless deforest compani product hunter hiker camper climber govern tourist amp human forev cont',\n",
              " 'hueypnewton european trigger littleiceag use biolog weapon diseas blanket genocid indigenouspeopl stop land convers deforest drop co ppm ppm geoengin',\n",
              " 'transpar view gener deforest red',\n",
              " 'presid wwf duke edinburgh support effort conserv group mexico protect monarch butterfli deforest amp log pose seriou threat duke watch monarch butterfli migrat',\n",
              " 'massiv deforest damn game',\n",
              " 'usaidctrasia central asia perhap driest region earth sahara amp arabiath reason deforest reckless lumber trade amp lack inti peopl involv green cent asia amp bring backlak aral backyou need start billion treestsunami project like pak',\n",
              " 'deforest contribut total carbon emiss world ship car train plane avoid deforest cost effect mean lower carbon emiss wonderwednesday kroenger',\n",
              " 'despit coronaviru pandem amazon deforest surg year high squar kilometr squar mile forest fell accord brazil nation space agenc percent increas year ajenglish',\n",
              " 'factoryfarm said releas total ch potenti global warm annual million tonn co releas deforest anim graze factori farm',\n",
              " 'lockdown indian govern butcher natur forest indigen commun plant commerci monocultur plantat behalf compensatori afforest fund deforest ok compens nb',\n",
              " 'transboundari region cross river state amp sw cameroon recognis hotspot primat divers threaten deforest amp hunt nation park takamanda cross river amp korup repres best chanc surviv',\n",
              " 'ghmconlin director evdm pleas see pictur mark red slaughter tree ghmc offici theft wood deforest midst citi even call ghmc number explan respons ghmc forest dept god help us',\n",
              " 'bolsonaro biden deal protect amazon stall amid pressur indigen environment leader us lawmak urg joe biden condit aid action stem deforest apibofici rainforestnorw rsallesmma institutoraoni',\n",
              " 'madagascar acryl canva amp indian ink deforest graffitiart graffiti abstractart',\n",
              " 'latest issu opoti nd april read moment natur palm oil deforest illeg pet trade push orangutan extinct articl explain brutal realiti illeg pet trade rescu mission sumatra',\n",
              " 'deforest human wage war natur suicid need better planet b one got gt gt govegan',\n",
              " 'present first project project hold great import revolv around major issu face sinc mani year deforest norm nowaday need restor tree highli requir better healthier futur',\n",
              " 'joebiden mr presid brazilian govern institution deforest amazon indigen peopl call help presid minist environ play game logger',\n",
              " 'mr presid brazilian govern institution deforest amazon indigen peopl call help presid minist environ play game logger joebiden',\n",
              " 'indonesia curb deforest strong leadership technolog',\n",
              " 'maruligultom saturnustea weaniejeani hiirobert griffjan belladonnelli gari chandler orangulandtrust coolrun angrydogmum expos russellmoxham wildlingrock orangutan isabellaguerrin juli dutto chunhuam vanillaismd deborahskyrim princessissina bron gar sinarma hypocrisykil gteast screamnevermor pmwatsonob drbirut lizmont moulouann aniroc duncanmacmartin simaactor nicolasnicola jeanniecaton redmayn robert ukmav gikiearth sylviebrandt savetheanim joy fun abubbleofearth tsarromanov incid fire combin four consecut year signific decreas deforest indonesia comment ngo alway combat readi attack indonesia greenpeac greenpeaceid aiindotimor mongabayid wwf drbirut greensefa wdinawan',\n",
              " 'south america speci endang palm oil deforest via palmoildetect',\n",
              " 'deforest accord unit nation food agricultur organis fao estim million acr million hectar forest lost year equal million winsford garden',\n",
              " 'studi find evid support claim deforest cahokia dig deeper appl podcast photo credit matt gush audionew archaeologynew archaeolog archaeologylov deforest cahokia',\n",
              " 'buy one get one tree promo end tonight everi order place midnight tonight sponsor tree plant combat deforest protect beauti planet photo jplenio via pixabay lonepineapparel buyonegetonetre reforest',\n",
              " 'bornean orangutan largest tree dwell mammal world critic endang palmoil deforest disappear help boycott wildlif art welsh',\n",
              " 'grate fought die independ want total freedom year later champion deforest stone age bakeri',\n",
              " 'pollut deforest global warm habitat loss ecosystem look increasingli poor particularli sulphur nitrogen emiss affect natur world abil function grow c wardltd',\n",
              " 'soon want learn climat chang deforest impact popul global join first event confer abrahml cakgoeng jacopoottaviani leticiamklein russellcri environmentredefin',\n",
              " 'british retail brand pz cusson cussonspro make carex imperi leather morn fresh etc continu buy palmoil mill indonesia collect respons ha deforest boycott wildlif shop',\n",
              " 'intellig live brown spider monkey amazon critic endang iucnredlist due beef palmoil deforest rang threat support speci boycott wildlif via palmoildetect',\n",
              " 'april nd join award win children author amp educ evelynbookless read book captain green amp tree machin teach us deforest amp share way young old superhuman help regist',\n",
              " 'rwandan bear scar deforest stop',\n",
              " 'tidytuesday global deforest first attempt choropleth map slow pain experi',\n",
              " 'cotton head tamarin cute plucki primat live rainforest colombia critic endang iucnredlist threat incl palmoil deforest support boycott wildlif supermarket brand',\n",
              " 'world burn fire larger intens like africa particularli sahel sahel need land restor peac happi conflict deforest thrivingsahel auggwi billiontre potu ibrahimthiaw unccd antonioguterr ndeyedd',\n",
              " 'ogrishgor imagin deforest gonna happen',\n",
              " 'deforest solut implement effect join us gmt monday',\n",
              " 'day deforest ehe',\n",
              " 'first flower spring deforest patrol within contest timber sale montana',\n",
              " 'boycott genshin mihoyo recogn detriment affect global warm climat chang ad deforest requir player hous system also opinion need minor stfu say c',\n",
              " 'deforest alert system mitig climat chang articl link michigan detroit annarbor michigand natur healthyliv healthylifestyl healthyfood health healthi fit healthyeat well nutrit vegan healthylif',\n",
              " 'deforest alert system mitig climat chang articl link michigan detroit annarbor michigand natur healthyliv healthylifestyl healthyfood health healthi fit healthyeat well nutrit vegan healthylif',\n",
              " 'deforest alert system mitig climat chang articl link michigan detroit annarbor michigand natur healthyliv healthylifestyl healthyfood health healthi fit healthyeat well nutrit vegan healthylif',\n",
              " 'today daughter birthday make think hard condit world gener leav gener know pleas read pleas share data creat awar rate deforest malaysia',\n",
              " 'drone could major help combat deforest',\n",
              " 'deforest capabl caus major effect take year fix address fact may known deforest',\n",
              " 'assess land fertil drought loss detect deforest chang earth cover caus hostil area knowledg skill kyiv scientist come handi thewinnersofthenrfu',\n",
              " 'bolsonaro biden deal protect amazon stall amid pressur indigen environment leader us lawmak urg joe biden condit aid action stem deforest',\n",
              " 'landscap total chang farmer benefit say say farmer stop farm year find valu chain incentiv ckarangwa',\n",
              " 'new britain sparrowhawk regal bird prey papuanewguinea vulner iucnredlist palmoil deforest convers palmoil plantat known conserv place make art forgotten speci boycott wildlif',\n",
              " 'drone could major help combat deforest',\n",
              " 'mashabl drone could major help combat deforest',\n",
              " 'drone could major help combat deforest',\n",
              " 'chile vari landscap impact deforest fire drought thegef fund new fao led project protect ecosystem speci risk earthday restoreourearth',\n",
              " 'countri success stori declin rate deforest also spotlight without hinder challeng maintain progress eriksolheim speaker view',\n",
              " 'eastern gorilla power yet gentl rel critic endang uganda congo rwanda due complex threat incl poach palmoil deforest protect boycott wildlif',\n",
              " 'biggest issu affect young peopl natur today martina sebastian omar discuss local impact deforest wellb effect gener disconnect natur technolog play part',\n",
              " 'earthday madagascar menab antimena protect area crisi last year hectar forest destroy soccer field deforest rate continu gone year usaid work restoreourearth savemenabeantimena',\n",
              " 'global tree loss hide cloud pierc radar satellit futur innov technolog reforest satellit deforest',\n",
              " 'wild water buffalo nepal india se asia endang iucn red list due deforest hunt left support anim weekli shop boycott wildlif',\n",
              " 'week mppmonday meet jiven sandhu gurjivensandhu canada experi canadian govern work climatechang deforest pollutionpr',\n",
              " 'top european car manufactur buy leather brazilian compani link amazon deforest eu must includ leather upcom eu import deforest law find rainforestnorw new report',\n",
              " 'one ninjascooki spread exhibit messag playground pyp pypx cisdk cisdksom deforest',\n",
              " 'yali team set plant fruit tree within refuge settlement camp around countrybegin april august goal rebuild forest cover lost establish campsand mitig climat chang effect caus massiv deforest',\n",
              " 'yalirlcea uganda set plant fruit tree within refuge settlement camp around countri goal rebuild forest cover lost establish refuge camp mitig climat chang caus deforest uganda yaligoesgreen',\n",
              " 'indonesian rush biodiesel rais fear spike deforest risk',\n",
              " 'april jor pedroso amp niyantaspelman talk revfharp way cathol indigen local commun amazon impact covid deforest co sponsor pulitzercent rsvp',\n",
              " 'new esaappl rapid deforest coastal landscap driven sea level rise extrem event opendata figshar amp earthengin data catalog saltytre dukebgc nsffund nsf emilyuri drbiogc jpwrightecolog geoxiyang',\n",
              " 'opt greener choic food one best thing avoid deforest climat chang could look plant base recip page want inspir even one plant base meal per week make differ',\n",
              " 'scienceporn jessicawin bee hummingbird endang due loss habitat associ ranch deforest also ultra miniatur bird highli suscept storm chang climat',\n",
              " 'keep planet green stop deforest conserv energi',\n",
              " 'jdouglaslittl jkenney easter island face ecolog collaps deforest kept cut tree build moai god save deforest jason kenney kind stupid jkenney',\n",
              " 'call welsh school size wale excit launch two competit primari age children throughout wale help rais awar rainforest deforest learn',\n",
              " 'climateenvoy nickelodeon fact jairbolsonaro deforest explod amazon reach highest absolut number sinc burn biom rose compar ibama fine fell half learn',\n",
              " 'client boss buddhist fight deforest own compani creat light concept say workforcli commiss xeno aom',\n",
              " 'design protect sun use creat clean energi reduc deforest',\n",
              " 'nice report field road impact colombian amazon great graphic show extent problem amp link deforest result steadi decay colombia amazon oliggriffin allyjlevin rodrigoboterog terrai ciat gaiaamazona',\n",
              " 'could know reduc fossil fuel use deforest guess mega maid excit challeng entrench interest',\n",
              " 'one aim project give peopl tool studi impact climat chang like wildfir western us deforest amazon said rebecca moor director googl earth discov monrealit itsolut',\n",
              " 'naturecampaign give healthi environ live upcom gener spread awar deforest issu saintdrgurmeetramrahimji saintdrmsg babaramrahim derasachasauda savenatureforfutur',\n",
              " 'commit improv traceabl reduc deforest leather suppli chain identifi posit actor via lwg audit standard amp collabor expert field learn work',\n",
              " 'great convers morn deforest watch simaclassroom film big damag david fedel ss nkhamenyapss malawi relat sdg fantast drdori frmdbljoy inspirecitizen inspirecitizen',\n",
              " 'today kick climat action campaign friday match donat made particip project better time act climatechang',\n",
              " 'ai help prevent deforest human wildlif conflict help reduc impact climatechang explain milindtamb ai hsea host ericcolsen reelscienc w green ema',\n",
              " 'report find crimin mine group contribut surg deforest indigeni land amazon',\n",
              " 'mandystak jj fungkoo take major land back livestock farm deforest forest soil oil vandana shiva climat chang show beyond depend fossil fuel kiss ground',\n",
              " 'hope see end commod era materi sourc larg unknown origin bought pure price transact basi',\n",
              " 'xiyebastida happi birthday montana deforest patrol deep timber sale unit look cut unit amp first flower spring',\n",
              " 'northern white cheek gibbon critic endang iucnredlist vietnam lao due hunt pet trade deforest palmoil save speci make art join boycott wildlif',\n",
              " 'hamlettclair bbc bbcnew cbbc use know corrupt wef money amp becam ecofascist brazil cattl pastur fed regard wef stitch asset conserv ye cattl go trampl amp fertil deforest done land specul',\n",
              " 'face cold hard fact sunshin lollipop climat chang pollut deforest habitat loss major problem face dealt',\n",
              " 'hamlettclair bbc bbcnew cbbc human use uk vegan contribut deforest cattl sheep cours alway intent nazi one came soya human food bonker amp fals rewild idea still bear wolf slav land germani',\n",
              " 'thank washfellowship alumni creat green refuge commun project combat deforest tree plant wildlif prevent drought flood earthday',\n",
              " 'joebiden govern ask money protect amazon one day ago reduc power one main agenc control deforest amazoniaoubolsonaro amazonorbolsonaro',\n",
              " 'joebiden govern ask money protect amazon one day ago reduc power one main agenc control deforest amazoniaoubolsonaro amazonorbolsonaro',\n",
              " 'joebiden sinc bolsonaro taken offic deforest rate risen realiti deforest rate highest sinc start rise shortli bolsonaro took presid amazonorbolsonaro amazoniaoubolsonaro',\n",
              " 'veget import life earth take co provid food earth observ satellit like usg nasa landsat help us see chang arctic amazon includ chang pattern deforest connectedbyearth',\n",
              " 'hey joebiden vice presid brazil hamilton mour sign plan amazon aim leav deforest higher bolsonaro took offic un usun nacoesunida amaz niaoubolsonaro amazonorbolsonaro',\n",
              " 'brazilian amazon deforest march compar month year ago accord sad system manag imazon',\n",
              " 'dyk climat chang esg risk face busi across sector grow number investor proactiv address risk portfolio organ taken step ceresnew everydayesg deforest',\n",
              " 'track amazon deforest',\n",
              " 'deforest rondonia brazil view googl earth engin',\n",
              " 'fight climat chang care protect natur protect natur keep carbon ground help end deforest follow along infograph inform survivalrevolut',\n",
              " 'fight climat chang care protect natur protect natur keep carbon ground help end deforest follow along infograph inform survivalrevolut',\n",
              " 'brasil timelaps deforest check devastast',\n",
              " 'daychartchalleng day connect tidytuesday deforest plot show net forest convers hectar dataset ourworldindata code python plotli',\n",
              " 'extrem use roundup valoreconomico meatpack grain trader environment target emiss deforest',\n",
              " 'kishineff stanford studi caus littleiceag lia end land crop deforest diseas blanket honor gift genocid indigenouspeopl allow regrowth drop co ppm ppm caus piti',\n",
              " 'plant tree amp avoid deforest key measur reduc human impact global climatechang nwf share proven way tree make big differ',\n",
              " 'deforest corrupt consequ sembrandovida feder govern ambiti environment program seek reforest million hectar deterior land throughout mexico read full report',\n",
              " 'land use chang deforest contribut carbon emiss everi year healrworld cj environmentfriendli sustainableliv sustainabilitygo',\n",
              " 'ezekiel iii manscap deforest differ',\n",
              " 'azerbaijani govern accus armenian deforest cut tree firewood displac middl winter build new road untouch forest instead work armenian use karmir shuka shushi highway',\n",
              " 'includ expand reus infrastructur plan address environment degrad deforest incom inequ human right abus loss biodivers unsustain resourc manag environment injustic amp climat crisi aoc sensand mar elonmusk earth',\n",
              " 'accept challeng enter amazon rainforest lung world faq amazonrainforest',\n",
              " 'beauti world slowli taken apart thoughtless corpor place profit margin welfar peopl health welfar destroy ecosystem intent result manipul greed deforest',\n",
              " 'seri grito brasil show despair fauna flora face deforest fire due variou circumst continu destroy preciou asset nft nftcommun hicetnunc cleannft nftcollector',\n",
              " 'idea massiv destruct congo basin rain forest affect live us watch interview nnimmob environment activist author director ecohomef deforest',\n",
              " 'earthday research symposium thu april nd pm pdt speaker samarpita basu aalarkin tatsuro tanioka rosariourib wangathan topic marin biogeochemistri deforest ecosystem carbon uptak regist',\n",
              " 'miss deforest hidden daili live evalu corpor action deforest part earthactionhub may utc forest ethomson regist climateact youthempower',\n",
              " 'also research showcas alejandro guizar present preliminari analysi impact evalu vc redd project data explor effect slow deforest climateexpo',\n",
              " 'plant tree protect till matur protect provid support environ infrastructur say deforest indiscremin cut tree plant tree save environ save planet save life',\n",
              " 'plant tree protect till matur protect provid support environ infrastructur say deforest indiscremin cut tree plant tree save environ save planet save life',\n",
              " 'plant tree protect till matur protect provid support environ infrastructur say deforest indiscremin cut tree plant tree save environ save planet save life',\n",
              " 'ayyubid rule dethron circassian caucasian gener ayyubid court call mamluk mamluk neglect region leav depopul deforest non muslim non arab popul face deepen arab forc convers',\n",
              " 'silveri gibbon genu hylob mean forest walker latin sing local accent thrill acrobat skill endang iucnredlist deforest incl palmoil boycott wildlif',\n",
              " 'pleas stop deforest delhi moefcc ndn hq delhitreesso delhitre arvindkejriw northdmc officialsdmc tweetndmc mcddelhi',\n",
              " 'correct congratul fulbright robyn barrow pennsa award grant fulbrightprgrm conduct research iceland barrow studi belief system surround wood effect deforest art make manuscript product mediev iceland',\n",
              " 'let dive fruit week rd year scholar jacob anther sumbuda mission aim enhanc sustain land use combat deforest south sudan mission join alu discov sowc missionnotmajor',\n",
              " 'savebuxwahaforest saveplanetearth savetre savel take action save live creatur earth stop deforest',\n",
              " 'catastroph sierraleon sell rainforest chines fish plant controversi deal china would disastr fish protect rainforest say oppon china deforest',\n",
              " 'mar deliv latest cocoa forest report highlight progress target tackl deforest sector mar euaffair marsuk confectioneri report cocoa cfi forest campaign ghana ivorycoast confectioneryproduct',\n",
              " 'great see cop team recogn import combat deforest reach planet climat goal learn togetherforourplanet climateact',\n",
              " 'alejandro lopera gave updat insect studi happen field lo amigo station talk emphas ecosystem amp area interconnect alter one part system hunt deforest affect other',\n",
              " 'southern river terrapin critic endang iucnredlist due palmoil deforest human threat live river indonesia malaysia support artiv boycott wildlif',\n",
              " 'sign carbonacademi offset compani carbon footprint tree plant tonn carbon save amazon rainforest carbon footprint avoid deforest project sustain climatechang',\n",
              " 'spread awar deforest issu amp encourag peopl save tree plant sapl amp nurtur naturecampaign savemotherearth saveenviron treeplant saint dr gurmeet ram rahim singh ji insan',\n",
              " 'wwf senior forest polici offic aschulmeistero eu respons import tropic deforest new deforest eu law live promis',\n",
              " 'deforest big problem africa right illeg fell tree guess middl guess rightchina china chinarocket',\n",
              " 'warn esg investor proctergambl failur address irrespons pulp palm oil supplier creat reput risk compani esg fund manag see',\n",
              " 'imo avoid deforest good use carbon offset resourc plant new tree remov new co instead',\n",
              " 'role commerci forestri displac carbon intens materi built environ creat long term carbon sink drive afforest encourag reforest reduc deforest',\n",
              " 'kill environ make batteri plant tree sustain ever grow peopl market team jcilead bucharest tackl deforest local easi stake valid alwaysgreen',\n",
              " 'agricultur expans result increas popul dietari chang respons major world deforest deforest forestsdegrad illegallog edwardstanton',\n",
              " 'harm good laugh want understand truth matter pleas follow bberwyn read starter saveplanetearth one tree time',\n",
              " 'fresh deforest suit hoimasugar amp accomplic tomorrow tuesday th may high court civil divis twed tower elawu ciel tweet unep novicelisa romainravet opensocietyea unep africa kiizaeron lauramuwanguzi netpiluganda',\n",
              " 'invest giant blackrock hold million share commod drive deforest amp human right abus around globe join us wednesday may th kickoff week action urg blackrock lead climat justic',\n",
              " 'deforest threaten forest across world amazon borneo congo state afford lose preciou ecosystem take action',\n",
              " 'primat still case biggest threat deforest habitat fragment poach live trade well known threat address year issu often overlook grow concern savemonke',\n",
              " 'vote patriot fundament brazil built unpreced environment disast addit devast caus deforest equival twice size norway chang climat state pandem',\n",
              " 'forget tune grassandco instagram live onetreepl thursday pm fantast non profit organis focus global deforest talk incred work mission',\n",
              " 'mondaythought anim safe deforest hunt free live live care young famili pair two to sloth mother babi take afternoon nap tree beauti thing see paulrosoli',\n",
              " 'co convert alreadi famili grow plu grow kid particip first growatre campaign lead summer fight deforest climat chang start go',\n",
              " 'sustain harvest rattan help forest mainten tree necessari vine properli grow increas demand rattan help lessen deforest rattan found pine sequoia junip laurel palm bag purseforthepeopl',\n",
              " 'greenworld uk thegreenparti sir david attenborough say protect wildlif buy product made deforest free sustain palm oil compani support local peopl use exist palm oil plantat without cut rainforest',\n",
              " 'silveri gibbon genu hylob mean forest walker latin sing local accent thrill acrobat skill endang iucnredlist deforest incl palmoil boycott wildlif',\n",
              " 'stop deforest',\n",
              " 'accept challeng enter amazon rainforest lung world faq amazonrainforest',\n",
              " 'lighter take subject deforest heavier cost palm leaf plate made natur fallen handpick palm leav tree cut process use code ecosoul checkout product palmleafpl']"
            ]
          },
          "metadata": {},
          "execution_count": 23
        }
      ]
    },
    {
      "cell_type": "code",
      "source": [
        "test_dataset=pd.read_csv(\"deforestation_sentiment_val.csv\")"
      ],
      "metadata": {
        "id": "I7XA_Pl0Wzx8"
      },
      "execution_count": 24,
      "outputs": []
    },
    {
      "cell_type": "code",
      "source": [
        "test_dataset[\"sentiments_list\"].value_counts()"
      ],
      "metadata": {
        "colab": {
          "base_uri": "https://localhost:8080/"
        },
        "id": "Q1e5AgDfWzuU",
        "outputId": "8db9b7fa-982d-4e85-b604-f4422a170a55"
      },
      "execution_count": 25,
      "outputs": [
        {
          "output_type": "execute_result",
          "data": {
            "text/plain": [
              "{'neutral'}                28\n",
              "{'neutral', 'negative'}     4\n",
              "{'positive'}                4\n",
              "{'neutral', 'positive'}     4\n",
              "{'positive', 'neutral'}     2\n",
              "{'negative'}                1\n",
              "Name: sentiments_list, dtype: int64"
            ]
          },
          "metadata": {},
          "execution_count": 25
        }
      ]
    },
    {
      "cell_type": "code",
      "source": [
        "for index,row in test_dataset.iterrows():\n",
        "  try:\n",
        "    if \"positive\" in row[\"sentiments_list\"]:\n",
        "      test_dataset.at[index, 'sentiment'] = 1\n",
        "    else:\n",
        "      test_dataset.at[index, 'sentiment'] = 0\n",
        "  except:  # For columns where there are nan values this step will add the sentiment as 0\n",
        "    test_dataset.at[index, 'sentiment'] = 0"
      ],
      "metadata": {
        "id": "DZ77YLbVWzsu"
      },
      "execution_count": 26,
      "outputs": []
    },
    {
      "cell_type": "markdown",
      "source": [
        "### Preprocessing the test dataset"
      ],
      "metadata": {
        "id": "UAsnaddjXGRC"
      }
    },
    {
      "cell_type": "code",
      "source": [
        "### Dataset Preprocessing\n",
        "import tqdm\n",
        "from nltk.stem.porter import PorterStemmer ##stemming purpose\n",
        "ps = PorterStemmer()\n",
        "test_corpus = []\n",
        "for i in tqdm.tqdm(range(0, len(test_dataset))):\n",
        "  #Remove hyperlinks\n",
        "  tweet2 = re.sub(r'https?:\\/\\/.*[\\r\\n]*','', test_dataset['text'][i])\n",
        "\n",
        "  #Remove non alphabetic words\n",
        "  tweet2 = re.sub('[^a-zA-Z]', ' ', tweet2)\n",
        "\n",
        "  #Remove hastags\n",
        "  #Only removing the hash # sign from the word\n",
        "  tweet2 = re.sub(r'#','',tweet2)\n",
        "      \n",
        "  # instantiate tokenizer class\n",
        "  tokenizer = TweetTokenizer(preserve_case=False,    strip_handles=True, reduce_len=True)\n",
        "\n",
        "  # tokenize tweets\n",
        "  tweet_tokens = tokenizer.tokenize(tweet2)    \n",
        "      \n",
        "  #Import the english stop words list from NLTK\n",
        "  stopwords_english = stopwords.words('english') \n",
        "\n",
        "  #Creating a list of words without stopwords\n",
        "  tweets_clean = []\n",
        "  for word in tweet_tokens:\n",
        "      if word not in stopwords_english and word not in string.punctuation:\n",
        "          tweets_clean.append(word)\n",
        "      \n",
        "  #Instantiate stemming class\n",
        "  stemmer = PorterStemmer()\n",
        "\n",
        "  #Creating a list of stems of words in tweet\n",
        "  tweets_stem = []\n",
        "  for word in tweets_clean:\n",
        "      stem_word = stemmer.stem(word)\n",
        "      tweets_stem.append(stem_word)\n",
        "  text=\" \".join([i for i in tweets_stem])\n",
        "  test_corpus.append(text)"
      ],
      "metadata": {
        "colab": {
          "base_uri": "https://localhost:8080/"
        },
        "id": "vZ_UQfe-XFb3",
        "outputId": "23143546-f334-4d04-aa4a-4406c185fe4c"
      },
      "execution_count": 27,
      "outputs": [
        {
          "output_type": "stream",
          "name": "stderr",
          "text": [
            "100%|██████████| 248/248 [00:00<00:00, 1048.73it/s]\n"
          ]
        }
      ]
    },
    {
      "cell_type": "markdown",
      "source": [
        "### Embedding Representation"
      ],
      "metadata": {
        "id": "vtAAsH_4V_c2"
      }
    },
    {
      "cell_type": "code",
      "source": [
        "onehot_repr=[one_hot(words,voc_size)for words in train_corpus] \n",
        "sent_length=len(max(train_corpus+test_corpus, key = len).split()) #Getting the maximum length of the sentence in our corpus\n",
        "embedded_docs=pad_sequences(onehot_repr,padding='post',maxlen=sent_length)\n",
        "X_train=np.array(embedded_docs)\n",
        "y_train=np.array(y)"
      ],
      "metadata": {
        "id": "DcisxIXoUavd"
      },
      "execution_count": 28,
      "outputs": []
    },
    {
      "cell_type": "code",
      "source": [
        "onehot_repr=[one_hot(words,voc_size)for words in test_corpus] \n",
        "sent_length=len(max(train_corpus+test_corpus, key = len).split()) #Getting the maximum length of the sentence in our corpus\n",
        "embedded_docs=pad_sequences(onehot_repr,padding='post',maxlen=sent_length)\n",
        "X_test=np.array(embedded_docs)\n",
        "y_test=np.array(test_dataset['sentiment'])"
      ],
      "metadata": {
        "id": "yFFGgKUtXf1D"
      },
      "execution_count": 29,
      "outputs": []
    },
    {
      "cell_type": "code",
      "source": [
        "from tensorflow.keras.layers import Dropout\n",
        "## Creating model\n",
        "embedding_vector_features=50 # Fixed size vector for each word (Hyperparameter 2)\n",
        "model=Sequential()\n",
        "model.add(Embedding(voc_size,embedding_vector_features,input_length=sent_length))\n",
        "model.add(Dropout(0.3))\n",
        "model.add(LSTM(100))\n",
        "model.add(Dropout(0.3))\n",
        "model.add(Dense(1,activation='sigmoid'))\n",
        "model.compile(loss='binary_crossentropy',optimizer='adam',metrics=['accuracy'])"
      ],
      "metadata": {
        "id": "_LYmqr-ZVJE3"
      },
      "execution_count": 30,
      "outputs": []
    },
    {
      "cell_type": "code",
      "source": [
        "print(model.summary())"
      ],
      "metadata": {
        "colab": {
          "base_uri": "https://localhost:8080/"
        },
        "id": "fHAw_zJ_VftY",
        "outputId": "84ae88d0-3ab7-440e-dbd4-00b853b8b8a3"
      },
      "execution_count": 31,
      "outputs": [
        {
          "output_type": "stream",
          "name": "stdout",
          "text": [
            "Model: \"sequential\"\n",
            "_________________________________________________________________\n",
            " Layer (type)                Output Shape              Param #   \n",
            "=================================================================\n",
            " embedding (Embedding)       (None, 85, 50)            250000    \n",
            "                                                                 \n",
            " dropout (Dropout)           (None, 85, 50)            0         \n",
            "                                                                 \n",
            " lstm (LSTM)                 (None, 100)               60400     \n",
            "                                                                 \n",
            " dropout_1 (Dropout)         (None, 100)               0         \n",
            "                                                                 \n",
            " dense (Dense)               (None, 1)                 101       \n",
            "                                                                 \n",
            "=================================================================\n",
            "Total params: 310,501\n",
            "Trainable params: 310,501\n",
            "Non-trainable params: 0\n",
            "_________________________________________________________________\n",
            "None\n"
          ]
        }
      ]
    },
    {
      "cell_type": "code",
      "source": [
        "from keras.utils import plot_model\n",
        "# Plot model graph\n",
        "plot_model(model, show_shapes=True, show_layer_names=True, to_file='model.png')\n",
        "from IPython.display import Image\n",
        "Image(retina=True, filename='model.png')"
      ],
      "metadata": {
        "colab": {
          "base_uri": "https://localhost:8080/",
          "height": 330
        },
        "id": "cNqosce7Vkb-",
        "outputId": "cd993c02-63ce-4fba-9314-3a38920be710"
      },
      "execution_count": 32,
      "outputs": [
        {
          "output_type": "execute_result",
          "data": {
            "image/png": "[encoded data removed]",
            "text/plain": [
              "<IPython.core.display.Image object>"
            ]
          },
          "metadata": {
            "image/png": {
              "width": 182,
              "height": 313
            }
          },
          "execution_count": 32
        }
      ]
    },
    {
      "cell_type": "code",
      "source": [
        "X_train.shape,y_train.shape"
      ],
      "metadata": {
        "colab": {
          "base_uri": "https://localhost:8080/"
        },
        "id": "BNrYqxErVviA",
        "outputId": "66cc419f-2d71-4261-86a1-eccecc7b1a4f"
      },
      "execution_count": 33,
      "outputs": [
        {
          "output_type": "execute_result",
          "data": {
            "text/plain": [
              "((937, 85), (937,))"
            ]
          },
          "metadata": {},
          "execution_count": 33
        }
      ]
    },
    {
      "cell_type": "code",
      "source": [
        "X_test.shape,y_test.shape"
      ],
      "metadata": {
        "colab": {
          "base_uri": "https://localhost:8080/"
        },
        "id": "2IU4mqhVX2Gw",
        "outputId": "2b67d944-4a8d-4197-c30b-5fcc515fb8c7"
      },
      "execution_count": 34,
      "outputs": [
        {
          "output_type": "execute_result",
          "data": {
            "text/plain": [
              "((248, 85), (248,))"
            ]
          },
          "metadata": {},
          "execution_count": 34
        }
      ]
    },
    {
      "cell_type": "code",
      "source": [
        "### Finally Training\n",
        "model.fit(X_train,y_train,validation_data=(X_test,y_test),epochs=10,batch_size=64)"
      ],
      "metadata": {
        "colab": {
          "base_uri": "https://localhost:8080/"
        },
        "id": "iA6VnXLdYAVA",
        "outputId": "edb51d5c-bfe1-48cb-9071-c94d237b0055"
      },
      "execution_count": 35,
      "outputs": [
        {
          "output_type": "stream",
          "name": "stdout",
          "text": [
            "Epoch 1/10\n",
            "15/15 [==============================] - 8s 48ms/step - loss: 0.4611 - accuracy: 0.8954 - val_loss: 0.1796 - val_accuracy: 0.9597\n",
            "Epoch 2/10\n",
            "15/15 [==============================] - 0s 15ms/step - loss: 0.2135 - accuracy: 0.9498 - val_loss: 0.1739 - val_accuracy: 0.9597\n",
            "Epoch 3/10\n",
            "15/15 [==============================] - 0s 13ms/step - loss: 0.2065 - accuracy: 0.9498 - val_loss: 0.1698 - val_accuracy: 0.9597\n",
            "Epoch 4/10\n",
            "15/15 [==============================] - 0s 12ms/step - loss: 0.2008 - accuracy: 0.9498 - val_loss: 0.1695 - val_accuracy: 0.9597\n",
            "Epoch 5/10\n",
            "15/15 [==============================] - 0s 14ms/step - loss: 0.2006 - accuracy: 0.9498 - val_loss: 0.1702 - val_accuracy: 0.9597\n",
            "Epoch 6/10\n",
            "15/15 [==============================] - 0s 13ms/step - loss: 0.2050 - accuracy: 0.9498 - val_loss: 0.1711 - val_accuracy: 0.9597\n",
            "Epoch 7/10\n",
            "15/15 [==============================] - 0s 12ms/step - loss: 0.2029 - accuracy: 0.9498 - val_loss: 0.1691 - val_accuracy: 0.9597\n",
            "Epoch 8/10\n",
            "15/15 [==============================] - 0s 13ms/step - loss: 0.2041 - accuracy: 0.9498 - val_loss: 0.1702 - val_accuracy: 0.9597\n",
            "Epoch 9/10\n",
            "15/15 [==============================] - 0s 13ms/step - loss: 0.2026 - accuracy: 0.9498 - val_loss: 0.1702 - val_accuracy: 0.9597\n",
            "Epoch 10/10\n",
            "15/15 [==============================] - 0s 12ms/step - loss: 0.1976 - accuracy: 0.9498 - val_loss: 0.1693 - val_accuracy: 0.9597\n"
          ]
        },
        {
          "output_type": "execute_result",
          "data": {
            "text/plain": [
              "<keras.callbacks.History at 0x7fd7a02303a0>"
            ]
          },
          "metadata": {},
          "execution_count": 35
        }
      ]
    },
    {
      "cell_type": "code",
      "source": [
        "y_pred=model.predict(X_test)"
      ],
      "metadata": {
        "colab": {
          "base_uri": "https://localhost:8080/"
        },
        "id": "5iIEhblgYDmT",
        "outputId": "845012bb-f213-4c7c-aaaf-8a2d38c1f093"
      },
      "execution_count": 36,
      "outputs": [
        {
          "output_type": "stream",
          "name": "stdout",
          "text": [
            "8/8 [==============================] - 0s 3ms/step\n"
          ]
        }
      ]
    },
    {
      "cell_type": "code",
      "source": [
        "y_pred=np.where(y_pred > 0.6, 1,0) "
      ],
      "metadata": {
        "id": "R6E9nIQPYUeT"
      },
      "execution_count": 37,
      "outputs": []
    },
    {
      "cell_type": "code",
      "source": [
        "from sklearn.metrics import confusion_matrix"
      ],
      "metadata": {
        "id": "OzoTpGg5YK8L"
      },
      "execution_count": 38,
      "outputs": []
    },
    {
      "cell_type": "code",
      "source": [
        "confusion_matrix(y_test,y_pred)"
      ],
      "metadata": {
        "colab": {
          "base_uri": "https://localhost:8080/"
        },
        "id": "2TYTpfZoYMji",
        "outputId": "3e4430cd-27a5-4298-84d4-8084c0392eb4"
      },
      "execution_count": 39,
      "outputs": [
        {
          "output_type": "execute_result",
          "data": {
            "text/plain": [
              "array([[238,   0],\n",
              "       [ 10,   0]])"
            ]
          },
          "metadata": {},
          "execution_count": 39
        }
      ]
    },
    {
      "cell_type": "markdown",
      "source": [
        "# Metrics Used\n",
        "\n",
        "\n",
        "*   Accuracy\n",
        "*   Precision \n",
        "*   Recall\n",
        "*   ROC - AUC Curve\n",
        "\n",
        "\n",
        "\n"
      ],
      "metadata": {
        "id": "i5Sdv4DcZDgl"
      }
    },
    {
      "cell_type": "code",
      "source": [
        "from sklearn.metrics import accuracy_score\n",
        "accuracy_score(y_test,y_pred)  # Accuracy of 95% , but the dataset is heavily biased towards negative reviews hence accuracy not a good measure"
      ],
      "metadata": {
        "colab": {
          "base_uri": "https://localhost:8080/"
        },
        "id": "aHcvAIynYZro",
        "outputId": "c76cbd87-d29a-4a43-a48d-aa92da558d9a"
      },
      "execution_count": 40,
      "outputs": [
        {
          "output_type": "execute_result",
          "data": {
            "text/plain": [
              "0.9596774193548387"
            ]
          },
          "metadata": {},
          "execution_count": 40
        }
      ]
    },
    {
      "cell_type": "code",
      "source": [
        "from sklearn.metrics import classification_report\n",
        "print(classification_report(y_test,y_pred))  # Precision and Recall towards class 0 ( Negative) is high but poor fot class 1"
      ],
      "metadata": {
        "colab": {
          "base_uri": "https://localhost:8080/"
        },
        "id": "EwrruR6gYbDP",
        "outputId": "fba1ee82-585f-41e8-b514-173fbc22f6ec"
      },
      "execution_count": 41,
      "outputs": [
        {
          "output_type": "stream",
          "name": "stdout",
          "text": [
            "              precision    recall  f1-score   support\n",
            "\n",
            "         0.0       0.96      1.00      0.98       238\n",
            "         1.0       0.00      0.00      0.00        10\n",
            "\n",
            "    accuracy                           0.96       248\n",
            "   macro avg       0.48      0.50      0.49       248\n",
            "weighted avg       0.92      0.96      0.94       248\n",
            "\n"
          ]
        },
        {
          "output_type": "stream",
          "name": "stderr",
          "text": [
            "/usr/local/lib/python3.8/dist-packages/sklearn/metrics/_classification.py:1318: UndefinedMetricWarning: Precision and F-score are ill-defined and being set to 0.0 in labels with no predicted samples. Use `zero_division` parameter to control this behavior.\n",
            "  _warn_prf(average, modifier, msg_start, len(result))\n",
            "/usr/local/lib/python3.8/dist-packages/sklearn/metrics/_classification.py:1318: UndefinedMetricWarning: Precision and F-score are ill-defined and being set to 0.0 in labels with no predicted samples. Use `zero_division` parameter to control this behavior.\n",
            "  _warn_prf(average, modifier, msg_start, len(result))\n",
            "/usr/local/lib/python3.8/dist-packages/sklearn/metrics/_classification.py:1318: UndefinedMetricWarning: Precision and F-score are ill-defined and being set to 0.0 in labels with no predicted samples. Use `zero_division` parameter to control this behavior.\n",
            "  _warn_prf(average, modifier, msg_start, len(result))\n"
          ]
        }
      ]
    },
    {
      "cell_type": "code",
      "source": [
        "from sklearn import metrics  # AUC is 0.5 which means that the predictions are very random\n",
        "fpr, tpr, _ = metrics.roc_curve(y_test,  y_pred)\n",
        "import matplotlib.pyplot as plt\n",
        "#create ROC curve\n",
        "plt.plot(fpr,tpr)\n",
        "plt.ylabel('True Positive Rate')\n",
        "plt.xlabel('False Positive Rate')\n",
        "plt.show()"
      ],
      "metadata": {
        "colab": {
          "base_uri": "https://localhost:8080/",
          "height": 279
        },
        "id": "THGHW6qoYb-w",
        "outputId": "de51de99-a2d1-4150-fa98-eafe100e1ea8"
      },
      "execution_count": 42,
      "outputs": [
        {
          "output_type": "display_data",
          "data": {
            "text/plain": [
              "<Figure size 432x288 with 1 Axes>"
            ],
            "image/png": "[encoded data removed]"
          },
          "metadata": {
            "needs_background": "light"
          }
        }
      ]
    },
    {
      "cell_type": "markdown",
      "source": [
        "## Model 2 - Vary the knowledge representation."
      ],
      "metadata": {
        "id": "p-na5P0RZlR4"
      }
    },
    {
      "cell_type": "markdown",
      "source": [
        "##### Using Word2Vec for embedding layer"
      ],
      "metadata": {
        "id": "ONNRugIYaHBT"
      }
    },
    {
      "cell_type": "code",
      "source": [
        "from keras.preprocessing.text import Tokenizer\n",
        "vocab_size = 5000\n",
        "max_length = 100 #Because we are using a GLOVE Model of 100 dimensions vector\n",
        "oov_token = \"<OOV>\"\n",
        "tokenizer = Tokenizer(num_words = vocab_size, oov_token=oov_token)\n",
        "tokenizer.fit_on_texts(train_corpus)"
      ],
      "metadata": {
        "id": "vtr-CTauaTYi"
      },
      "execution_count": 56,
      "outputs": []
    },
    {
      "cell_type": "code",
      "source": [
        "#mapping of the words to numbers.\n",
        "word_index = tokenizer.word_index"
      ],
      "metadata": {
        "id": "boL9T92wY22K"
      },
      "execution_count": 57,
      "outputs": []
    },
    {
      "cell_type": "code",
      "source": [
        "word_index"
      ],
      "metadata": {
        "colab": {
          "base_uri": "https://localhost:8080/"
        },
        "id": "qlZQIvNucQWw",
        "outputId": "48b0eff0-85db-4f67-a397-211c5a3dda89"
      },
      "execution_count": 45,
      "outputs": [
        {
          "output_type": "execute_result",
          "data": {
            "text/plain": [
              "{'<OOV>': 1,\n",
              " 'deforest': 2,\n",
              " 'forest': 3,\n",
              " 'amp': 4,\n",
              " 'tree': 5,\n",
              " 'climat': 6,\n",
              " 'wildlif': 7,\n",
              " 'amazon': 8,\n",
              " 'plant': 9,\n",
              " 'chang': 10,\n",
              " 'protect': 11,\n",
              " 'world': 12,\n",
              " 'help': 13,\n",
              " 'sustain': 14,\n",
              " 'year': 15,\n",
              " 'natur': 16,\n",
              " 'peopl': 17,\n",
              " 'land': 18,\n",
              " 'product': 19,\n",
              " 'use': 20,\n",
              " 'anim': 21,\n",
              " 'us': 22,\n",
              " 'oil': 23,\n",
              " 'stop': 24,\n",
              " 'caus': 25,\n",
              " 'global': 26,\n",
              " 'environ': 27,\n",
              " 'worldwildlifeday': 28,\n",
              " 'one': 29,\n",
              " 'new': 30,\n",
              " 'human': 31,\n",
              " 'support': 32,\n",
              " 'palm': 33,\n",
              " 'biodivers': 34,\n",
              " 'indigen': 35,\n",
              " 'eu': 36,\n",
              " 'make': 37,\n",
              " 'earth': 38,\n",
              " 'save': 39,\n",
              " 'loss': 40,\n",
              " 'palmoil': 41,\n",
              " 'learn': 42,\n",
              " 'planet': 43,\n",
              " 'area': 44,\n",
              " 'brazil': 45,\n",
              " 'habitat': 46,\n",
              " 'read': 47,\n",
              " 'due': 48,\n",
              " 'speci': 49,\n",
              " 'govern': 50,\n",
              " 'agricultur': 51,\n",
              " 'live': 52,\n",
              " 'chain': 53,\n",
              " 'today': 54,\n",
              " 'reduc': 55,\n",
              " 'rainforest': 56,\n",
              " 'indonesia': 57,\n",
              " 'end': 58,\n",
              " 'soy': 59,\n",
              " 'need': 60,\n",
              " 'day': 61,\n",
              " 'destroy': 62,\n",
              " 'meat': 63,\n",
              " 'fight': 64,\n",
              " 'group': 65,\n",
              " 'endang': 66,\n",
              " 'environment': 67,\n",
              " 'say': 68,\n",
              " 'compani': 69,\n",
              " 'link': 70,\n",
              " 'cut': 71,\n",
              " 'boycott': 72,\n",
              " 'climatechang': 73,\n",
              " 'local': 74,\n",
              " 'work': 75,\n",
              " 'impact': 76,\n",
              " 'green': 77,\n",
              " 'food': 78,\n",
              " 'major': 79,\n",
              " 'import': 80,\n",
              " 'like': 81,\n",
              " 'risk': 82,\n",
              " 'illeg': 83,\n",
              " 'includ': 84,\n",
              " 'emiss': 85,\n",
              " 'commun': 86,\n",
              " 'find': 87,\n",
              " 'project': 88,\n",
              " 'also': 89,\n",
              " 'pollut': 90,\n",
              " 'could': 91,\n",
              " 'water': 92,\n",
              " 'lead': 93,\n",
              " 'carbon': 94,\n",
              " 'beef': 95,\n",
              " 'report': 96,\n",
              " 'free': 97,\n",
              " 'countri': 98,\n",
              " 'threat': 99,\n",
              " 'take': 100,\n",
              " 'ecosystem': 101,\n",
              " 'pandem': 102,\n",
              " 'let': 103,\n",
              " 'suppli': 104,\n",
              " 'degrad': 105,\n",
              " 'destruct': 106,\n",
              " 'right': 107,\n",
              " 'grow': 108,\n",
              " 'made': 109,\n",
              " 'threaten': 110,\n",
              " 'issu': 111,\n",
              " 'conserv': 112,\n",
              " 'bill': 113,\n",
              " 'increas': 114,\n",
              " 'french': 115,\n",
              " 'action': 116,\n",
              " 'look': 117,\n",
              " 'provid': 118,\n",
              " 'effect': 119,\n",
              " 'well': 120,\n",
              " 'develop': 121,\n",
              " 'last': 122,\n",
              " 'nation': 123,\n",
              " 'time': 124,\n",
              " 'face': 125,\n",
              " 'commod': 126,\n",
              " 'gt': 127,\n",
              " 'see': 128,\n",
              " 'call': 129,\n",
              " 'first': 130,\n",
              " 'want': 131,\n",
              " 'polici': 132,\n",
              " 'creat': 133,\n",
              " 'supermarket': 134,\n",
              " 'solut': 135,\n",
              " 'key': 136,\n",
              " 'soil': 137,\n",
              " 'health': 138,\n",
              " 'everi': 139,\n",
              " 'respons': 140,\n",
              " 'critic': 141,\n",
              " 'log': 142,\n",
              " 'covid': 143,\n",
              " 'problem': 144,\n",
              " 'fuel': 145,\n",
              " 'continu': 146,\n",
              " 'tropic': 147,\n",
              " 'great': 148,\n",
              " 'money': 149,\n",
              " 'plantat': 150,\n",
              " 'via': 151,\n",
              " 'put': 152,\n",
              " 'without': 153,\n",
              " 'would': 154,\n",
              " 'show': 155,\n",
              " 'driver': 156,\n",
              " 'get': 157,\n",
              " 'around': 158,\n",
              " 'start': 159,\n",
              " 'mani': 160,\n",
              " 'region': 161,\n",
              " 'know': 162,\n",
              " 'home': 163,\n",
              " 'casino': 164,\n",
              " 'way': 165,\n",
              " 'rate': 166,\n",
              " 'paper': 167,\n",
              " 'trade': 168,\n",
              " 'join': 169,\n",
              " 'go': 170,\n",
              " 'across': 171,\n",
              " 'state': 172,\n",
              " 'beauti': 173,\n",
              " 'exist': 174,\n",
              " 'cocoa': 175,\n",
              " 'good': 176,\n",
              " 'mine': 177,\n",
              " 'orangutan': 178,\n",
              " 'effort': 179,\n",
              " 'fire': 180,\n",
              " 'sourc': 181,\n",
              " 'week': 182,\n",
              " 'system': 183,\n",
              " 'result': 184,\n",
              " 'news': 185,\n",
              " 'contribut': 186,\n",
              " 'accord': 187,\n",
              " 'monitor': 188,\n",
              " 'burn': 189,\n",
              " 'come': 190,\n",
              " 'mean': 191,\n",
              " 'hunt': 192,\n",
              " 'must': 193,\n",
              " 'combat': 194,\n",
              " 'even': 195,\n",
              " 'prevent': 196,\n",
              " 'iucnredlist': 197,\n",
              " 'fund': 198,\n",
              " 'livelihood': 199,\n",
              " 'wwd': 200,\n",
              " 'cover': 201,\n",
              " 'back': 202,\n",
              " 'high': 203,\n",
              " 'real': 204,\n",
              " 'satellit': 205,\n",
              " 'give': 206,\n",
              " 'practic': 207,\n",
              " 'extinct': 208,\n",
              " 'may': 209,\n",
              " 'cattl': 210,\n",
              " 'activ': 211,\n",
              " 'drive': 212,\n",
              " 'part': 213,\n",
              " 'farm': 214,\n",
              " 'vegan': 215,\n",
              " 'life': 216,\n",
              " 'address': 217,\n",
              " 'fact': 218,\n",
              " 'public': 219,\n",
              " 'produc': 220,\n",
              " 'million': 221,\n",
              " 'data': 222,\n",
              " 'happen': 223,\n",
              " 'industri': 224,\n",
              " 'supplier': 225,\n",
              " 'africa': 226,\n",
              " 'resourc': 227,\n",
              " 'base': 228,\n",
              " 'wood': 229,\n",
              " 'role': 230,\n",
              " 'often': 231,\n",
              " 'gener': 232,\n",
              " 'avoid': 233,\n",
              " 'lost': 234,\n",
              " 'still': 235,\n",
              " 'eat': 236,\n",
              " 'big': 237,\n",
              " 'manag': 238,\n",
              " 'farmer': 239,\n",
              " 'research': 240,\n",
              " 'surviv': 241,\n",
              " 'presid': 242,\n",
              " 'place': 243,\n",
              " 'co': 244,\n",
              " 'feed': 245,\n",
              " 'togeth': 246,\n",
              " 'brazilian': 247,\n",
              " 'india': 248,\n",
              " 'old': 249,\n",
              " 'wild': 250,\n",
              " 'better': 251,\n",
              " 'sinc': 252,\n",
              " 'march': 253,\n",
              " 'non': 254,\n",
              " 'pleas': 255,\n",
              " 'warm': 256,\n",
              " 'found': 257,\n",
              " 'reforest': 258,\n",
              " 'happi': 259,\n",
              " 'affect': 260,\n",
              " 'said': 261,\n",
              " 'revers': 262,\n",
              " 'demand': 263,\n",
              " 'think': 264,\n",
              " 'shop': 265,\n",
              " 'rise': 266,\n",
              " 'law': 267,\n",
              " 'buy': 268,\n",
              " 'studi': 269,\n",
              " 'diseas': 270,\n",
              " 'celebr': 271,\n",
              " 'two': 272,\n",
              " 'launch': 273,\n",
              " 'follow': 274,\n",
              " 'un': 275,\n",
              " 'biggest': 276,\n",
              " 'photo': 277,\n",
              " 'futur': 278,\n",
              " 'watch': 279,\n",
              " 'biden': 280,\n",
              " 'sue': 281,\n",
              " 'fell': 282,\n",
              " 'bring': 283,\n",
              " 'deal': 284,\n",
              " 'case': 285,\n",
              " 'talk': 286,\n",
              " 'februari': 287,\n",
              " 'keep': 288,\n",
              " 'art': 289,\n",
              " 'alreadi': 290,\n",
              " 'discuss': 291,\n",
              " 'hectar': 292,\n",
              " 'growth': 293,\n",
              " 'expand': 294,\n",
              " 'thank': 295,\n",
              " 'larg': 296,\n",
              " 'number': 297,\n",
              " 'campaign': 298,\n",
              " 'bird': 299,\n",
              " 'explain': 300,\n",
              " 'brand': 301,\n",
              " 'led': 302,\n",
              " 'organ': 303,\n",
              " 'play': 304,\n",
              " 'school': 305,\n",
              " 'explor': 306,\n",
              " 'leav': 307,\n",
              " 'ask': 308,\n",
              " 'share': 309,\n",
              " 'energi': 310,\n",
              " 'tackl': 311,\n",
              " 'benefit': 312,\n",
              " 'far': 313,\n",
              " 'build': 314,\n",
              " 'main': 315,\n",
              " 'encourag': 316,\n",
              " 'map': 317,\n",
              " 'pictur': 318,\n",
              " 'valu': 319,\n",
              " 'mass': 320,\n",
              " 'sign': 321,\n",
              " 'goal': 322,\n",
              " 'past': 323,\n",
              " 'total': 324,\n",
              " 'anoth': 325,\n",
              " 'eco': 326,\n",
              " 'video': 327,\n",
              " 'level': 328,\n",
              " 'poach': 329,\n",
              " 'consumpt': 330,\n",
              " 'financ': 331,\n",
              " 'power': 332,\n",
              " 'clean': 333,\n",
              " 'allow': 334,\n",
              " 'challeng': 335,\n",
              " 'size': 336,\n",
              " 'climateact': 337,\n",
              " 'mitig': 338,\n",
              " 'requir': 339,\n",
              " 'exploit': 340,\n",
              " 'rais': 341,\n",
              " 'consum': 342,\n",
              " 'sell': 343,\n",
              " 'bolsonaro': 344,\n",
              " 'among': 345,\n",
              " 'long': 346,\n",
              " 'much': 347,\n",
              " 'less': 348,\n",
              " 'ecolog': 349,\n",
              " 'uk': 350,\n",
              " 'red': 351,\n",
              " 'alert': 352,\n",
              " 'busi': 353,\n",
              " 'promot': 354,\n",
              " 'women': 355,\n",
              " 'giant': 356,\n",
              " 'partner': 357,\n",
              " 'reason': 358,\n",
              " 'massiv': 359,\n",
              " 'half': 360,\n",
              " 'commit': 361,\n",
              " 'remain': 362,\n",
              " 'colombia': 363,\n",
              " 'sir': 364,\n",
              " 'david': 365,\n",
              " 'etc': 366,\n",
              " 'restor': 367,\n",
              " 'pressur': 368,\n",
              " 'plan': 369,\n",
              " 'billion': 370,\n",
              " 'next': 371,\n",
              " 'asia': 372,\n",
              " 'crisi': 373,\n",
              " 'left': 374,\n",
              " 'thing': 375,\n",
              " 'amazonia': 376,\n",
              " 'observ': 377,\n",
              " 'militari': 378,\n",
              " 'retail': 379,\n",
              " 'gone': 380,\n",
              " 'field': 381,\n",
              " 'improv': 382,\n",
              " 'incl': 383,\n",
              " 'articl': 384,\n",
              " 'care': 385,\n",
              " 'timber': 386,\n",
              " 'landscap': 387,\n",
              " 'wwdatkisit': 388,\n",
              " 'idea': 389,\n",
              " 'differ': 390,\n",
              " 'financi': 391,\n",
              " 'ngo': 392,\n",
              " 'mercosur': 393,\n",
              " 'yet': 394,\n",
              " 'regist': 395,\n",
              " 'alway': 396,\n",
              " 'contributor': 397,\n",
              " 'leather': 398,\n",
              " 'zero': 399,\n",
              " 'recent': 400,\n",
              " 'tool': 401,\n",
              " 'set': 402,\n",
              " 'spread': 403,\n",
              " 'grown': 404,\n",
              " 'inspir': 405,\n",
              " 'econom': 406,\n",
              " 'popul': 407,\n",
              " 'built': 408,\n",
              " 'instead': 409,\n",
              " 'fossil': 410,\n",
              " 'attenborough': 411,\n",
              " 'full': 412,\n",
              " 'gibbon': 413,\n",
              " 'veget': 414,\n",
              " 'c': 415,\n",
              " 'amaz': 416,\n",
              " 'kill': 417,\n",
              " 'scale': 418,\n",
              " 'greenpeac': 419,\n",
              " 'donat': 420,\n",
              " 'aim': 421,\n",
              " 'turn': 422,\n",
              " 'largest': 423,\n",
              " 'forestri': 424,\n",
              " 'sector': 425,\n",
              " 'latin': 426,\n",
              " 'connect': 427,\n",
              " 'present': 428,\n",
              " 'student': 429,\n",
              " 'taken': 430,\n",
              " 'decreas': 431,\n",
              " 'cost': 432,\n",
              " 'latest': 433,\n",
              " 'awar': 434,\n",
              " 'establish': 435,\n",
              " 'kenya': 436,\n",
              " 'best': 437,\n",
              " 'hold': 438,\n",
              " 'wwf': 439,\n",
              " 'court': 440,\n",
              " 'malaysia': 441,\n",
              " 'govt': 442,\n",
              " 'unless': 443,\n",
              " 'becom': 444,\n",
              " 'potenti': 445,\n",
              " 'lot': 446,\n",
              " 'associ': 447,\n",
              " 'european': 448,\n",
              " 'strong': 449,\n",
              " 'hard': 450,\n",
              " 'agreement': 451,\n",
              " 'cup': 452,\n",
              " 'mammal': 453,\n",
              " 'point': 454,\n",
              " 'decad': 455,\n",
              " 'urban': 456,\n",
              " 'e': 457,\n",
              " 'drink': 458,\n",
              " 'kind': 459,\n",
              " 'focu': 460,\n",
              " 'behind': 461,\n",
              " 'ambiti': 462,\n",
              " 'reach': 463,\n",
              " 'driven': 464,\n",
              " 'wangari': 465,\n",
              " 'african': 466,\n",
              " 'movement': 467,\n",
              " 'seriou': 468,\n",
              " 'children': 469,\n",
              " 'pm': 470,\n",
              " 'crop': 471,\n",
              " 'primari': 472,\n",
              " 'near': 473,\n",
              " 'market': 474,\n",
              " 'minist': 475,\n",
              " 'ban': 476,\n",
              " 'climatecrisi': 477,\n",
              " 'indonesian': 478,\n",
              " 'program': 479,\n",
              " 'trend': 480,\n",
              " 'globalwarm': 481,\n",
              " 'ranch': 482,\n",
              " 'forc': 483,\n",
              " 'feel': 484,\n",
              " 'invest': 485,\n",
              " 'form': 486,\n",
              " 'malawi': 487,\n",
              " 'declin': 488,\n",
              " 'km': 489,\n",
              " 'th': 490,\n",
              " 'space': 491,\n",
              " 'mongabay': 492,\n",
              " 'offic': 493,\n",
              " 'villag': 494,\n",
              " 'bear': 495,\n",
              " 'throughout': 496,\n",
              " 'se': 497,\n",
              " 'amazonrainforest': 498,\n",
              " 'head': 499,\n",
              " 'x': 500,\n",
              " 'along': 501,\n",
              " 'current': 502,\n",
              " 'park': 503,\n",
              " 'regard': 504,\n",
              " 'term': 505,\n",
              " 'america': 506,\n",
              " 'measur': 507,\n",
              " 'activist': 508,\n",
              " 'famili': 509,\n",
              " 'black': 510,\n",
              " 'close': 511,\n",
              " 'factor': 512,\n",
              " 'jungl': 513,\n",
              " 'posit': 514,\n",
              " 'mission': 515,\n",
              " 'choic': 516,\n",
              " 'friendli': 517,\n",
              " 'healthi': 518,\n",
              " 'game': 519,\n",
              " 'technolog': 520,\n",
              " 'myanmar': 521,\n",
              " 'seek': 522,\n",
              " 'congress': 523,\n",
              " 'su': 524,\n",
              " 'grab': 525,\n",
              " 'earthday': 526,\n",
              " 'joebiden': 527,\n",
              " 'three': 528,\n",
              " 'hope': 529,\n",
              " 'sdg': 530,\n",
              " 'indian': 531,\n",
              " 'never': 532,\n",
              " 'stand': 533,\n",
              " 'leader': 534,\n",
              " 'pmoindia': 535,\n",
              " 'view': 536,\n",
              " 'clear': 537,\n",
              " 'seen': 538,\n",
              " 'secur': 539,\n",
              " 'meet': 540,\n",
              " 'sugar': 541,\n",
              " 'strategi': 542,\n",
              " 'avail': 543,\n",
              " 'materi': 544,\n",
              " 'control': 545,\n",
              " 'dr': 546,\n",
              " 'expert': 547,\n",
              " 'protein': 548,\n",
              " 'account': 549,\n",
              " 'pakistan': 550,\n",
              " 'footbal': 551,\n",
              " 'harm': 552,\n",
              " 'incom': 553,\n",
              " 'scientist': 554,\n",
              " 'traffick': 555,\n",
              " 'pledg': 556,\n",
              " 'almost': 557,\n",
              " 'fragment': 558,\n",
              " 'eleph': 559,\n",
              " 'eros': 560,\n",
              " 'visit': 561,\n",
              " 'damag': 562,\n",
              " 'act': 563,\n",
              " 'condit': 564,\n",
              " 'preserv': 565,\n",
              " 'refuge': 566,\n",
              " 'approach': 567,\n",
              " 'noth': 568,\n",
              " 'ensur': 569,\n",
              " 'ga': 570,\n",
              " 'side': 571,\n",
              " 'list': 572,\n",
              " 'w': 573,\n",
              " 'air': 574,\n",
              " 'corrupt': 575,\n",
              " 'amazonian': 576,\n",
              " 'madagascar': 577,\n",
              " 'westpapua': 578,\n",
              " 'changeth': 579,\n",
              " 'love': 580,\n",
              " 'mar': 581,\n",
              " 'understand': 582,\n",
              " 'drop': 583,\n",
              " 'drone': 584,\n",
              " 'topic': 585,\n",
              " 'esg': 586,\n",
              " 'conflict': 587,\n",
              " 'dairi': 588,\n",
              " 'convers': 589,\n",
              " 'creatur': 590,\n",
              " 'intens': 591,\n",
              " 'urgent': 592,\n",
              " 'consequ': 593,\n",
              " 'achiev': 594,\n",
              " 'standard': 595,\n",
              " 'agenc': 596,\n",
              " 'rampant': 597,\n",
              " 'coup': 598,\n",
              " 'borneo': 599,\n",
              " 'someth': 600,\n",
              " 'justic': 601,\n",
              " 'livestock': 602,\n",
              " 'initi': 603,\n",
              " 'process': 604,\n",
              " 'thegef': 605,\n",
              " 'abus': 606,\n",
              " 'target': 607,\n",
              " 'debat': 608,\n",
              " 'cloud': 609,\n",
              " 'intern': 610,\n",
              " 'team': 611,\n",
              " 'river': 612,\n",
              " 'expans': 613,\n",
              " 'progress': 614,\n",
              " 'niger': 615,\n",
              " 'flower': 616,\n",
              " 'butterfli': 617,\n",
              " 'ravag': 618,\n",
              " 'lbp': 619,\n",
              " 'china': 620,\n",
              " 'urg': 621,\n",
              " 'papua': 622,\n",
              " 'sanctuari': 623,\n",
              " 'legisl': 624,\n",
              " 'code': 625,\n",
              " 'concret': 626,\n",
              " 'bad': 627,\n",
              " 'scienc': 628,\n",
              " 'experi': 629,\n",
              " 'cane': 630,\n",
              " 'limit': 631,\n",
              " 'soybean': 632,\n",
              " 'repres': 633,\n",
              " 'shift': 634,\n",
              " 'stori': 635,\n",
              " 'institut': 636,\n",
              " 'stress': 637,\n",
              " 'other': 638,\n",
              " 'agre': 639,\n",
              " 'displac': 640,\n",
              " 'qualiti': 641,\n",
              " 'option': 642,\n",
              " 'webinar': 643,\n",
              " 'friend': 644,\n",
              " 'ingredi': 645,\n",
              " 'member': 646,\n",
              " 'win': 647,\n",
              " 'book': 648,\n",
              " 'ground': 649,\n",
              " 'maathai': 650,\n",
              " 'thu': 651,\n",
              " 'profit': 652,\n",
              " 'labor': 653,\n",
              " 'certif': 654,\n",
              " 'seed': 655,\n",
              " 'especi': 656,\n",
              " 'daili': 657,\n",
              " 'enhanc': 658,\n",
              " 'peru': 659,\n",
              " 'saynoeumercosur': 660,\n",
              " 'flood': 661,\n",
              " 'credit': 662,\n",
              " 'worldwid': 663,\n",
              " 'rural': 664,\n",
              " 'ghg': 665,\n",
              " 'post': 666,\n",
              " 'pangolin': 667,\n",
              " 'variou': 668,\n",
              " 'footprint': 669,\n",
              " 'bank': 670,\n",
              " 'gold': 671,\n",
              " 'push': 672,\n",
              " 'photograph': 673,\n",
              " 'root': 674,\n",
              " 'hunger': 675,\n",
              " 'least': 676,\n",
              " 'firewood': 677,\n",
              " 'bron': 678,\n",
              " 'drbirut': 679,\n",
              " 'rainforestnorw': 680,\n",
              " 'island': 681,\n",
              " 'step': 682,\n",
              " 'remind': 683,\n",
              " 'man': 684,\n",
              " 'storm': 685,\n",
              " 'rare': 686,\n",
              " 'war': 687,\n",
              " 'greater': 688,\n",
              " 'lung': 689,\n",
              " 'easi': 690,\n",
              " 'rd': 691,\n",
              " 'disappear': 692,\n",
              " 'devast': 693,\n",
              " 'papuanewguinea': 694,\n",
              " 'tri': 695,\n",
              " 'singl': 696,\n",
              " 'vulner': 697,\n",
              " 'pic': 698,\n",
              " 'claim': 699,\n",
              " 'europ': 700,\n",
              " 'runaway': 701,\n",
              " 'direct': 702,\n",
              " 'ever': 703,\n",
              " 'investig': 704,\n",
              " 'milk': 705,\n",
              " 'r': 706,\n",
              " 'insight': 707,\n",
              " 'ago': 708,\n",
              " 'remov': 709,\n",
              " 'within': 710,\n",
              " 'social': 711,\n",
              " 'jb': 712,\n",
              " 'littl': 713,\n",
              " 'fit': 714,\n",
              " 'tasmania': 715,\n",
              " 'servic': 716,\n",
              " 'fish': 717,\n",
              " 'speak': 718,\n",
              " 'pulp': 719,\n",
              " 'got': 720,\n",
              " 'afforest': 721,\n",
              " 'fornatur': 722,\n",
              " 'hear': 723,\n",
              " 'extract': 724,\n",
              " 'updat': 725,\n",
              " 'mill': 726,\n",
              " 'eras': 727,\n",
              " 'carrri': 728,\n",
              " 'boat': 729,\n",
              " 'carsthey': 730,\n",
              " 'die': 731,\n",
              " 'design': 732,\n",
              " 'graze': 733,\n",
              " 'corpor': 734,\n",
              " 'imag': 735,\n",
              " 'greenearth': 736,\n",
              " 'letsplanttre': 737,\n",
              " 'simpl': 738,\n",
              " 'nurtur': 739,\n",
              " 'known': 740,\n",
              " 'fertil': 741,\n",
              " 'transpar': 742,\n",
              " 'wale': 743,\n",
              " 'wednesday': 744,\n",
              " 'beyond': 745,\n",
              " 'detect': 746,\n",
              " 'young': 747,\n",
              " 'thrive': 748,\n",
              " 'unsustain': 749,\n",
              " 'drought': 750,\n",
              " 'acr': 751,\n",
              " 'governor': 752,\n",
              " 'assent': 753,\n",
              " 'brianschatz': 754,\n",
              " 'lawsuit': 755,\n",
              " 'haryanatweet': 756,\n",
              " 'primat': 757,\n",
              " 'event': 758,\n",
              " 'excit': 759,\n",
              " 'april': 760,\n",
              " 'firm': 761,\n",
              " 'rehabilit': 762,\n",
              " 'road': 763,\n",
              " 'yr': 764,\n",
              " 'k': 765,\n",
              " 'zone': 766,\n",
              " 'child': 767,\n",
              " 'thread': 768,\n",
              " 'interest': 769,\n",
              " 'highli': 770,\n",
              " 'common': 771,\n",
              " 'insid': 772,\n",
              " 'biomass': 773,\n",
              " 'believ': 774,\n",
              " 'howev': 775,\n",
              " 'simpli': 776,\n",
              " 'front': 777,\n",
              " 'est': 778,\n",
              " 'trust': 779,\n",
              " 'open': 780,\n",
              " 'n': 781,\n",
              " 'fizzi': 782,\n",
              " 'gofizzfre': 783,\n",
              " 'name': 784,\n",
              " 'bbc': 785,\n",
              " 'lka': 786,\n",
              " 'germani': 787,\n",
              " 'zerodeforest': 788,\n",
              " 'expos': 789,\n",
              " 'speaker': 790,\n",
              " 'panel': 791,\n",
              " 'mention': 792,\n",
              " 'innov': 793,\n",
              " 'greed': 794,\n",
              " 'belt': 795,\n",
              " 'counter': 796,\n",
              " 'second': 797,\n",
              " 'actual': 798,\n",
              " 'chad': 799,\n",
              " 'indiaunfund': 800,\n",
              " 'lake': 801,\n",
              " 'recycl': 802,\n",
              " 'occur': 803,\n",
              " 'friday': 804,\n",
              " 'centuri': 805,\n",
              " 'ourworldindata': 806,\n",
              " 'ye': 807,\n",
              " 'unesco': 808,\n",
              " 'coal': 809,\n",
              " 'goe': 810,\n",
              " 'lose': 811,\n",
              " 'nearli': 812,\n",
              " 'theft': 813,\n",
              " 'fall': 814,\n",
              " 'sit': 815,\n",
              " 'fix': 816,\n",
              " 'engag': 817,\n",
              " 'bio': 818,\n",
              " 'corridor': 819,\n",
              " 'mother': 820,\n",
              " 'unep': 821,\n",
              " 'abil': 822,\n",
              " 'rule': 823,\n",
              " 'whole': 824,\n",
              " 'highest': 825,\n",
              " 'jaguar': 826,\n",
              " 'regul': 827,\n",
              " 'fine': 828,\n",
              " 'intellig': 829,\n",
              " 'factori': 830,\n",
              " 'carri': 831,\n",
              " 'ag': 832,\n",
              " 'coolrun': 833,\n",
              " 'vanessafiji': 834,\n",
              " 'chunhuam': 835,\n",
              " 'russellmoxham': 836,\n",
              " 'forestpeoplesp': 837,\n",
              " 'org': 838,\n",
              " 'guardian': 839,\n",
              " 'away': 840,\n",
              " 'page': 841,\n",
              " 'letter': 842,\n",
              " 'gotabayar': 843,\n",
              " 'lanaparrilla': 844,\n",
              " 'nrdc': 845,\n",
              " 'evilreg': 846,\n",
              " 'run': 847,\n",
              " 'narendramodi': 848,\n",
              " 'univers': 849,\n",
              " 'age': 850,\n",
              " 'death': 851,\n",
              " 'pine': 852,\n",
              " 'everyth': 853,\n",
              " 'reli': 854,\n",
              " 'wef': 855,\n",
              " 'monkey': 856,\n",
              " 'b': 857,\n",
              " 'particularli': 858,\n",
              " 'cool': 859,\n",
              " 'month': 860,\n",
              " 'deep': 861,\n",
              " 'exampl': 862,\n",
              " 'alleg': 863,\n",
              " 'jakarta': 864,\n",
              " 'citi': 865,\n",
              " 'everyon': 866,\n",
              " 'peac': 867,\n",
              " 'cameroon': 868,\n",
              " 'realli': 869,\n",
              " 'intent': 870,\n",
              " 'voic': 871,\n",
              " 'success': 872,\n",
              " 'rspo': 873,\n",
              " 'crucial': 874,\n",
              " 'upcom': 875,\n",
              " 'complex': 876,\n",
              " 'hannahritchi': 877,\n",
              " 'extrem': 878,\n",
              " 'vision': 879,\n",
              " 'line': 880,\n",
              " 'top': 881,\n",
              " 'particip': 882,\n",
              " 'maintain': 883,\n",
              " 'analysi': 884,\n",
              " 'decid': 885,\n",
              " 'job': 886,\n",
              " 'significantli': 887,\n",
              " 'tonn': 888,\n",
              " 'enter': 889,\n",
              " 'logger': 890,\n",
              " 'curb': 891,\n",
              " 'walmart': 892,\n",
              " 'store': 893,\n",
              " 'extens': 894,\n",
              " 'prize': 895,\n",
              " 'toward': 896,\n",
              " 'fao': 897,\n",
              " 'relat': 898,\n",
              " 'philippin': 899,\n",
              " 'dam': 900,\n",
              " 'garden': 901,\n",
              " 'purchas': 902,\n",
              " 'treedom': 903,\n",
              " 'realiti': 904,\n",
              " 'freedomforthetre': 905,\n",
              " 'soya': 906,\n",
              " 'ndpe': 907,\n",
              " 'acceler': 908,\n",
              " 'plate': 909,\n",
              " 'wast': 910,\n",
              " 'fresh': 911,\n",
              " 'coffe': 912,\n",
              " 'car': 913,\n",
              " 'compliant': 914,\n",
              " 'central': 915,\n",
              " 'ipb': 916,\n",
              " 'globalassess': 917,\n",
              " 'vietnam': 918,\n",
              " 'deforestationinmyanmar': 919,\n",
              " 'renew': 920,\n",
              " 'write': 921,\n",
              " 'fairtradefortnight': 922,\n",
              " 'blog': 923,\n",
              " 'sing': 924,\n",
              " 'accent': 925,\n",
              " 'skill': 926,\n",
              " 'nice': 927,\n",
              " 'aid': 928,\n",
              " 'congo': 929,\n",
              " 'add': 930,\n",
              " 'nd': 931,\n",
              " 'disast': 932,\n",
              " 'till': 933,\n",
              " 'rich': 934,\n",
              " 'illegallog': 935,\n",
              " 'environmentalist': 936,\n",
              " 'cda': 937,\n",
              " 'pretti': 938,\n",
              " 'commerci': 939,\n",
              " 'thousand': 940,\n",
              " 'twice': 941,\n",
              " 'ministri': 942,\n",
              " 'rescu': 943,\n",
              " 'evil': 944,\n",
              " 'partnership': 945,\n",
              " 'soon': 946,\n",
              " 'encroach': 947,\n",
              " 'theme': 948,\n",
              " 'shelter': 949,\n",
              " 'ghana': 950,\n",
              " 'access': 951,\n",
              " 'flora': 952,\n",
              " 'forev': 953,\n",
              " 'educ': 954,\n",
              " 'highlight': 955,\n",
              " 'administr': 956,\n",
              " 'sani': 957,\n",
              " 'bello': 958,\n",
              " 'announc': 959,\n",
              " 'suspend': 960,\n",
              " 'monarch': 961,\n",
              " 'press': 962,\n",
              " 'releas': 963,\n",
              " 'answer': 964,\n",
              " 'hershey': 965,\n",
              " 'aravallibachao': 966,\n",
              " 'arav': 967,\n",
              " 'haryana': 968,\n",
              " 'patrol': 969,\n",
              " 'franc': 970,\n",
              " 'squar': 971,\n",
              " 'author': 972,\n",
              " 'cmohri': 973,\n",
              " 'attent': 974,\n",
              " 'sale': 975,\n",
              " 'resist': 976,\n",
              " 'slow': 977,\n",
              " 'territori': 978,\n",
              " 'reckless': 979,\n",
              " 'mcdonald': 980,\n",
              " 'director': 981,\n",
              " 'lao': 982,\n",
              " 'guess': 983,\n",
              " 'unit': 984,\n",
              " 'biom': 985,\n",
              " 'restoreourearth': 986,\n",
              " 'ppm': 987,\n",
              " 'amazonorbolsonaro': 988,\n",
              " 'infrastructur': 989,\n",
              " 'quarter': 990,\n",
              " 'enforc': 991,\n",
              " 'ton': 992,\n",
              " 'ship': 993,\n",
              " 'equal': 994,\n",
              " 'small': 995,\n",
              " 'sapl': 996,\n",
              " 'count': 997,\n",
              " 'ongo': 998,\n",
              " 'battl': 999,\n",
              " 'recommend': 1000,\n",
              " ...}"
            ]
          },
          "metadata": {},
          "execution_count": 45
        }
      ]
    },
    {
      "cell_type": "code",
      "source": [
        "X_train_sequences = tokenizer.texts_to_sequences(train_corpus)\n",
        "X_test_sequences = tokenizer.texts_to_sequences(test_corpus)"
      ],
      "metadata": {
        "id": "f_cM5q1qcThs"
      },
      "execution_count": 70,
      "outputs": []
    },
    {
      "cell_type": "code",
      "source": [
        "X_train_padded=pad_sequences(X_train_sequences,maxlen=max_length, padding=\"post\")\n",
        "X_test_padded=pad_sequences(X_test_sequences,padding='post',maxlen=max_length)"
      ],
      "metadata": {
        "id": "S-Xwj0oRaGsB"
      },
      "execution_count": 71,
      "outputs": []
    },
    {
      "cell_type": "markdown",
      "source": [
        "# Using GloVe word embeddings"
      ],
      "metadata": {
        "id": "C8t7jn-aoM7r"
      }
    },
    {
      "cell_type": "markdown",
      "source": [
        "# Steps to implement a pretrained model on your dataset\n",
        "1. The first step is to obtain the word embedding and append them to a \n",
        "    dictionary. \n",
        "2. After that, you'll need to create an embedding matrix for each word in the training set."
      ],
      "metadata": {
        "id": "TNn2t37Uobh9"
      }
    },
    {
      "cell_type": "code",
      "source": [
        "!wget --no-check-certificate \\\n",
        "     http://nlp.stanford.edu/data/glove.6B.zip \\\n",
        "     -O /tmp/glove.6B.zip"
      ],
      "metadata": {
        "colab": {
          "base_uri": "https://localhost:8080/"
        },
        "id": "vcKrf0ywoDIO",
        "outputId": "c96d5503-81f2-45b4-d8e8-77c6eb01615e"
      },
      "execution_count": 48,
      "outputs": [
        {
          "output_type": "stream",
          "name": "stdout",
          "text": [
            "--2022-12-06 04:45:51--  http://nlp.stanford.edu/data/glove.6B.zip\n",
            "Resolving nlp.stanford.edu (nlp.stanford.edu)... 171.64.67.140\n",
            "Connecting to nlp.stanford.edu (nlp.stanford.edu)|171.64.67.140|:80... connected.\n",
            "HTTP request sent, awaiting response... 302 Found\n",
            "Location: https://nlp.stanford.edu/data/glove.6B.zip [following]\n",
            "--2022-12-06 04:45:51--  https://nlp.stanford.edu/data/glove.6B.zip\n",
            "Connecting to nlp.stanford.edu (nlp.stanford.edu)|171.64.67.140|:443... connected.\n",
            "HTTP request sent, awaiting response... 301 Moved Permanently\n",
            "Location: https://downloads.cs.stanford.edu/nlp/data/glove.6B.zip [following]\n",
            "--2022-12-06 04:45:51--  https://downloads.cs.stanford.edu/nlp/data/glove.6B.zip\n",
            "Resolving downloads.cs.stanford.edu (downloads.cs.stanford.edu)... 171.64.64.22\n",
            "Connecting to downloads.cs.stanford.edu (downloads.cs.stanford.edu)|171.64.64.22|:443... connected.\n",
            "HTTP request sent, awaiting response... 200 OK\n",
            "Length: 862182613 (822M) [application/zip]\n",
            "Saving to: ‘/tmp/glove.6B.zip’\n",
            "\n",
            "/tmp/glove.6B.zip   100%[===================>] 822.24M  5.00MB/s    in 2m 39s  \n",
            "\n",
            "2022-12-06 04:48:31 (5.18 MB/s) - ‘/tmp/glove.6B.zip’ saved [862182613/862182613]\n",
            "\n"
          ]
        }
      ]
    },
    {
      "cell_type": "code",
      "source": [
        "#Extract the GloVe word embeddings into a temporary folder.\n",
        "import os\n",
        "import zipfile\n",
        "with zipfile.ZipFile('/tmp/glove.6B.zip', 'r') as zip_ref:\n",
        "    zip_ref.extractall('/tmp/glove')"
      ],
      "metadata": {
        "id": "KDYpgzs8oGLE"
      },
      "execution_count": 49,
      "outputs": []
    },
    {
      "cell_type": "code",
      "source": [
        "# Create that dictionary with those embeddings\n",
        "import numpy as np\n",
        "embeddings_index = {}\n",
        "f = open('/tmp/glove/glove.6B.100d.txt')  #100 means that it is the size of the window and hence the dimension of the feature vectors\n",
        "for line in f:\n",
        "    values = line.split()\n",
        "    word = values[0]\n",
        "    coefs = np.asarray(values[1:], dtype='float32')\n",
        "    embeddings_index[word] = coefs\n",
        "f.close()\n",
        "\n",
        "print('Found %s word vectors.' % len(embeddings_index))"
      ],
      "metadata": {
        "colab": {
          "base_uri": "https://localhost:8080/"
        },
        "id": "HRznFMs-owp-",
        "outputId": "5fa3ab12-cf70-4973-dbf7-e3f275067964"
      },
      "execution_count": 50,
      "outputs": [
        {
          "output_type": "stream",
          "name": "stdout",
          "text": [
            "Found 400000 word vectors.\n"
          ]
        }
      ]
    },
    {
      "cell_type": "markdown",
      "source": [
        "### Create a word embedding matrix for each word in the word index that you obtained earlier. \n",
        "If a word doesn't have an embedding in GloVe it will be presented with a zero matrix."
      ],
      "metadata": {
        "id": "-ZiwMHMQpJpO"
      }
    },
    {
      "cell_type": "code",
      "source": [
        "embedding_matrix = np.zeros((len(word_index) + 1, max_length))\n",
        "for word, i in tqdm.tqdm(word_index.items()):\n",
        "    embedding_vector = embeddings_index.get(word)\n",
        "    if embedding_vector is not None:\n",
        "        # words not found in embedding index will be all-zeros.\n",
        "        embedding_matrix[i] = embedding_vector"
      ],
      "metadata": {
        "colab": {
          "base_uri": "https://localhost:8080/"
        },
        "id": "W29kjVnUo3Eg",
        "outputId": "9ce3c3ff-5348-4938-e0b2-54cb5902122c"
      },
      "execution_count": 72,
      "outputs": [
        {
          "output_type": "stream",
          "name": "stderr",
          "text": [
            "100%|██████████| 4715/4715 [00:00<00:00, 283467.98it/s]\n"
          ]
        }
      ]
    },
    {
      "cell_type": "code",
      "source": [
        "from tensorflow.keras.layers import Dropout\n",
        "## Creating model\n",
        "model=Sequential()\n",
        "model.add(Embedding(input_dim=len(word_index) + 1,\n",
        "                            output_dim=max_length,\n",
        "                            weights=[embedding_matrix],\n",
        "                            input_length=max_length,\n",
        "                            trainable=False))\n",
        "model.add(Dropout(0.3))\n",
        "model.add(LSTM(100))\n",
        "model.add(Dropout(0.3))\n",
        "model.add(Dense(1,activation='sigmoid'))\n",
        "model.compile(loss='binary_crossentropy',optimizer='adam',metrics=['accuracy'])"
      ],
      "metadata": {
        "id": "vJtuiA3nrZsr"
      },
      "execution_count": 73,
      "outputs": []
    },
    {
      "cell_type": "code",
      "source": [
        "print(model.summary())"
      ],
      "metadata": {
        "id": "ECqsI1DT3ROq",
        "colab": {
          "base_uri": "https://localhost:8080/"
        },
        "outputId": "ba0a1099-dbf1-4e21-8545-280c39b29585"
      },
      "execution_count": 74,
      "outputs": [
        {
          "output_type": "stream",
          "name": "stdout",
          "text": [
            "Model: \"sequential_2\"\n",
            "_________________________________________________________________\n",
            " Layer (type)                Output Shape              Param #   \n",
            "=================================================================\n",
            " embedding_2 (Embedding)     (None, 100, 100)          471600    \n",
            "                                                                 \n",
            " dropout_4 (Dropout)         (None, 100, 100)          0         \n",
            "                                                                 \n",
            " lstm_2 (LSTM)               (None, 100)               80400     \n",
            "                                                                 \n",
            " dropout_5 (Dropout)         (None, 100)               0         \n",
            "                                                                 \n",
            " dense_2 (Dense)             (None, 1)                 101       \n",
            "                                                                 \n",
            "=================================================================\n",
            "Total params: 552,101\n",
            "Trainable params: 80,501\n",
            "Non-trainable params: 471,600\n",
            "_________________________________________________________________\n",
            "None\n"
          ]
        }
      ]
    },
    {
      "cell_type": "code",
      "source": [
        "from keras.utils import plot_model\n",
        "# Plot model graph\n",
        "plot_model(model, show_shapes=True, show_layer_names=True, to_file='model.png')\n",
        "from IPython.display import Image\n",
        "Image(retina=True, filename='model.png')"
      ],
      "metadata": {
        "colab": {
          "base_uri": "https://localhost:8080/",
          "height": 330
        },
        "id": "TeijlDeMwkpv",
        "outputId": "ced15c11-3d81-4ca7-fcc1-fd6230d7b0b8"
      },
      "execution_count": 75,
      "outputs": [
        {
          "output_type": "execute_result",
          "data": {
            "image/png": "[encoded data removed]",
            "text/plain": [
              "<IPython.core.display.Image object>"
            ]
          },
          "metadata": {
            "image/png": {
              "width": 197,
              "height": 313
            }
          },
          "execution_count": 75
        }
      ]
    },
    {
      "cell_type": "code",
      "source": [
        "X_train_padded.shape,y_train.shape"
      ],
      "metadata": {
        "colab": {
          "base_uri": "https://localhost:8080/"
        },
        "id": "AX_xFScYxpTX",
        "outputId": "f48a3b62-1b34-41ab-e94c-7d212cc0fbec"
      },
      "execution_count": 76,
      "outputs": [
        {
          "output_type": "execute_result",
          "data": {
            "text/plain": [
              "((937, 100), (937,))"
            ]
          },
          "metadata": {},
          "execution_count": 76
        }
      ]
    },
    {
      "cell_type": "code",
      "source": [
        "X_test_padded.shape,y_test.shape"
      ],
      "metadata": {
        "colab": {
          "base_uri": "https://localhost:8080/"
        },
        "id": "exnEm2h9x8dj",
        "outputId": "f321ddb6-4f5d-4d37-d120-0b382d268965"
      },
      "execution_count": 77,
      "outputs": [
        {
          "output_type": "execute_result",
          "data": {
            "text/plain": [
              "((248, 100), (248,))"
            ]
          },
          "metadata": {},
          "execution_count": 77
        }
      ]
    },
    {
      "cell_type": "code",
      "source": [
        "### Finally Training\n",
        "model.fit(X_train_padded, y_train,validation_data=(X_test_padded,y_test),epochs=10,batch_size=64)"
      ],
      "metadata": {
        "colab": {
          "base_uri": "https://localhost:8080/"
        },
        "id": "oBO7K_sownIl",
        "outputId": "775499c9-147d-4de5-8537-9dfbb0d6028f"
      },
      "execution_count": 78,
      "outputs": [
        {
          "output_type": "stream",
          "name": "stdout",
          "text": [
            "Epoch 1/10\n",
            "15/15 [==============================] - 2s 45ms/step - loss: 0.5209 - accuracy: 0.9413 - val_loss: 0.1958 - val_accuracy: 0.9597\n",
            "Epoch 2/10\n",
            "15/15 [==============================] - 0s 16ms/step - loss: 0.2176 - accuracy: 0.9498 - val_loss: 0.1745 - val_accuracy: 0.9597\n",
            "Epoch 3/10\n",
            "15/15 [==============================] - 0s 12ms/step - loss: 0.2073 - accuracy: 0.9498 - val_loss: 0.1725 - val_accuracy: 0.9597\n",
            "Epoch 4/10\n",
            "15/15 [==============================] - 0s 12ms/step - loss: 0.1998 - accuracy: 0.9498 - val_loss: 0.1690 - val_accuracy: 0.9597\n",
            "Epoch 5/10\n",
            "15/15 [==============================] - 0s 12ms/step - loss: 0.2034 - accuracy: 0.9498 - val_loss: 0.1696 - val_accuracy: 0.9597\n",
            "Epoch 6/10\n",
            "15/15 [==============================] - 0s 12ms/step - loss: 0.2052 - accuracy: 0.9498 - val_loss: 0.1701 - val_accuracy: 0.9597\n",
            "Epoch 7/10\n",
            "15/15 [==============================] - 0s 13ms/step - loss: 0.2032 - accuracy: 0.9498 - val_loss: 0.1706 - val_accuracy: 0.9597\n",
            "Epoch 8/10\n",
            "15/15 [==============================] - 0s 12ms/step - loss: 0.1998 - accuracy: 0.9498 - val_loss: 0.1692 - val_accuracy: 0.9597\n",
            "Epoch 9/10\n",
            "15/15 [==============================] - 0s 12ms/step - loss: 0.2009 - accuracy: 0.9498 - val_loss: 0.1704 - val_accuracy: 0.9597\n",
            "Epoch 10/10\n",
            "15/15 [==============================] - 0s 13ms/step - loss: 0.2001 - accuracy: 0.9498 - val_loss: 0.1701 - val_accuracy: 0.9597\n"
          ]
        },
        {
          "output_type": "execute_result",
          "data": {
            "text/plain": [
              "<keras.callbacks.History at 0x7fd70e24a610>"
            ]
          },
          "metadata": {},
          "execution_count": 78
        }
      ]
    },
    {
      "cell_type": "code",
      "source": [
        "y_pred=model.predict(X_test_padded)\n",
        "y_pred=np.where(y_pred > 0.6, 1,0) \n",
        "confusion_matrix(y_test,y_pred)"
      ],
      "metadata": {
        "colab": {
          "base_uri": "https://localhost:8080/"
        },
        "id": "xFugszWXwvrX",
        "outputId": "08e08a97-9f3a-40e2-c0a0-d73fca5cda61"
      },
      "execution_count": 81,
      "outputs": [
        {
          "output_type": "stream",
          "name": "stdout",
          "text": [
            "8/8 [==============================] - 0s 4ms/step\n"
          ]
        },
        {
          "output_type": "execute_result",
          "data": {
            "text/plain": [
              "array([[238,   0],\n",
              "       [ 10,   0]])"
            ]
          },
          "metadata": {},
          "execution_count": 81
        }
      ]
    },
    {
      "cell_type": "code",
      "source": [
        "from sklearn.metrics import accuracy_score\n",
        "accuracy_score(y_test,y_pred)  # Accuracy of 95% , but the dataset is heavily biased towards negative reviews hence accuracy not a good measure"
      ],
      "metadata": {
        "colab": {
          "base_uri": "https://localhost:8080/"
        },
        "id": "-R_f3e_6wwuv",
        "outputId": "8f92147b-2983-4f7c-9d2f-03724062ad0b"
      },
      "execution_count": 82,
      "outputs": [
        {
          "output_type": "execute_result",
          "data": {
            "text/plain": [
              "0.9596774193548387"
            ]
          },
          "metadata": {},
          "execution_count": 82
        }
      ]
    },
    {
      "cell_type": "code",
      "source": [
        "from sklearn.metrics import classification_report\n",
        "print(classification_report(y_test,y_pred))  # Precision and Recall towards class 0 ( Negative) is high but poor fot class 1"
      ],
      "metadata": {
        "colab": {
          "base_uri": "https://localhost:8080/"
        },
        "id": "JtSAuDIGw1is",
        "outputId": "02fc1558-7494-40c7-884e-edd6156fd157"
      },
      "execution_count": 83,
      "outputs": [
        {
          "output_type": "stream",
          "name": "stdout",
          "text": [
            "              precision    recall  f1-score   support\n",
            "\n",
            "         0.0       0.96      1.00      0.98       238\n",
            "         1.0       0.00      0.00      0.00        10\n",
            "\n",
            "    accuracy                           0.96       248\n",
            "   macro avg       0.48      0.50      0.49       248\n",
            "weighted avg       0.92      0.96      0.94       248\n",
            "\n"
          ]
        },
        {
          "output_type": "stream",
          "name": "stderr",
          "text": [
            "/usr/local/lib/python3.8/dist-packages/sklearn/metrics/_classification.py:1318: UndefinedMetricWarning: Precision and F-score are ill-defined and being set to 0.0 in labels with no predicted samples. Use `zero_division` parameter to control this behavior.\n",
            "  _warn_prf(average, modifier, msg_start, len(result))\n",
            "/usr/local/lib/python3.8/dist-packages/sklearn/metrics/_classification.py:1318: UndefinedMetricWarning: Precision and F-score are ill-defined and being set to 0.0 in labels with no predicted samples. Use `zero_division` parameter to control this behavior.\n",
            "  _warn_prf(average, modifier, msg_start, len(result))\n",
            "/usr/local/lib/python3.8/dist-packages/sklearn/metrics/_classification.py:1318: UndefinedMetricWarning: Precision and F-score are ill-defined and being set to 0.0 in labels with no predicted samples. Use `zero_division` parameter to control this behavior.\n",
            "  _warn_prf(average, modifier, msg_start, len(result))\n"
          ]
        }
      ]
    },
    {
      "cell_type": "code",
      "source": [
        "from sklearn import metrics  # AUC is 0.5 which means that the predictions are very random\n",
        "fpr, tpr, _ = metrics.roc_curve(y_test,  y_pred)\n",
        "import matplotlib.pyplot as plt\n",
        "#create ROC curve\n",
        "plt.plot(fpr,tpr)\n",
        "plt.ylabel('True Positive Rate')\n",
        "plt.xlabel('False Positive Rate')\n",
        "plt.show()"
      ],
      "metadata": {
        "colab": {
          "base_uri": "https://localhost:8080/",
          "height": 279
        },
        "id": "laJgHsnjw3is",
        "outputId": "441d9b79-2dfe-4ee0-f9dc-e98301fb9edc"
      },
      "execution_count": 84,
      "outputs": [
        {
          "output_type": "display_data",
          "data": {
            "text/plain": [
              "<Figure size 432x288 with 1 Axes>"
            ],
            "image/png": "[encoded data removed]"
          },
          "metadata": {
            "needs_background": "light"
          }
        }
      ]
    },
    {
      "cell_type": "markdown",
      "source": [
        "## Model 3 - Create a probabilistic baseline (Using Naive Bayes)"
      ],
      "metadata": {
        "id": "7I6Evkpvw46t"
      }
    },
    {
      "cell_type": "markdown",
      "source": [
        "## ASSUMPTIONS\n",
        "\n",
        "# 1. Independence assumption\n",
        "In sentence \"It is too hot in the sunny climate of the desert\" , here you can see the word sunny and hot tend to depend on each other and are correlated to a certain extent with the word “desert”. Naive Bayes assumes independence throughout. Furthermore, if you were to fill in the sentence on the right, this naive model will assign equal weight to the words “spring, summer, fall, winter”.\n",
        "\n",
        "# 2. Relative frequencies\n",
        "On Twitter, there are usually more positive tweets than negative ones. However, some “clean” datasets you may find are artificially balanced to have the same amount of positive and negative tweets. Just keep in mind, that in the real world, the data could be much noisier."
      ],
      "metadata": {
        "id": "AtDOMtq1_6og"
      }
    },
    {
      "cell_type": "markdown",
      "source": [
        "### Preprocessing the tweets dataset"
      ],
      "metadata": {
        "id": "8-Y5eA880buX"
      }
    },
    {
      "cell_type": "code",
      "source": [
        "def process_tweet(tweet):\n",
        "    \n",
        "    #Remove hyperlinks\n",
        "    tweet2 = re.sub(r'https?:\\/\\/.*[\\r\\n]*','', tweet)\n",
        "    \n",
        "    #Remove hastags\n",
        "    #Only removing the hash # sign from the word\n",
        "    tweet2 = re.sub(r'#','',tweet2)\n",
        "        \n",
        "    # instantiate tokenizer class\n",
        "    tokenizer = TweetTokenizer(preserve_case=False,    strip_handles=True, reduce_len=True)\n",
        "    \n",
        "    # tokenize tweets\n",
        "    tweet_tokens = tokenizer.tokenize(tweet2)    \n",
        "        \n",
        "    #Import the english stop words list from NLTK\n",
        "    stopwords_english = stopwords.words('english') \n",
        "    \n",
        "    #Creating a list of words without stopwords\n",
        "    tweets_clean = []\n",
        "    for word in tweet_tokens:\n",
        "        if word not in stopwords_english and word not in string.punctuation:\n",
        "            tweets_clean.append(word)\n",
        "        \n",
        "    #Instantiate stemming class\n",
        "    stemmer = PorterStemmer()\n",
        "    \n",
        "    #Creating a list of stems of words in tweet\n",
        "    tweets_stem = []\n",
        "    for word in tweets_clean:\n",
        "        stem_word = stemmer.stem(word)\n",
        "        tweets_stem.append(stem_word)\n",
        "        \n",
        "    return tweets_stem"
      ],
      "metadata": {
        "id": "oPkhfFyt9BVC"
      },
      "execution_count": 109,
      "outputs": []
    },
    {
      "cell_type": "markdown",
      "source": [
        "#### A function that will take tweets and their labels as input, go through every tweet, preprocess them, count the occurrence of every word in the data set and create a frequency dictionary"
      ],
      "metadata": {
        "id": "corVUElN-27w"
      }
    },
    {
      "cell_type": "code",
      "source": [
        "#Frequency generating function\n",
        "def build_freqs(tweets, ys):\n",
        "    yslist = np.squeeze(ys).tolist()\n",
        "    \n",
        "    freqs = {}\n",
        "    for y, tweet in zip(yslist, tweets):\n",
        "        for word in process_tweet(tweet):\n",
        "            pair = (word, y)\n",
        "            freqs[pair] = freqs.get(pair, 0) + 1\n",
        "            \n",
        "    return freqs\n",
        "\n",
        "tweets=df[\"text\"].tolist()+test_dataset[\"text\"].tolist()\n",
        "ys=y_test.tolist()+y_train.tolist()\n",
        "freqs=build_freqs(tweets,ys)"
      ],
      "metadata": {
        "id": "cciNl5GW8K_G"
      },
      "execution_count": 110,
      "outputs": []
    },
    {
      "cell_type": "markdown",
      "source": [
        "Naive Bayes algorithm is based on the Bayes rule, which can be represented as follows:\n",
        "\n",
        "**P(X∣Y)=P(Y)P(Y∣X)P(X)​**\n",
        "\n",
        "Here, the process up to creating a dictionary of frequencies (importing libraries, preprocessing, etc.) is the same. The way the algorithm works is as follows:-\n",
        "\n",
        "1. Find the log of the ratio of the number of positive tweets and negative sentiment tweets.\n",
        "        logprior = log(𝑃(𝐷𝑝𝑜𝑠))−log(𝑃(𝐷𝑛𝑒𝑔))=log(𝐷𝑝𝑜𝑠)−log(𝐷𝑛𝑒𝑔)\n",
        "\n",
        "2. Instead of keeping the frequencies of each word with the positive and negative labels we take the ratio of their frequency in that label by the total number of frequencies in that label. This will give the probability of occurrence of that word given the tweet is positive/negative.\n",
        "\n",
        "3. Then we make another property called loglikelihood. It is the log of the ratio of Positive probability to that of the negative probability of a particular word. But what if the probability of the word is zero ( frequency is zero in either positive or negative case) the log may become +/- infinity. Hence to overcome this we use additive smoothing. This wiki article explains more about additive smoothing.\n",
        "\n",
        "4. Therefore, to compute the positive probability and the negative probability for a specific word in the vocabulary, we’ll use the following inputs:\n",
        "\n",
        "𝑓𝑟𝑒𝑞𝑝𝑜𝑠 and 𝑓𝑟𝑒𝑞𝑛𝑒𝑔 are the frequencies of that specific word in \n",
        "the positive or negative class. In other words, the positive frequency of a word is the number of times the word is counted with the label of 1.\n",
        "\n",
        "𝑁𝑝𝑜𝑠 and 𝑁𝑛𝑒𝑔 are the total numbers of positive and negative words for all documents (for all tweets), respectively.\n",
        "𝑉 is the number of unique words in the entire set of documents, for all classes, whether positive or negative.\n",
        "\n",
        "We’ll use these to compute the positive and negative probability for a specific word using this formula:\n",
        "\n",
        "    𝑃(𝑊𝑝𝑜𝑠)= (𝑓𝑟𝑒𝑞𝑝𝑜𝑠+1)/(𝑁𝑝𝑜𝑠+𝑉)\n",
        "\n",
        "    𝑃(𝑊𝑛𝑒𝑔)= (𝑓𝑟𝑒𝑞𝑛𝑒𝑔+1)/(𝑁𝑛𝑒𝑔+𝑉)\n",
        "\n",
        "Notice that we add the “+1” in the numerator for additive smoothing.\n",
        "\n",
        "And the loglikelihood can be represented as:-\n",
        "\n",
        "    loglikelihood=log(𝑃(𝑊𝑝𝑜𝑠)/𝑃(𝑊𝑛𝑒𝑔))\n",
        "\n",
        "\n"
      ],
      "metadata": {
        "id": "0kg9idF9_CeA"
      }
    },
    {
      "cell_type": "markdown",
      "source": [
        "#### We just need to code the above written in order to train our Naive Bayes function"
      ],
      "metadata": {
        "id": "DrspHEUJ_y0i"
      }
    },
    {
      "cell_type": "code",
      "source": [
        "def train_naive_bayes(freqs, train_x, train_y):\n",
        "    '''\n",
        "    Input:\n",
        "        freqs: dictionary from (word, label) to how often the word appears\n",
        "        train_x: a list of tweets\n",
        "        train_y: a list of labels correponding to the tweets (0,1)\n",
        "    Output:\n",
        "        logprior: the log prior. (equation 3 above)\n",
        "        loglikelihood: the log likelihood of you Naive bayes equation. (equation 6 above)\n",
        "    '''\n",
        "    loglikelihood = {}\n",
        "    logprior = 0\n",
        "    # calculate V, the number of unique words in the vocabulary\n",
        "    vocab = set([pair[0] for pair in freqs.keys()])\n",
        "    V = len(vocab)\n",
        "    # calculate N_pos and N_neg\n",
        "    N_pos = N_neg = 0\n",
        "    for pair in freqs.keys():\n",
        "        # if the label is positive (greater than zero)\n",
        "        if pair[1] > 0:\n",
        "            # Increment the number of positive words by the count for this (word, label) pair\n",
        "            N_pos += freqs.get(pair, 1)\n",
        "        # else, the label is negative\n",
        "        else:\n",
        "            # increment the number of negative words by the count for this (word,label) pair\n",
        "            N_neg += freqs.get(pair, 1)\n",
        "    # Calculate D, the number of documents\n",
        "    D = len(train_y)\n",
        "    # Calculate D_pos, the number of positive documents (*hint: use sum(<np_array>))\n",
        "    D_pos = sum(train_y)\n",
        "    # Calculate D_neg, the number of negative documents (*hint: compute using D and D_pos)\n",
        "    D_neg = D-D_pos\n",
        "    # Calculate logprior\n",
        "    logprior = np.log(D_pos) - np.log(D_neg)\n",
        "    # For each word in the vocabulary...\n",
        "    for word in vocab:\n",
        "        # get the positive and negative frequency of the word\n",
        "        freq_pos = freqs.get((word, 1),0)\n",
        "        freq_neg = freqs.get((word, 0),0)\n",
        "        # calculate the probability that each word is positive, and negative\n",
        "        p_w_pos = (freq_pos + 1)/(N_pos + V)\n",
        "        p_w_neg = (freq_neg + 1)/(N_neg + V)\n",
        "        # calculate the log likelihood of the word\n",
        "        loglikelihood[word] = np.log(p_w_pos/p_w_neg)\n",
        "    return logprior, loglikelihood\n",
        "logprior, loglikelihood = train_naive_bayes(freqs, train_corpus, y_train)"
      ],
      "metadata": {
        "id": "Tc-G5JDm0kIG"
      },
      "execution_count": 116,
      "outputs": []
    },
    {
      "cell_type": "markdown",
      "source": [
        "#### In order to predict the sentiment of a tweet we simply have to sum up the loglikelihood of the words in the tweet along with the logprior. If the value is positive then the tweet shows positive sentiment but if the value is negative then the tweet shows negative sentiment."
      ],
      "metadata": {
        "id": "SyltiQsc_2Iw"
      }
    },
    {
      "cell_type": "code",
      "source": [
        "def naive_bayes_predict(tweet, logprior, loglikelihood):\n",
        "    '''\n",
        "    Input:\n",
        "        tweet: a string\n",
        "        logprior: a number\n",
        "        loglikelihood: a dictionary of words mapping to numbers\n",
        "    Output:\n",
        "        p: the sum of all the logliklihoods of each word in the tweet (if found in the dictionary) + logprior (a number)\n",
        "'''\n",
        "    # process the tweet to get a list of words\n",
        "    word_l = process_tweet(tweet)\n",
        "# initialize probability to zero\n",
        "    p = 0\n",
        "# add the logprior\n",
        "    p += logprior\n",
        "    for word in word_l:\n",
        "    # check if the word exists in the loglikelihood dictionary\n",
        "            if word in loglikelihood:\n",
        "                # add the log likelihood of that word to the probability\n",
        "                p += loglikelihood[word]\n",
        "    return p\n",
        "\n",
        "def test_naive_bayes(test_x, test_y, logprior, loglikelihood):\n",
        "    \"\"\"\n",
        "    Input:\n",
        "        test_x: A list of tweets\n",
        "        test_y: the corresponding labels for the list of tweets\n",
        "        logprior: the logprior\n",
        "        loglikelihood: a dictionary with the loglikelihoods for each word\n",
        "    Output:\n",
        "        accuracy: (# of tweets classified correctly)/(total # of tweets)\n",
        "    \"\"\"\n",
        "    accuracy = 0  # return this properly\n",
        "    y_hats = []\n",
        "    for tweet in test_x:\n",
        "        # if the prediction is > 0\n",
        "        if naive_bayes_predict(tweet, logprior, loglikelihood) > 0:\n",
        "            # the predicted class is 1\n",
        "            y_hat_i = 1\n",
        "        else:\n",
        "            # otherwise the predicted class is 0\n",
        "            y_hat_i = 0\n",
        "# append the predicted class to the list y_hats\n",
        "        y_hats.append(y_hat_i)\n",
        "    \n",
        "    # error is the average of the absolute values of the differences between y_hats and test_y\n",
        "    error = np.mean(np.absolute(y_hats - test_y))\n",
        "# Accuracy is 1 minus the error\n",
        "    accuracy = 1 - error\n",
        "    return accuracy"
      ],
      "metadata": {
        "id": "SRKFEr-e8DYg"
      },
      "execution_count": 123,
      "outputs": []
    },
    {
      "cell_type": "code",
      "source": [
        "test_naive_bayes(test_corpus, y_test, logprior, loglikelihood)  #We get an accurace of 94 percent here"
      ],
      "metadata": {
        "colab": {
          "base_uri": "https://localhost:8080/"
        },
        "id": "gKHdAof5-PFE",
        "outputId": "d0946b8b-3f0f-4d42-9fb6-0ad7f84b72e3"
      },
      "execution_count": 124,
      "outputs": [
        {
          "output_type": "execute_result",
          "data": {
            "text/plain": [
              "0.9435483870967742"
            ]
          },
          "metadata": {},
          "execution_count": 124
        }
      ]
    },
    {
      "cell_type": "code",
      "source": [],
      "metadata": {
        "id": "8EJbBj9v-UIQ"
      },
      "execution_count": null,
      "outputs": []
    }
  ]
}