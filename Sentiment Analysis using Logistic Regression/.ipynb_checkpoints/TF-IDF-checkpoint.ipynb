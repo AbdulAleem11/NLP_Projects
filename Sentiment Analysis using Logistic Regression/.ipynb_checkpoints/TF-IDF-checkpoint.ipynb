{
 "cells": [
  {
   "cell_type": "code",
   "execution_count": 1,
   "id": "2a93f3d1",
   "metadata": {},
   "outputs": [],
   "source": [
    "#!pip install nltk\n",
    "#nltk.download(\"punkt\")"
   ]
  },
  {
   "cell_type": "code",
   "execution_count": 2,
   "id": "311c8715",
   "metadata": {},
   "outputs": [],
   "source": [
    "paragraph=\"Deep learning (also known as deep structured learning) is part of a broader family of machine learning methods based on artificial neural networks with representation learning. Learning can be supervised, semi-supervised or unsupervised.Deep-learning architectures such as deep neural networks, deep belief networks, deep reinforcement learning, recurrent neural networks, convolutional neural networks and Transformers have been applied to fields including computer vision, speech recognition, natural language processing, machine translation, bioinformatics, drug design, medical image analysis, climate science, material inspection and board game programs, where they have produced results comparable to and in some cases surpassing human expert performance.Artificial neural networks (ANNs) were inspired by information processing and distributed communication nodes in biological systems. ANNs have various differences from biological brains. Specifically, artificial neural networks tend to be static and symbolic, while the biological brain of most living organisms is dynamic (plastic) and analogue.The adjective 'deep' in deep learning refers to the use of multiple layers in the network. Early work showed that a linear perceptron cannot be a universal classifier, but that a network with a nonpolynomial activation function with one hidden layer of unbounded width can. Deep learning is a modern variation which is concerned with an unbounded number of layers of bounded size, which permits practical application and optimized implementation, while retaining theoretical universality under mild conditions. In deep learning the layers are also permitted to be heterogeneous and to deviate widely from biologically informed connectionist models, for the sake of efficiency, trainability and understandability, hence the 'structured' part.\""
   ]
  },
  {
   "cell_type": "code",
   "execution_count": 3,
   "id": "2db88e5b",
   "metadata": {},
   "outputs": [],
   "source": [
    "import re\n",
    "import nltk\n",
    "from nltk.stem import PorterStemmer,WordNetLemmatizer\n",
    "from nltk.corpus import stopwords"
   ]
  },
  {
   "cell_type": "code",
   "execution_count": 4,
   "id": "c665dad5",
   "metadata": {},
   "outputs": [],
   "source": [
    "#Breakdown the corpus into documents\n",
    "documents=nltk.sent_tokenize(paragraph)"
   ]
  },
  {
   "cell_type": "code",
   "execution_count": 5,
   "id": "f2eab5e3",
   "metadata": {},
   "outputs": [
    {
     "name": "stdout",
     "output_type": "stream",
     "text": [
      "['Deep learning (also known as deep structured learning) is part of a broader family of machine learning methods based on artificial neural networks with representation learning.', 'Learning can be supervised, semi-supervised or unsupervised.Deep-learning architectures such as deep neural networks, deep belief networks, deep reinforcement learning, recurrent neural networks, convolutional neural networks and Transformers have been applied to fields including computer vision, speech recognition, natural language processing, machine translation, bioinformatics, drug design, medical image analysis, climate science, material inspection and board game programs, where they have produced results comparable to and in some cases surpassing human expert performance.Artificial neural networks (ANNs) were inspired by information processing and distributed communication nodes in biological systems.', 'ANNs have various differences from biological brains.', \"Specifically, artificial neural networks tend to be static and symbolic, while the biological brain of most living organisms is dynamic (plastic) and analogue.The adjective 'deep' in deep learning refers to the use of multiple layers in the network.\", 'Early work showed that a linear perceptron cannot be a universal classifier, but that a network with a nonpolynomial activation function with one hidden layer of unbounded width can.', 'Deep learning is a modern variation which is concerned with an unbounded number of layers of bounded size, which permits practical application and optimized implementation, while retaining theoretical universality under mild conditions.', \"In deep learning the layers are also permitted to be heterogeneous and to deviate widely from biologically informed connectionist models, for the sake of efficiency, trainability and understandability, hence the 'structured' part.\"]\n"
     ]
    }
   ],
   "source": [
    "print(documents)"
   ]
  },
  {
   "cell_type": "code",
   "execution_count": 6,
   "id": "6ce3d523",
   "metadata": {},
   "outputs": [
    {
     "data": {
      "text/plain": [
       "'histori'"
      ]
     },
     "execution_count": 6,
     "metadata": {},
     "output_type": "execute_result"
    }
   ],
   "source": [
    "# Stemming (Faster but need not give useful root words)\n",
    "stemmer=PorterStemmer()\n",
    "stemmer.stem(\"history\")"
   ]
  },
  {
   "cell_type": "code",
   "execution_count": 7,
   "id": "31bf5a0f",
   "metadata": {},
   "outputs": [
    {
     "data": {
      "text/plain": [
       "'history'"
      ]
     },
     "execution_count": 7,
     "metadata": {},
     "output_type": "execute_result"
    }
   ],
   "source": [
    "# Lemmatization (Comparatively slow but gives correct root words)\n",
    "lemmatizer=WordNetLemmatizer()\n",
    "lemmatizer.lemmatize(\"history\")"
   ]
  },
  {
   "cell_type": "markdown",
   "id": "d1ea7b9a",
   "metadata": {},
   "source": [
    "### Preprocessing\n",
    "- Remove punctuation\n",
    "- Remove stopwords\n",
    "- Stemming / Lemmatize\n"
   ]
  },
  {
   "cell_type": "code",
   "execution_count": 8,
   "id": "d03e76a1",
   "metadata": {},
   "outputs": [
    {
     "data": {
      "text/plain": [
       "7"
      ]
     },
     "execution_count": 8,
     "metadata": {},
     "output_type": "execute_result"
    }
   ],
   "source": [
    "len(documents)"
   ]
  },
  {
   "cell_type": "code",
   "execution_count": 9,
   "id": "3d347a60",
   "metadata": {},
   "outputs": [],
   "source": [
    "corpus=[]\n",
    "for i in range(len(documents)):\n",
    "    review=re.sub('[^a-zA-Z]',' ',documents[i]) #Replacing any non alphabet character with space\n",
    "    review=review.lower()\n",
    "    review=review.split()\n",
    "    review=[lemmatizer.lemmatize(word) for word in review if not word in set(stopwords.words(\"english\"))]\n",
    "    review= ' '.join(review)\n",
    "    corpus.append(review)\n",
    "            "
   ]
  },
  {
   "cell_type": "code",
   "execution_count": 10,
   "id": "f757afcc",
   "metadata": {},
   "outputs": [
    {
     "data": {
      "text/plain": [
       "['deep learning also known deep structured learning part broader family machine learning method based artificial neural network representation learning',\n",
       " 'learning supervised semi supervised unsupervised deep learning architecture deep neural network deep belief network deep reinforcement learning recurrent neural network convolutional neural network transformer applied field including computer vision speech recognition natural language processing machine translation bioinformatics drug design medical image analysis climate science material inspection board game program produced result comparable case surpassing human expert performance artificial neural network anns inspired information processing distributed communication node biological system',\n",
       " 'anns various difference biological brain',\n",
       " 'specifically artificial neural network tend static symbolic biological brain living organism dynamic plastic analogue adjective deep deep learning refers use multiple layer network',\n",
       " 'early work showed linear perceptron cannot universal classifier network nonpolynomial activation function one hidden layer unbounded width',\n",
       " 'deep learning modern variation concerned unbounded number layer bounded size permit practical application optimized implementation retaining theoretical universality mild condition',\n",
       " 'deep learning layer also permitted heterogeneous deviate widely biologically informed connectionist model sake efficiency trainability understandability hence structured part']"
      ]
     },
     "execution_count": 10,
     "metadata": {},
     "output_type": "execute_result"
    }
   ],
   "source": [
    "corpus"
   ]
  },
  {
   "cell_type": "code",
   "execution_count": 14,
   "id": "ffb2eef1",
   "metadata": {},
   "outputs": [],
   "source": [
    "from sklearn.feature_extraction.text import TfidfVectorizer\n",
    "vectorizer = TfidfVectorizer()"
   ]
  },
  {
   "cell_type": "code",
   "execution_count": 15,
   "id": "c5f81b3d",
   "metadata": {},
   "outputs": [],
   "source": [
    "X = vectorizer.fit_transform(corpus)"
   ]
  },
  {
   "cell_type": "code",
   "execution_count": 22,
   "id": "23ca715e",
   "metadata": {},
   "outputs": [
    {
     "data": {
      "text/plain": [
       "array(['activation', 'adjective', 'also', 'analogue', 'analysis', 'anns',\n",
       "       'application', 'applied', 'architecture', 'artificial', 'based',\n",
       "       'belief', 'bioinformatics', 'biological', 'biologically', 'board',\n",
       "       'bounded', 'brain', 'broader', 'cannot', 'case', 'classifier',\n",
       "       'climate', 'communication', 'comparable', 'computer', 'concerned',\n",
       "       'condition', 'connectionist', 'convolutional', 'deep', 'design',\n",
       "       'deviate', 'difference', 'distributed', 'drug', 'dynamic', 'early',\n",
       "       'efficiency', 'expert', 'family', 'field', 'function', 'game',\n",
       "       'hence', 'heterogeneous', 'hidden', 'human', 'image',\n",
       "       'implementation', 'including', 'information', 'informed',\n",
       "       'inspection', 'inspired', 'known', 'language', 'layer', 'learning',\n",
       "       'linear', 'living', 'machine', 'material', 'medical', 'method',\n",
       "       'mild', 'model', 'modern', 'multiple', 'natural', 'network',\n",
       "       'neural', 'node', 'nonpolynomial', 'number', 'one', 'optimized',\n",
       "       'organism', 'part', 'perceptron', 'performance', 'permit',\n",
       "       'permitted', 'plastic', 'practical', 'processing', 'produced',\n",
       "       'program', 'recognition', 'recurrent', 'refers', 'reinforcement',\n",
       "       'representation', 'result', 'retaining', 'sake', 'science', 'semi',\n",
       "       'showed', 'size', 'specifically', 'speech', 'static', 'structured',\n",
       "       'supervised', 'surpassing', 'symbolic', 'system', 'tend',\n",
       "       'theoretical', 'trainability', 'transformer', 'translation',\n",
       "       'unbounded', 'understandability', 'universal', 'universality',\n",
       "       'unsupervised', 'use', 'variation', 'various', 'vision', 'widely',\n",
       "       'width', 'work'], dtype=object)"
      ]
     },
     "execution_count": 22,
     "metadata": {},
     "output_type": "execute_result"
    }
   ],
   "source": [
    "vectorizer.get_feature_names_out()"
   ]
  },
  {
   "cell_type": "code",
   "execution_count": 30,
   "id": "78081abb",
   "metadata": {},
   "outputs": [
    {
     "data": {
      "text/plain": [
       "array([[0.        , 0.        , 0.20774089, 0.        , 0.        ,\n",
       "        0.        , 0.        , 0.        , 0.        , 0.17757002,\n",
       "        0.25026433, 0.        , 0.        , 0.        , 0.        ,\n",
       "        0.        , 0.        , 0.        , 0.25026433, 0.        ,\n",
       "        0.        , 0.        , 0.        , 0.        , 0.        ,\n",
       "        0.        , 0.        , 0.        , 0.        , 0.        ,\n",
       "        0.27009316, 0.        , 0.        , 0.        , 0.        ,\n",
       "        0.        , 0.        , 0.        , 0.        , 0.        ,\n",
       "        0.25026433, 0.        , 0.        , 0.        , 0.        ,\n",
       "        0.        , 0.        , 0.        , 0.        , 0.        ,\n",
       "        0.        , 0.        , 0.        , 0.        , 0.        ,\n",
       "        0.25026433, 0.        , 0.        , 0.54018632, 0.        ,\n",
       "        0.        , 0.20774089, 0.        , 0.        , 0.25026433,\n",
       "        0.        , 0.        , 0.        , 0.        , 0.        ,\n",
       "        0.15416768, 0.17757002, 0.        , 0.        , 0.        ,\n",
       "        0.        , 0.        , 0.        , 0.20774089, 0.        ,\n",
       "        0.        , 0.        , 0.        , 0.        , 0.        ,\n",
       "        0.        , 0.        , 0.        , 0.        , 0.        ,\n",
       "        0.        , 0.        , 0.25026433, 0.        , 0.        ,\n",
       "        0.        , 0.        , 0.        , 0.        , 0.        ,\n",
       "        0.        , 0.        , 0.        , 0.20774089, 0.        ,\n",
       "        0.        , 0.        , 0.        , 0.        , 0.        ,\n",
       "        0.        , 0.        , 0.        , 0.        , 0.        ,\n",
       "        0.        , 0.        , 0.        , 0.        , 0.        ,\n",
       "        0.        , 0.        , 0.        , 0.        , 0.        ],\n",
       "       [0.        , 0.        , 0.        , 0.        , 0.11165938,\n",
       "        0.09268688, 0.        , 0.11165938, 0.11165938, 0.07922567,\n",
       "        0.        , 0.11165938, 0.11165938, 0.07922567, 0.        ,\n",
       "        0.11165938, 0.        , 0.        , 0.        , 0.        ,\n",
       "        0.11165938, 0.        , 0.11165938, 0.11165938, 0.11165938,\n",
       "        0.11165938, 0.        , 0.        , 0.        , 0.11165938,\n",
       "        0.24101265, 0.11165938, 0.        , 0.        , 0.11165938,\n",
       "        0.11165938, 0.        , 0.        , 0.        , 0.11165938,\n",
       "        0.        , 0.11165938, 0.        , 0.11165938, 0.        ,\n",
       "        0.        , 0.        , 0.11165938, 0.11165938, 0.        ,\n",
       "        0.11165938, 0.11165938, 0.        , 0.11165938, 0.11165938,\n",
       "        0.        , 0.11165938, 0.        , 0.18075949, 0.        ,\n",
       "        0.        , 0.09268688, 0.11165938, 0.11165938, 0.        ,\n",
       "        0.        , 0.        , 0.        , 0.        , 0.11165938,\n",
       "        0.34392173, 0.31690267, 0.11165938, 0.        , 0.        ,\n",
       "        0.        , 0.        , 0.        , 0.        , 0.        ,\n",
       "        0.11165938, 0.        , 0.        , 0.        , 0.        ,\n",
       "        0.22331876, 0.11165938, 0.11165938, 0.11165938, 0.11165938,\n",
       "        0.        , 0.11165938, 0.        , 0.11165938, 0.        ,\n",
       "        0.        , 0.11165938, 0.11165938, 0.        , 0.        ,\n",
       "        0.        , 0.11165938, 0.        , 0.        , 0.22331876,\n",
       "        0.11165938, 0.        , 0.11165938, 0.        , 0.        ,\n",
       "        0.        , 0.11165938, 0.11165938, 0.        , 0.        ,\n",
       "        0.        , 0.        , 0.11165938, 0.        , 0.        ,\n",
       "        0.        , 0.11165938, 0.        , 0.        , 0.        ],\n",
       "       [0.        , 0.        , 0.        , 0.        , 0.        ,\n",
       "        0.42132986, 0.        , 0.        , 0.        , 0.        ,\n",
       "        0.        , 0.        , 0.        , 0.36013879, 0.        ,\n",
       "        0.        , 0.        , 0.42132986, 0.        , 0.        ,\n",
       "        0.        , 0.        , 0.        , 0.        , 0.        ,\n",
       "        0.        , 0.        , 0.        , 0.        , 0.        ,\n",
       "        0.        , 0.        , 0.        , 0.50757381, 0.        ,\n",
       "        0.        , 0.        , 0.        , 0.        , 0.        ,\n",
       "        0.        , 0.        , 0.        , 0.        , 0.        ,\n",
       "        0.        , 0.        , 0.        , 0.        , 0.        ,\n",
       "        0.        , 0.        , 0.        , 0.        , 0.        ,\n",
       "        0.        , 0.        , 0.        , 0.        , 0.        ,\n",
       "        0.        , 0.        , 0.        , 0.        , 0.        ,\n",
       "        0.        , 0.        , 0.        , 0.        , 0.        ,\n",
       "        0.        , 0.        , 0.        , 0.        , 0.        ,\n",
       "        0.        , 0.        , 0.        , 0.        , 0.        ,\n",
       "        0.        , 0.        , 0.        , 0.        , 0.        ,\n",
       "        0.        , 0.        , 0.        , 0.        , 0.        ,\n",
       "        0.        , 0.        , 0.        , 0.        , 0.        ,\n",
       "        0.        , 0.        , 0.        , 0.        , 0.        ,\n",
       "        0.        , 0.        , 0.        , 0.        , 0.        ,\n",
       "        0.        , 0.        , 0.        , 0.        , 0.        ,\n",
       "        0.        , 0.        , 0.        , 0.        , 0.        ,\n",
       "        0.        , 0.        , 0.        , 0.        , 0.        ,\n",
       "        0.50757381, 0.        , 0.        , 0.        , 0.        ],\n",
       "       [0.        , 0.23216505, 0.        , 0.23216505, 0.        ,\n",
       "        0.        , 0.        , 0.        , 0.        , 0.16472804,\n",
       "        0.        , 0.        , 0.        , 0.16472804, 0.        ,\n",
       "        0.        , 0.        , 0.19271693, 0.        , 0.        ,\n",
       "        0.        , 0.        , 0.        , 0.        , 0.        ,\n",
       "        0.        , 0.        , 0.        , 0.        , 0.        ,\n",
       "        0.25055984, 0.        , 0.        , 0.        , 0.        ,\n",
       "        0.        , 0.23216505, 0.        , 0.        , 0.        ,\n",
       "        0.        , 0.        , 0.        , 0.        , 0.        ,\n",
       "        0.        , 0.        , 0.        , 0.        , 0.        ,\n",
       "        0.        , 0.        , 0.        , 0.        , 0.        ,\n",
       "        0.        , 0.        , 0.14301817, 0.12527992, 0.        ,\n",
       "        0.23216505, 0.        , 0.        , 0.        , 0.        ,\n",
       "        0.        , 0.        , 0.        , 0.23216505, 0.        ,\n",
       "        0.28603635, 0.16472804, 0.        , 0.        , 0.        ,\n",
       "        0.        , 0.        , 0.23216505, 0.        , 0.        ,\n",
       "        0.        , 0.        , 0.        , 0.23216505, 0.        ,\n",
       "        0.        , 0.        , 0.        , 0.        , 0.        ,\n",
       "        0.23216505, 0.        , 0.        , 0.        , 0.        ,\n",
       "        0.        , 0.        , 0.        , 0.        , 0.        ,\n",
       "        0.23216505, 0.        , 0.23216505, 0.        , 0.        ,\n",
       "        0.        , 0.23216505, 0.        , 0.23216505, 0.        ,\n",
       "        0.        , 0.        , 0.        , 0.        , 0.        ,\n",
       "        0.        , 0.        , 0.        , 0.23216505, 0.        ,\n",
       "        0.        , 0.        , 0.        , 0.        , 0.        ],\n",
       "       [0.25442737, 0.        , 0.        , 0.        , 0.        ,\n",
       "        0.        , 0.        , 0.        , 0.        , 0.        ,\n",
       "        0.        , 0.        , 0.        , 0.        , 0.        ,\n",
       "        0.        , 0.        , 0.        , 0.        , 0.25442737,\n",
       "        0.        , 0.25442737, 0.        , 0.        , 0.        ,\n",
       "        0.        , 0.        , 0.        , 0.        , 0.        ,\n",
       "        0.        , 0.        , 0.        , 0.        , 0.        ,\n",
       "        0.        , 0.        , 0.25442737, 0.        , 0.        ,\n",
       "        0.        , 0.        , 0.25442737, 0.        , 0.        ,\n",
       "        0.        , 0.25442737, 0.        , 0.        , 0.        ,\n",
       "        0.        , 0.        , 0.        , 0.        , 0.        ,\n",
       "        0.        , 0.        , 0.1567322 , 0.        , 0.25442737,\n",
       "        0.        , 0.        , 0.        , 0.        , 0.        ,\n",
       "        0.        , 0.        , 0.        , 0.        , 0.        ,\n",
       "        0.1567322 , 0.        , 0.        , 0.25442737, 0.        ,\n",
       "        0.25442737, 0.        , 0.        , 0.        , 0.25442737,\n",
       "        0.        , 0.        , 0.        , 0.        , 0.        ,\n",
       "        0.        , 0.        , 0.        , 0.        , 0.        ,\n",
       "        0.        , 0.        , 0.        , 0.        , 0.        ,\n",
       "        0.        , 0.        , 0.        , 0.25442737, 0.        ,\n",
       "        0.        , 0.        , 0.        , 0.        , 0.        ,\n",
       "        0.        , 0.        , 0.        , 0.        , 0.        ,\n",
       "        0.        , 0.        , 0.        , 0.21119657, 0.        ,\n",
       "        0.25442737, 0.        , 0.        , 0.        , 0.        ,\n",
       "        0.        , 0.        , 0.        , 0.25442737, 0.25442737],\n",
       "       [0.        , 0.        , 0.        , 0.        , 0.        ,\n",
       "        0.        , 0.23802176, 0.        , 0.        , 0.        ,\n",
       "        0.        , 0.        , 0.        , 0.        , 0.        ,\n",
       "        0.        , 0.23802176, 0.        , 0.        , 0.        ,\n",
       "        0.        , 0.        , 0.        , 0.        , 0.        ,\n",
       "        0.        , 0.23802176, 0.23802176, 0.        , 0.        ,\n",
       "        0.1284403 , 0.        , 0.        , 0.        , 0.        ,\n",
       "        0.        , 0.        , 0.        , 0.        , 0.        ,\n",
       "        0.        , 0.        , 0.        , 0.        , 0.        ,\n",
       "        0.        , 0.        , 0.        , 0.        , 0.23802176,\n",
       "        0.        , 0.        , 0.        , 0.        , 0.        ,\n",
       "        0.        , 0.        , 0.14662602, 0.1284403 , 0.        ,\n",
       "        0.        , 0.        , 0.        , 0.        , 0.        ,\n",
       "        0.23802176, 0.        , 0.23802176, 0.        , 0.        ,\n",
       "        0.        , 0.        , 0.        , 0.        , 0.23802176,\n",
       "        0.        , 0.23802176, 0.        , 0.        , 0.        ,\n",
       "        0.        , 0.23802176, 0.        , 0.        , 0.23802176,\n",
       "        0.        , 0.        , 0.        , 0.        , 0.        ,\n",
       "        0.        , 0.        , 0.        , 0.        , 0.23802176,\n",
       "        0.        , 0.        , 0.        , 0.        , 0.23802176,\n",
       "        0.        , 0.        , 0.        , 0.        , 0.        ,\n",
       "        0.        , 0.        , 0.        , 0.        , 0.23802176,\n",
       "        0.        , 0.        , 0.        , 0.1975785 , 0.        ,\n",
       "        0.        , 0.23802176, 0.        , 0.        , 0.23802176,\n",
       "        0.        , 0.        , 0.        , 0.        , 0.        ],\n",
       "       [0.        , 0.        , 0.2073338 , 0.        , 0.        ,\n",
       "        0.        , 0.        , 0.        , 0.        , 0.        ,\n",
       "        0.        , 0.        , 0.        , 0.        , 0.24977392,\n",
       "        0.        , 0.        , 0.        , 0.        , 0.        ,\n",
       "        0.        , 0.        , 0.        , 0.        , 0.        ,\n",
       "        0.        , 0.        , 0.        , 0.24977392, 0.        ,\n",
       "        0.13478194, 0.        , 0.24977392, 0.        , 0.        ,\n",
       "        0.        , 0.        , 0.        , 0.24977392, 0.        ,\n",
       "        0.        , 0.        , 0.        , 0.        , 0.24977392,\n",
       "        0.24977392, 0.        , 0.        , 0.        , 0.        ,\n",
       "        0.        , 0.        , 0.24977392, 0.        , 0.        ,\n",
       "        0.        , 0.        , 0.15386558, 0.13478194, 0.        ,\n",
       "        0.        , 0.        , 0.        , 0.        , 0.        ,\n",
       "        0.        , 0.24977392, 0.        , 0.        , 0.        ,\n",
       "        0.        , 0.        , 0.        , 0.        , 0.        ,\n",
       "        0.        , 0.        , 0.        , 0.2073338 , 0.        ,\n",
       "        0.        , 0.        , 0.24977392, 0.        , 0.        ,\n",
       "        0.        , 0.        , 0.        , 0.        , 0.        ,\n",
       "        0.        , 0.        , 0.        , 0.        , 0.        ,\n",
       "        0.24977392, 0.        , 0.        , 0.        , 0.        ,\n",
       "        0.        , 0.        , 0.        , 0.2073338 , 0.        ,\n",
       "        0.        , 0.        , 0.        , 0.        , 0.        ,\n",
       "        0.24977392, 0.        , 0.        , 0.        , 0.24977392,\n",
       "        0.        , 0.        , 0.        , 0.        , 0.        ,\n",
       "        0.        , 0.        , 0.24977392, 0.        , 0.        ]])"
      ]
     },
     "execution_count": 30,
     "metadata": {},
     "output_type": "execute_result"
    }
   ],
   "source": [
    "X.toarray()"
   ]
  },
  {
   "cell_type": "code",
   "execution_count": 23,
   "id": "0035a671",
   "metadata": {},
   "outputs": [
    {
     "name": "stdout",
     "output_type": "stream",
     "text": [
      "(7, 125)\n"
     ]
    }
   ],
   "source": [
    "print(X.shape)"
   ]
  },
  {
   "cell_type": "markdown",
   "id": "c5d125db",
   "metadata": {},
   "source": [
    "##### There are 7 sentences in the corpus and each document will be represented by a vector of length 125"
   ]
  },
  {
   "cell_type": "code",
   "execution_count": 16,
   "id": "b7ab0749",
   "metadata": {},
   "outputs": [
    {
     "data": {
      "text/plain": [
       "{'deep': 30,\n",
       " 'learning': 58,\n",
       " 'also': 2,\n",
       " 'known': 55,\n",
       " 'structured': 103,\n",
       " 'part': 78,\n",
       " 'broader': 18,\n",
       " 'family': 40,\n",
       " 'machine': 61,\n",
       " 'method': 64,\n",
       " 'based': 10,\n",
       " 'artificial': 9,\n",
       " 'neural': 71,\n",
       " 'network': 70,\n",
       " 'representation': 92,\n",
       " 'supervised': 104,\n",
       " 'semi': 97,\n",
       " 'unsupervised': 117,\n",
       " 'architecture': 8,\n",
       " 'belief': 11,\n",
       " 'reinforcement': 91,\n",
       " 'recurrent': 89,\n",
       " 'convolutional': 29,\n",
       " 'transformer': 111,\n",
       " 'applied': 7,\n",
       " 'field': 41,\n",
       " 'including': 50,\n",
       " 'computer': 25,\n",
       " 'vision': 121,\n",
       " 'speech': 101,\n",
       " 'recognition': 88,\n",
       " 'natural': 69,\n",
       " 'language': 56,\n",
       " 'processing': 85,\n",
       " 'translation': 112,\n",
       " 'bioinformatics': 12,\n",
       " 'drug': 35,\n",
       " 'design': 31,\n",
       " 'medical': 63,\n",
       " 'image': 48,\n",
       " 'analysis': 4,\n",
       " 'climate': 22,\n",
       " 'science': 96,\n",
       " 'material': 62,\n",
       " 'inspection': 53,\n",
       " 'board': 15,\n",
       " 'game': 43,\n",
       " 'program': 87,\n",
       " 'produced': 86,\n",
       " 'result': 93,\n",
       " 'comparable': 24,\n",
       " 'case': 20,\n",
       " 'surpassing': 105,\n",
       " 'human': 47,\n",
       " 'expert': 39,\n",
       " 'performance': 80,\n",
       " 'anns': 5,\n",
       " 'inspired': 54,\n",
       " 'information': 51,\n",
       " 'distributed': 34,\n",
       " 'communication': 23,\n",
       " 'node': 72,\n",
       " 'biological': 13,\n",
       " 'system': 107,\n",
       " 'various': 120,\n",
       " 'difference': 33,\n",
       " 'brain': 17,\n",
       " 'specifically': 100,\n",
       " 'tend': 108,\n",
       " 'static': 102,\n",
       " 'symbolic': 106,\n",
       " 'living': 60,\n",
       " 'organism': 77,\n",
       " 'dynamic': 36,\n",
       " 'plastic': 83,\n",
       " 'analogue': 3,\n",
       " 'adjective': 1,\n",
       " 'refers': 90,\n",
       " 'use': 118,\n",
       " 'multiple': 68,\n",
       " 'layer': 57,\n",
       " 'early': 37,\n",
       " 'work': 124,\n",
       " 'showed': 98,\n",
       " 'linear': 59,\n",
       " 'perceptron': 79,\n",
       " 'cannot': 19,\n",
       " 'universal': 115,\n",
       " 'classifier': 21,\n",
       " 'nonpolynomial': 73,\n",
       " 'activation': 0,\n",
       " 'function': 42,\n",
       " 'one': 75,\n",
       " 'hidden': 46,\n",
       " 'unbounded': 113,\n",
       " 'width': 123,\n",
       " 'modern': 67,\n",
       " 'variation': 119,\n",
       " 'concerned': 26,\n",
       " 'number': 74,\n",
       " 'bounded': 16,\n",
       " 'size': 99,\n",
       " 'permit': 81,\n",
       " 'practical': 84,\n",
       " 'application': 6,\n",
       " 'optimized': 76,\n",
       " 'implementation': 49,\n",
       " 'retaining': 94,\n",
       " 'theoretical': 109,\n",
       " 'universality': 116,\n",
       " 'mild': 65,\n",
       " 'condition': 27,\n",
       " 'permitted': 82,\n",
       " 'heterogeneous': 45,\n",
       " 'deviate': 32,\n",
       " 'widely': 122,\n",
       " 'biologically': 14,\n",
       " 'informed': 52,\n",
       " 'connectionist': 28,\n",
       " 'model': 66,\n",
       " 'sake': 95,\n",
       " 'efficiency': 38,\n",
       " 'trainability': 110,\n",
       " 'understandability': 114,\n",
       " 'hence': 44}"
      ]
     },
     "execution_count": 16,
     "metadata": {},
     "output_type": "execute_result"
    }
   ],
   "source": [
    "vectorizer.vocabulary_  #The index of the features"
   ]
  },
  {
   "cell_type": "code",
   "execution_count": 17,
   "id": "3c5ccd03",
   "metadata": {},
   "outputs": [
    {
     "name": "stdout",
     "output_type": "stream",
     "text": [
      "{'activation': 0, 'adjective': 1, 'also': 2, 'analogue': 3, 'analysis': 4, 'anns': 5, 'application': 6, 'applied': 7, 'architecture': 8, 'artificial': 9, 'based': 10, 'belief': 11, 'bioinformatics': 12, 'biological': 13, 'biologically': 14, 'board': 15, 'bounded': 16, 'brain': 17, 'broader': 18, 'cannot': 19, 'case': 20, 'classifier': 21, 'climate': 22, 'communication': 23, 'comparable': 24, 'computer': 25, 'concerned': 26, 'condition': 27, 'connectionist': 28, 'convolutional': 29, 'deep': 30, 'design': 31, 'deviate': 32, 'difference': 33, 'distributed': 34, 'drug': 35, 'dynamic': 36, 'early': 37, 'efficiency': 38, 'expert': 39, 'family': 40, 'field': 41, 'function': 42, 'game': 43, 'hence': 44, 'heterogeneous': 45, 'hidden': 46, 'human': 47, 'image': 48, 'implementation': 49, 'including': 50, 'information': 51, 'informed': 52, 'inspection': 53, 'inspired': 54, 'known': 55, 'language': 56, 'layer': 57, 'learning': 58, 'linear': 59, 'living': 60, 'machine': 61, 'material': 62, 'medical': 63, 'method': 64, 'mild': 65, 'model': 66, 'modern': 67, 'multiple': 68, 'natural': 69, 'network': 70, 'neural': 71, 'node': 72, 'nonpolynomial': 73, 'number': 74, 'one': 75, 'optimized': 76, 'organism': 77, 'part': 78, 'perceptron': 79, 'performance': 80, 'permit': 81, 'permitted': 82, 'plastic': 83, 'practical': 84, 'processing': 85, 'produced': 86, 'program': 87, 'recognition': 88, 'recurrent': 89, 'refers': 90, 'reinforcement': 91, 'representation': 92, 'result': 93, 'retaining': 94, 'sake': 95, 'science': 96, 'semi': 97, 'showed': 98, 'size': 99, 'specifically': 100, 'speech': 101, 'static': 102, 'structured': 103, 'supervised': 104, 'surpassing': 105, 'symbolic': 106, 'system': 107, 'tend': 108, 'theoretical': 109, 'trainability': 110, 'transformer': 111, 'translation': 112, 'unbounded': 113, 'understandability': 114, 'universal': 115, 'universality': 116, 'unsupervised': 117, 'use': 118, 'variation': 119, 'various': 120, 'vision': 121, 'widely': 122, 'width': 123, 'work': 124}\n"
     ]
    }
   ],
   "source": [
    "# In a sorted way\n",
    "import collections\n",
    "print(dict(collections.OrderedDict(sorted(vectorizer.vocabulary_.items()))))"
   ]
  },
  {
   "cell_type": "markdown",
   "id": "fb357a2a",
   "metadata": {},
   "source": [
    "##### We see there are 124 words in our vocabulary which have got the feature number alphabetically"
   ]
  },
  {
   "cell_type": "code",
   "execution_count": 18,
   "id": "19a6bd05",
   "metadata": {},
   "outputs": [],
   "source": [
    "first_document=corpus[0]"
   ]
  },
  {
   "cell_type": "code",
   "execution_count": 19,
   "id": "fda641f0",
   "metadata": {},
   "outputs": [
    {
     "data": {
      "text/plain": [
       "'deep learning also known deep structured learning part broader family machine learning method based artificial neural network representation learning'"
      ]
     },
     "execution_count": 19,
     "metadata": {},
     "output_type": "execute_result"
    }
   ],
   "source": [
    "first_document"
   ]
  },
  {
   "cell_type": "code",
   "execution_count": 20,
   "id": "05dadb64",
   "metadata": {},
   "outputs": [
    {
     "data": {
      "text/plain": [
       "array([[0.        , 0.        , 0.20774089, 0.        , 0.        ,\n",
       "        0.        , 0.        , 0.        , 0.        , 0.17757002,\n",
       "        0.25026433, 0.        , 0.        , 0.        , 0.        ,\n",
       "        0.        , 0.        , 0.        , 0.25026433, 0.        ,\n",
       "        0.        , 0.        , 0.        , 0.        , 0.        ,\n",
       "        0.        , 0.        , 0.        , 0.        , 0.        ,\n",
       "        0.27009316, 0.        , 0.        , 0.        , 0.        ,\n",
       "        0.        , 0.        , 0.        , 0.        , 0.        ,\n",
       "        0.25026433, 0.        , 0.        , 0.        , 0.        ,\n",
       "        0.        , 0.        , 0.        , 0.        , 0.        ,\n",
       "        0.        , 0.        , 0.        , 0.        , 0.        ,\n",
       "        0.25026433, 0.        , 0.        , 0.54018632, 0.        ,\n",
       "        0.        , 0.20774089, 0.        , 0.        , 0.25026433,\n",
       "        0.        , 0.        , 0.        , 0.        , 0.        ,\n",
       "        0.15416768, 0.17757002, 0.        , 0.        , 0.        ,\n",
       "        0.        , 0.        , 0.        , 0.20774089, 0.        ,\n",
       "        0.        , 0.        , 0.        , 0.        , 0.        ,\n",
       "        0.        , 0.        , 0.        , 0.        , 0.        ,\n",
       "        0.        , 0.        , 0.25026433, 0.        , 0.        ,\n",
       "        0.        , 0.        , 0.        , 0.        , 0.        ,\n",
       "        0.        , 0.        , 0.        , 0.20774089, 0.        ,\n",
       "        0.        , 0.        , 0.        , 0.        , 0.        ,\n",
       "        0.        , 0.        , 0.        , 0.        , 0.        ,\n",
       "        0.        , 0.        , 0.        , 0.        , 0.        ,\n",
       "        0.        , 0.        , 0.        , 0.        , 0.        ]])"
      ]
     },
     "execution_count": 20,
     "metadata": {},
     "output_type": "execute_result"
    }
   ],
   "source": [
    "X[0].toarray() #See the first feature is \"activation\" and this word is not present in the first document, hence it has value 0 "
   ]
  },
  {
   "cell_type": "code",
   "execution_count": 21,
   "id": "e7c79e1a",
   "metadata": {},
   "outputs": [
    {
     "data": {
      "text/plain": [
       "(1, 125)"
      ]
     },
     "execution_count": 21,
     "metadata": {},
     "output_type": "execute_result"
    }
   ],
   "source": [
    "X[0].toarray().shape\n",
    "# Hence every document will be represented by a vector of length 158"
   ]
  },
  {
   "cell_type": "markdown",
   "id": "fe77fdf0",
   "metadata": {},
   "source": [
    "### n-gram TF-IDF"
   ]
  },
  {
   "cell_type": "code",
   "execution_count": 31,
   "id": "dcb5eb36",
   "metadata": {},
   "outputs": [],
   "source": [
    "from sklearn.feature_extraction.text import CountVectorizer\n",
    "vectorizer = TfidfVectorizer(ngram_range=(1,3)) #From unigrams to trigrams"
   ]
  },
  {
   "cell_type": "code",
   "execution_count": 32,
   "id": "243902ff",
   "metadata": {},
   "outputs": [
    {
     "name": "stdout",
     "output_type": "stream",
     "text": [
      "{'activation': 0, 'activation function': 1, 'activation function one': 2, 'adjective': 3, 'adjective deep': 4, 'adjective deep deep': 5, 'also': 6, 'also known': 7, 'also known deep': 8, 'also permitted': 9, 'also permitted heterogeneous': 10, 'analogue': 11, 'analogue adjective': 12, 'analogue adjective deep': 13, 'analysis': 14, 'analysis climate': 15, 'analysis climate science': 16, 'anns': 17, 'anns inspired': 18, 'anns inspired information': 19, 'anns various': 20, 'anns various difference': 21, 'application': 22, 'application optimized': 23, 'application optimized implementation': 24, 'applied': 25, 'applied field': 26, 'applied field including': 27, 'architecture': 28, 'architecture deep': 29, 'architecture deep neural': 30, 'artificial': 31, 'artificial neural': 32, 'artificial neural network': 33, 'based': 34, 'based artificial': 35, 'based artificial neural': 36, 'belief': 37, 'belief network': 38, 'belief network deep': 39, 'bioinformatics': 40, 'bioinformatics drug': 41, 'bioinformatics drug design': 42, 'biological': 43, 'biological brain': 44, 'biological brain living': 45, 'biological system': 46, 'biologically': 47, 'biologically informed': 48, 'biologically informed connectionist': 49, 'board': 50, 'board game': 51, 'board game program': 52, 'bounded': 53, 'bounded size': 54, 'bounded size permit': 55, 'brain': 56, 'brain living': 57, 'brain living organism': 58, 'broader': 59, 'broader family': 60, 'broader family machine': 61, 'cannot': 62, 'cannot universal': 63, 'cannot universal classifier': 64, 'case': 65, 'case surpassing': 66, 'case surpassing human': 67, 'classifier': 68, 'classifier network': 69, 'classifier network nonpolynomial': 70, 'climate': 71, 'climate science': 72, 'climate science material': 73, 'communication': 74, 'communication node': 75, 'communication node biological': 76, 'comparable': 77, 'comparable case': 78, 'comparable case surpassing': 79, 'computer': 80, 'computer vision': 81, 'computer vision speech': 82, 'concerned': 83, 'concerned unbounded': 84, 'concerned unbounded number': 85, 'condition': 86, 'connectionist': 87, 'connectionist model': 88, 'connectionist model sake': 89, 'convolutional': 90, 'convolutional neural': 91, 'convolutional neural network': 92, 'deep': 93, 'deep belief': 94, 'deep belief network': 95, 'deep deep': 96, 'deep deep learning': 97, 'deep learning': 98, 'deep learning also': 99, 'deep learning architecture': 100, 'deep learning layer': 101, 'deep learning modern': 102, 'deep learning refers': 103, 'deep neural': 104, 'deep neural network': 105, 'deep reinforcement': 106, 'deep reinforcement learning': 107, 'deep structured': 108, 'deep structured learning': 109, 'design': 110, 'design medical': 111, 'design medical image': 112, 'deviate': 113, 'deviate widely': 114, 'deviate widely biologically': 115, 'difference': 116, 'difference biological': 117, 'difference biological brain': 118, 'distributed': 119, 'distributed communication': 120, 'distributed communication node': 121, 'drug': 122, 'drug design': 123, 'drug design medical': 124, 'dynamic': 125, 'dynamic plastic': 126, 'dynamic plastic analogue': 127, 'early': 128, 'early work': 129, 'early work showed': 130, 'efficiency': 131, 'efficiency trainability': 132, 'efficiency trainability understandability': 133, 'expert': 134, 'expert performance': 135, 'expert performance artificial': 136, 'family': 137, 'family machine': 138, 'family machine learning': 139, 'field': 140, 'field including': 141, 'field including computer': 142, 'function': 143, 'function one': 144, 'function one hidden': 145, 'game': 146, 'game program': 147, 'game program produced': 148, 'hence': 149, 'hence structured': 150, 'hence structured part': 151, 'heterogeneous': 152, 'heterogeneous deviate': 153, 'heterogeneous deviate widely': 154, 'hidden': 155, 'hidden layer': 156, 'hidden layer unbounded': 157, 'human': 158, 'human expert': 159, 'human expert performance': 160, 'image': 161, 'image analysis': 162, 'image analysis climate': 163, 'implementation': 164, 'implementation retaining': 165, 'implementation retaining theoretical': 166, 'including': 167, 'including computer': 168, 'including computer vision': 169, 'information': 170, 'information processing': 171, 'information processing distributed': 172, 'informed': 173, 'informed connectionist': 174, 'informed connectionist model': 175, 'inspection': 176, 'inspection board': 177, 'inspection board game': 178, 'inspired': 179, 'inspired information': 180, 'inspired information processing': 181, 'known': 182, 'known deep': 183, 'known deep structured': 184, 'language': 185, 'language processing': 186, 'language processing machine': 187, 'layer': 188, 'layer also': 189, 'layer also permitted': 190, 'layer bounded': 191, 'layer bounded size': 192, 'layer network': 193, 'layer unbounded': 194, 'layer unbounded width': 195, 'learning': 196, 'learning also': 197, 'learning also known': 198, 'learning architecture': 199, 'learning architecture deep': 200, 'learning layer': 201, 'learning layer also': 202, 'learning method': 203, 'learning method based': 204, 'learning modern': 205, 'learning modern variation': 206, 'learning part': 207, 'learning part broader': 208, 'learning recurrent': 209, 'learning recurrent neural': 210, 'learning refers': 211, 'learning refers use': 212, 'learning supervised': 213, 'learning supervised semi': 214, 'linear': 215, 'linear perceptron': 216, 'linear perceptron cannot': 217, 'living': 218, 'living organism': 219, 'living organism dynamic': 220, 'machine': 221, 'machine learning': 222, 'machine learning method': 223, 'machine translation': 224, 'machine translation bioinformatics': 225, 'material': 226, 'material inspection': 227, 'material inspection board': 228, 'medical': 229, 'medical image': 230, 'medical image analysis': 231, 'method': 232, 'method based': 233, 'method based artificial': 234, 'mild': 235, 'mild condition': 236, 'model': 237, 'model sake': 238, 'model sake efficiency': 239, 'modern': 240, 'modern variation': 241, 'modern variation concerned': 242, 'multiple': 243, 'multiple layer': 244, 'multiple layer network': 245, 'natural': 246, 'natural language': 247, 'natural language processing': 248, 'network': 249, 'network anns': 250, 'network anns inspired': 251, 'network convolutional': 252, 'network convolutional neural': 253, 'network deep': 254, 'network deep belief': 255, 'network deep reinforcement': 256, 'network nonpolynomial': 257, 'network nonpolynomial activation': 258, 'network representation': 259, 'network representation learning': 260, 'network tend': 261, 'network tend static': 262, 'network transformer': 263, 'network transformer applied': 264, 'neural': 265, 'neural network': 266, 'neural network anns': 267, 'neural network convolutional': 268, 'neural network deep': 269, 'neural network representation': 270, 'neural network tend': 271, 'neural network transformer': 272, 'node': 273, 'node biological': 274, 'node biological system': 275, 'nonpolynomial': 276, 'nonpolynomial activation': 277, 'nonpolynomial activation function': 278, 'number': 279, 'number layer': 280, 'number layer bounded': 281, 'one': 282, 'one hidden': 283, 'one hidden layer': 284, 'optimized': 285, 'optimized implementation': 286, 'optimized implementation retaining': 287, 'organism': 288, 'organism dynamic': 289, 'organism dynamic plastic': 290, 'part': 291, 'part broader': 292, 'part broader family': 293, 'perceptron': 294, 'perceptron cannot': 295, 'perceptron cannot universal': 296, 'performance': 297, 'performance artificial': 298, 'performance artificial neural': 299, 'permit': 300, 'permit practical': 301, 'permit practical application': 302, 'permitted': 303, 'permitted heterogeneous': 304, 'permitted heterogeneous deviate': 305, 'plastic': 306, 'plastic analogue': 307, 'plastic analogue adjective': 308, 'practical': 309, 'practical application': 310, 'practical application optimized': 311, 'processing': 312, 'processing distributed': 313, 'processing distributed communication': 314, 'processing machine': 315, 'processing machine translation': 316, 'produced': 317, 'produced result': 318, 'produced result comparable': 319, 'program': 320, 'program produced': 321, 'program produced result': 322, 'recognition': 323, 'recognition natural': 324, 'recognition natural language': 325, 'recurrent': 326, 'recurrent neural': 327, 'recurrent neural network': 328, 'refers': 329, 'refers use': 330, 'refers use multiple': 331, 'reinforcement': 332, 'reinforcement learning': 333, 'reinforcement learning recurrent': 334, 'representation': 335, 'representation learning': 336, 'result': 337, 'result comparable': 338, 'result comparable case': 339, 'retaining': 340, 'retaining theoretical': 341, 'retaining theoretical universality': 342, 'sake': 343, 'sake efficiency': 344, 'sake efficiency trainability': 345, 'science': 346, 'science material': 347, 'science material inspection': 348, 'semi': 349, 'semi supervised': 350, 'semi supervised unsupervised': 351, 'showed': 352, 'showed linear': 353, 'showed linear perceptron': 354, 'size': 355, 'size permit': 356, 'size permit practical': 357, 'specifically': 358, 'specifically artificial': 359, 'specifically artificial neural': 360, 'speech': 361, 'speech recognition': 362, 'speech recognition natural': 363, 'static': 364, 'static symbolic': 365, 'static symbolic biological': 366, 'structured': 367, 'structured learning': 368, 'structured learning part': 369, 'structured part': 370, 'supervised': 371, 'supervised semi': 372, 'supervised semi supervised': 373, 'supervised unsupervised': 374, 'supervised unsupervised deep': 375, 'surpassing': 376, 'surpassing human': 377, 'surpassing human expert': 378, 'symbolic': 379, 'symbolic biological': 380, 'symbolic biological brain': 381, 'system': 382, 'tend': 383, 'tend static': 384, 'tend static symbolic': 385, 'theoretical': 386, 'theoretical universality': 387, 'theoretical universality mild': 388, 'trainability': 389, 'trainability understandability': 390, 'trainability understandability hence': 391, 'transformer': 392, 'transformer applied': 393, 'transformer applied field': 394, 'translation': 395, 'translation bioinformatics': 396, 'translation bioinformatics drug': 397, 'unbounded': 398, 'unbounded number': 399, 'unbounded number layer': 400, 'unbounded width': 401, 'understandability': 402, 'understandability hence': 403, 'understandability hence structured': 404, 'universal': 405, 'universal classifier': 406, 'universal classifier network': 407, 'universality': 408, 'universality mild': 409, 'universality mild condition': 410, 'unsupervised': 411, 'unsupervised deep': 412, 'unsupervised deep learning': 413, 'use': 414, 'use multiple': 415, 'use multiple layer': 416, 'variation': 417, 'variation concerned': 418, 'variation concerned unbounded': 419, 'various': 420, 'various difference': 421, 'various difference biological': 422, 'vision': 423, 'vision speech': 424, 'vision speech recognition': 425, 'widely': 426, 'widely biologically': 427, 'widely biologically informed': 428, 'width': 429, 'work': 430, 'work showed': 431, 'work showed linear': 432}\n"
     ]
    }
   ],
   "source": [
    "X = vectorizer.fit_transform(corpus)\n",
    "# In a sorted way\n",
    "import collections\n",
    "print(dict(collections.OrderedDict(sorted(vectorizer.vocabulary_.items()))))"
   ]
  },
  {
   "cell_type": "code",
   "execution_count": 35,
   "id": "ef4effde",
   "metadata": {},
   "outputs": [
    {
     "data": {
      "text/plain": [
       "(7, 433)"
      ]
     },
     "execution_count": 35,
     "metadata": {},
     "output_type": "execute_result"
    }
   ],
   "source": [
    "X.toarray().shape"
   ]
  },
  {
   "cell_type": "markdown",
   "id": "ae62469c",
   "metadata": {},
   "source": [
    "##### There are 7 sentences in the corpus and each document will be represented by a vector of length 433"
   ]
  },
  {
   "cell_type": "code",
   "execution_count": 33,
   "id": "7c48b1db",
   "metadata": {},
   "outputs": [],
   "source": [
    "first_document=corpus[0]"
   ]
  },
  {
   "cell_type": "code",
   "execution_count": 34,
   "id": "c3514db0",
   "metadata": {},
   "outputs": [
    {
     "data": {
      "text/plain": [
       "array([[0.        , 0.        , 0.        , 0.        , 0.        ,\n",
       "        0.        , 0.11886579, 0.14319698, 0.14319698, 0.        ,\n",
       "        0.        , 0.        , 0.        , 0.        , 0.        ,\n",
       "        0.        , 0.        , 0.        , 0.        , 0.        ,\n",
       "        0.        , 0.        , 0.        , 0.        , 0.        ,\n",
       "        0.        , 0.        , 0.        , 0.        , 0.        ,\n",
       "        0.        , 0.10160254, 0.10160254, 0.10160254, 0.14319698,\n",
       "        0.14319698, 0.14319698, 0.        , 0.        , 0.        ,\n",
       "        0.        , 0.        , 0.        , 0.        , 0.        ,\n",
       "        0.        , 0.        , 0.        , 0.        , 0.        ,\n",
       "        0.        , 0.        , 0.        , 0.        , 0.        ,\n",
       "        0.        , 0.        , 0.        , 0.        , 0.14319698,\n",
       "        0.14319698, 0.14319698, 0.        , 0.        , 0.        ,\n",
       "        0.        , 0.        , 0.        , 0.        , 0.        ,\n",
       "        0.        , 0.        , 0.        , 0.        , 0.        ,\n",
       "        0.        , 0.        , 0.        , 0.        , 0.        ,\n",
       "        0.        , 0.        , 0.        , 0.        , 0.        ,\n",
       "        0.        , 0.        , 0.        , 0.        , 0.        ,\n",
       "        0.        , 0.        , 0.        , 0.1545427 , 0.        ,\n",
       "        0.        , 0.        , 0.        , 0.07727135, 0.14319698,\n",
       "        0.        , 0.        , 0.        , 0.        , 0.        ,\n",
       "        0.        , 0.        , 0.        , 0.14319698, 0.14319698,\n",
       "        0.        , 0.        , 0.        , 0.        , 0.        ,\n",
       "        0.        , 0.        , 0.        , 0.        , 0.        ,\n",
       "        0.        , 0.        , 0.        , 0.        , 0.        ,\n",
       "        0.        , 0.        , 0.        , 0.        , 0.        ,\n",
       "        0.        , 0.        , 0.        , 0.        , 0.        ,\n",
       "        0.        , 0.        , 0.14319698, 0.14319698, 0.14319698,\n",
       "        0.        , 0.        , 0.        , 0.        , 0.        ,\n",
       "        0.        , 0.        , 0.        , 0.        , 0.        ,\n",
       "        0.        , 0.        , 0.        , 0.        , 0.        ,\n",
       "        0.        , 0.        , 0.        , 0.        , 0.        ,\n",
       "        0.        , 0.        , 0.        , 0.        , 0.        ,\n",
       "        0.        , 0.        , 0.        , 0.        , 0.        ,\n",
       "        0.        , 0.        , 0.        , 0.        , 0.        ,\n",
       "        0.        , 0.        , 0.        , 0.        , 0.        ,\n",
       "        0.        , 0.        , 0.14319698, 0.14319698, 0.14319698,\n",
       "        0.        , 0.        , 0.        , 0.        , 0.        ,\n",
       "        0.        , 0.        , 0.        , 0.        , 0.        ,\n",
       "        0.        , 0.30908539, 0.14319698, 0.14319698, 0.        ,\n",
       "        0.        , 0.        , 0.        , 0.14319698, 0.14319698,\n",
       "        0.        , 0.        , 0.14319698, 0.14319698, 0.        ,\n",
       "        0.        , 0.        , 0.        , 0.        , 0.        ,\n",
       "        0.        , 0.        , 0.        , 0.        , 0.        ,\n",
       "        0.        , 0.11886579, 0.14319698, 0.14319698, 0.        ,\n",
       "        0.        , 0.        , 0.        , 0.        , 0.        ,\n",
       "        0.        , 0.        , 0.14319698, 0.14319698, 0.14319698,\n",
       "        0.        , 0.        , 0.        , 0.        , 0.        ,\n",
       "        0.        , 0.        , 0.        , 0.        , 0.        ,\n",
       "        0.        , 0.        , 0.        , 0.        , 0.08821212,\n",
       "        0.        , 0.        , 0.        , 0.        , 0.        ,\n",
       "        0.        , 0.        , 0.        , 0.        , 0.14319698,\n",
       "        0.14319698, 0.        , 0.        , 0.        , 0.        ,\n",
       "        0.10160254, 0.10160254, 0.        , 0.        , 0.        ,\n",
       "        0.14319698, 0.        , 0.        , 0.        , 0.        ,\n",
       "        0.        , 0.        , 0.        , 0.        , 0.        ,\n",
       "        0.        , 0.        , 0.        , 0.        , 0.        ,\n",
       "        0.        , 0.        , 0.        , 0.        , 0.        ,\n",
       "        0.        , 0.11886579, 0.14319698, 0.14319698, 0.        ,\n",
       "        0.        , 0.        , 0.        , 0.        , 0.        ,\n",
       "        0.        , 0.        , 0.        , 0.        , 0.        ,\n",
       "        0.        , 0.        , 0.        , 0.        , 0.        ,\n",
       "        0.        , 0.        , 0.        , 0.        , 0.        ,\n",
       "        0.        , 0.        , 0.        , 0.        , 0.        ,\n",
       "        0.        , 0.        , 0.        , 0.        , 0.        ,\n",
       "        0.        , 0.        , 0.        , 0.        , 0.        ,\n",
       "        0.        , 0.        , 0.        , 0.        , 0.        ,\n",
       "        0.14319698, 0.14319698, 0.        , 0.        , 0.        ,\n",
       "        0.        , 0.        , 0.        , 0.        , 0.        ,\n",
       "        0.        , 0.        , 0.        , 0.        , 0.        ,\n",
       "        0.        , 0.        , 0.        , 0.        , 0.        ,\n",
       "        0.        , 0.        , 0.        , 0.        , 0.        ,\n",
       "        0.        , 0.        , 0.        , 0.        , 0.        ,\n",
       "        0.        , 0.        , 0.11886579, 0.14319698, 0.14319698,\n",
       "        0.        , 0.        , 0.        , 0.        , 0.        ,\n",
       "        0.        , 0.        , 0.        , 0.        , 0.        ,\n",
       "        0.        , 0.        , 0.        , 0.        , 0.        ,\n",
       "        0.        , 0.        , 0.        , 0.        , 0.        ,\n",
       "        0.        , 0.        , 0.        , 0.        , 0.        ,\n",
       "        0.        , 0.        , 0.        , 0.        , 0.        ,\n",
       "        0.        , 0.        , 0.        , 0.        , 0.        ,\n",
       "        0.        , 0.        , 0.        , 0.        , 0.        ,\n",
       "        0.        , 0.        , 0.        , 0.        , 0.        ,\n",
       "        0.        , 0.        , 0.        , 0.        , 0.        ,\n",
       "        0.        , 0.        , 0.        , 0.        , 0.        ,\n",
       "        0.        , 0.        , 0.        , 0.        , 0.        ,\n",
       "        0.        , 0.        , 0.        ]])"
      ]
     },
     "execution_count": 34,
     "metadata": {},
     "output_type": "execute_result"
    }
   ],
   "source": [
    "X[0].toarray() #See the first feature is \"activation\" and this word is not present in the first document, hence it has value 0 "
   ]
  },
  {
   "cell_type": "code",
   "execution_count": 36,
   "id": "b4fb3d0d",
   "metadata": {},
   "outputs": [
    {
     "data": {
      "text/plain": [
       "(1, 433)"
      ]
     },
     "execution_count": 36,
     "metadata": {},
     "output_type": "execute_result"
    }
   ],
   "source": [
    "X[0].toarray().shape\n",
    "# Hence every document will be represented by a vector of length 433"
   ]
  }
 ],
 "metadata": {
  "kernelspec": {
   "display_name": "Python 3 (ipykernel)",
   "language": "python",
   "name": "python3"
  },
  "language_info": {
   "codemirror_mode": {
    "name": "ipython",
    "version": 3
   },
   "file_extension": ".py",
   "mimetype": "text/x-python",
   "name": "python",
   "nbconvert_exporter": "python",
   "pygments_lexer": "ipython3",
   "version": "3.9.7"
  }
 },
 "nbformat": 4,
 "nbformat_minor": 5
}
