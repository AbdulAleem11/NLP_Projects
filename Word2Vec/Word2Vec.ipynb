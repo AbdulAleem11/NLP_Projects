{
  "nbformat": 4,
  "nbformat_minor": 0,
  "metadata": {
    "colab": {
      "provenance": []
    },
    "kernelspec": {
      "name": "python3",
      "display_name": "Python 3"
    },
    "language_info": {
      "name": "python"
    }
  },
  "cells": [
    {
      "cell_type": "code",
      "execution_count": 1,
      "metadata": {
        "colab": {
          "base_uri": "https://localhost:8080/"
        },
        "id": "lGYChUqxrF0o",
        "outputId": "7e560d01-aa37-4b42-c1ff-142c1a1f2ab4"
      },
      "outputs": [
        {
          "output_type": "stream",
          "name": "stdout",
          "text": [
            "Looking in indexes: https://pypi.org/simple, https://us-python.pkg.dev/colab-wheels/public/simple/\n",
            "Requirement already satisfied: gensim in /usr/local/lib/python3.8/dist-packages (3.6.0)\n",
            "Requirement already satisfied: smart-open>=1.2.1 in /usr/local/lib/python3.8/dist-packages (from gensim) (5.2.1)\n",
            "Requirement already satisfied: six>=1.5.0 in /usr/local/lib/python3.8/dist-packages (from gensim) (1.15.0)\n",
            "Requirement already satisfied: scipy>=0.18.1 in /usr/local/lib/python3.8/dist-packages (from gensim) (1.7.3)\n",
            "Requirement already satisfied: numpy>=1.11.3 in /usr/local/lib/python3.8/dist-packages (from gensim) (1.21.6)\n"
          ]
        }
      ],
      "source": [
        "!pip install gensim"
      ]
    },
    {
      "cell_type": "code",
      "source": [
        "import gensim"
      ],
      "metadata": {
        "id": "sw53VAENrMct"
      },
      "execution_count": 2,
      "outputs": []
    },
    {
      "cell_type": "code",
      "source": [
        "from gensim.models import Word2Vec, KeyedVectors"
      ],
      "metadata": {
        "id": "Y2e99Q8irPNG"
      },
      "execution_count": 3,
      "outputs": []
    },
    {
      "cell_type": "code",
      "source": [
        "import gensim.downloader as api\n",
        "wv = api.load('word2vec-google-news-300') #Window size is 300 , this means each vector will have a fixed length of 300"
      ],
      "metadata": {
        "colab": {
          "base_uri": "https://localhost:8080/"
        },
        "id": "EwoXi0xyrumB",
        "outputId": "78303def-bad1-4025-b549-b398211efc8e"
      },
      "execution_count": 4,
      "outputs": [
        {
          "output_type": "stream",
          "name": "stdout",
          "text": [
            "[==================================================] 100.0% 1662.8/1662.8MB downloaded\n"
          ]
        }
      ]
    },
    {
      "cell_type": "code",
      "source": [
        "vec_king=wv[\"king\"]"
      ],
      "metadata": {
        "id": "uXbjPI-Yrx6n"
      },
      "execution_count": 6,
      "outputs": []
    },
    {
      "cell_type": "code",
      "source": [
        "vec_king.shape #Its a vector of length 300"
      ],
      "metadata": {
        "colab": {
          "base_uri": "https://localhost:8080/"
        },
        "id": "_dwKoXK7YbWb",
        "outputId": "750b95fd-8d0f-450f-afc3-18be71cacc29"
      },
      "execution_count": 8,
      "outputs": [
        {
          "output_type": "execute_result",
          "data": {
            "text/plain": [
              "(300,)"
            ]
          },
          "metadata": {},
          "execution_count": 8
        }
      ]
    },
    {
      "cell_type": "markdown",
      "source": [
        "### Perform word similarity tasks"
      ],
      "metadata": {
        "id": "ULbVV7U7Y-yv"
      }
    },
    {
      "cell_type": "code",
      "source": [
        "pairs = [\n",
        "    ('car', 'minivan'),   # a minivan is a kind of car\n",
        "    ('car', 'bicycle'),   # still a wheeled vehicle\n",
        "    ('car', 'airplane'),  # ok, no wheels, but still a vehicle\n",
        "    ('car', 'cereal'),    # ... and so on\n",
        "    ('car', 'communism'),\n",
        "]\n",
        "for w1, w2 in pairs:\n",
        "    print('%r\\t%r\\t%.2f' % (w1, w2, wv.similarity(w1, w2)))"
      ],
      "metadata": {
        "colab": {
          "base_uri": "https://localhost:8080/"
        },
        "id": "d7YNyxf4YkTi",
        "outputId": "ddaf8520-4753-4ee7-c223-c7e0298be4b2"
      },
      "execution_count": 9,
      "outputs": [
        {
          "output_type": "stream",
          "name": "stdout",
          "text": [
            "'car'\t'minivan'\t0.69\n",
            "'car'\t'bicycle'\t0.54\n",
            "'car'\t'airplane'\t0.42\n",
            "'car'\t'cereal'\t0.14\n",
            "'car'\t'communism'\t0.06\n"
          ]
        }
      ]
    },
    {
      "cell_type": "code",
      "source": [
        " wv.similarity('Cricket', \"Sports\")"
      ],
      "metadata": {
        "colab": {
          "base_uri": "https://localhost:8080/"
        },
        "id": "eMzI1GA6Zbq1",
        "outputId": "3969c5c3-75e7-418c-baa1-3ed60c591d09"
      },
      "execution_count": 14,
      "outputs": [
        {
          "output_type": "execute_result",
          "data": {
            "text/plain": [
              "0.41698742"
            ]
          },
          "metadata": {},
          "execution_count": 14
        }
      ]
    },
    {
      "cell_type": "markdown",
      "source": [
        "### Print the 5 most similar words to “car” or “minivan”"
      ],
      "metadata": {
        "id": "i7LjHroCY3OL"
      }
    },
    {
      "cell_type": "code",
      "source": [
        "wv.most_similar(positive=['car', 'minivan'], topn=5)"
      ],
      "metadata": {
        "colab": {
          "base_uri": "https://localhost:8080/"
        },
        "id": "G5hdKf2VYvzd",
        "outputId": "ccc2966e-09db-435d-ed0d-2cc12c44ccb6"
      },
      "execution_count": 13,
      "outputs": [
        {
          "output_type": "execute_result",
          "data": {
            "text/plain": [
              "[('SUV', 0.853219211101532),\n",
              " ('vehicle', 0.8175784349441528),\n",
              " ('pickup_truck', 0.7763689160346985),\n",
              " ('Jeep', 0.7567334175109863),\n",
              " ('Ford_Explorer', 0.756571888923645)]"
            ]
          },
          "metadata": {},
          "execution_count": 13
        }
      ]
    },
    {
      "cell_type": "markdown",
      "source": [
        "### Print most similar words to \"king\""
      ],
      "metadata": {
        "id": "OAUcHLLOZQ9l"
      }
    },
    {
      "cell_type": "code",
      "source": [
        "wv.most_similar('king')"
      ],
      "metadata": {
        "colab": {
          "base_uri": "https://localhost:8080/"
        },
        "id": "ch6la2deYzhp",
        "outputId": "5b7bbf42-e1f5-413c-8f75-2992273de09b"
      },
      "execution_count": 12,
      "outputs": [
        {
          "output_type": "execute_result",
          "data": {
            "text/plain": [
              "[('kings', 0.7138046026229858),\n",
              " ('queen', 0.6510956883430481),\n",
              " ('monarch', 0.6413194537162781),\n",
              " ('crown_prince', 0.6204220056533813),\n",
              " ('prince', 0.6159993410110474),\n",
              " ('sultan', 0.5864822864532471),\n",
              " ('ruler', 0.5797567367553711),\n",
              " ('princes', 0.5646552443504333),\n",
              " ('Prince_Paras', 0.543294370174408),\n",
              " ('throne', 0.5422104597091675)]"
            ]
          },
          "metadata": {},
          "execution_count": 12
        }
      ]
    },
    {
      "cell_type": "markdown",
      "source": [
        "#### Vector algebra of a king to queen"
      ],
      "metadata": {
        "id": "E3zZ26jqZ0Yv"
      }
    },
    {
      "cell_type": "code",
      "source": [
        "vec=wv[\"king\"]-wv[\"man\"]+wv[\"woman\"] #See how close this is to resembling queen\n",
        "wv.most_similar([vec])"
      ],
      "metadata": {
        "colab": {
          "base_uri": "https://localhost:8080/"
        },
        "id": "IlaRxhu7ZO6X",
        "outputId": "cb7d3fdb-5003-439c-bf16-308a5218da47"
      },
      "execution_count": 18,
      "outputs": [
        {
          "output_type": "execute_result",
          "data": {
            "text/plain": [
              "[('king', 0.8449392318725586),\n",
              " ('queen', 0.7300517559051514),\n",
              " ('monarch', 0.6454660892486572),\n",
              " ('princess', 0.6156251430511475),\n",
              " ('crown_prince', 0.5818676948547363),\n",
              " ('prince', 0.5777117609977722),\n",
              " ('kings', 0.5613663792610168),\n",
              " ('sultan', 0.5376776456832886),\n",
              " ('Queen_Consort', 0.5344247817993164),\n",
              " ('queens', 0.5289887189865112)]"
            ]
          },
          "metadata": {},
          "execution_count": 18
        }
      ]
    },
    {
      "cell_type": "code",
      "source": [],
      "metadata": {
        "id": "44Sq6RHnZjEC"
      },
      "execution_count": null,
      "outputs": []
    }
  ]
}